{
 "cells": [
  {
   "cell_type": "code",
   "execution_count": 112,
   "id": "6c45c162",
   "metadata": {},
   "outputs": [],
   "source": [
    "import sys\n",
    "\n",
    "sys.path.append(\"..\")"
   ]
  },
  {
   "cell_type": "code",
   "execution_count": 173,
   "id": "20c7abe6",
   "metadata": {},
   "outputs": [
    {
     "name": "stdout",
     "output_type": "stream",
     "text": [
      "The autoreload extension is already loaded. To reload it, use:\n",
      "  %reload_ext autoreload\n"
     ]
    }
   ],
   "source": [
    "%load_ext autoreload\n",
    "%autoreload 2"
   ]
  },
  {
   "cell_type": "code",
   "execution_count": 304,
   "id": "bdee15eb",
   "metadata": {},
   "outputs": [],
   "source": [
    "from library.algorithms.genetic_algorithms.crossover import partial_crossover\n",
    "from library.algorithms.genetic_algorithms import mutation, selection, algorithm,crossover\n",
    "from musical_festival_lineup.musical_festival_lineup_genetic import MusicalFestivalGASolution\n",
    "from musical_festival_lineup.musical_festival_data import MusicalFestivalData\n",
    "from musical_festival_lineup.utils import visualize_musical_lineup\n"
   ]
  },
  {
   "cell_type": "markdown",
   "id": "4abcf18a",
   "metadata": {},
   "source": [
    "## 1. Exploring Crossover, mutation, selection functions"
   ]
  },
  {
   "cell_type": "markdown",
   "id": "a7ef04b6",
   "metadata": {},
   "source": [
    "### 1.1. Crossover"
   ]
  },
  {
   "cell_type": "markdown",
   "id": "a8ce0958",
   "metadata": {},
   "source": [
    "### 1.1.1. Partial Crossover method"
   ]
  },
  {
   "cell_type": "code",
   "execution_count": 154,
   "id": "56c1e970",
   "metadata": {},
   "outputs": [
    {
     "name": "stdout",
     "output_type": "stream",
     "text": [
      "Parent 1 [8, 9, 10, 11, 12, 13, 14, 15]\n",
      "Parent 2 [15, 12, 8, 9, 13, 10, 11, 14]\n",
      "Crossover point1 4 e crossover point2 6\n",
      "OffSpring 1: segment [12, 13] maps {12: 13, 13: 10}\n",
      "OffSpring 2: segment [13, 10] maps {13: 12, 10: 13}\n",
      "OffSpring 1: head [15, 10, 8, 9] | segment [12, 13] | tail  [11, 14]\n",
      "OffSpring 2: head [8, 9, 12, 11] | segment [13, 10] | tail  [14, 15]\n"
     ]
    },
    {
     "data": {
      "text/plain": [
       "([15, 10, 8, 9, 12, 13, 11, 14], [8, 9, 12, 11, 13, 10, 14, 15])"
      ]
     },
     "execution_count": 154,
     "metadata": {},
     "output_type": "execute_result"
    }
   ],
   "source": [
    "partial_crossover([8,9,10,11,12,13,14,15],[15,12,8,9,13,10,11,14], verbose=True)"
   ]
  },
  {
   "cell_type": "markdown",
   "id": "b7241bec",
   "metadata": {},
   "source": [
    "### 1.2. Mutation \n"
   ]
  },
  {
   "cell_type": "markdown",
   "id": "1883ee43",
   "metadata": {},
   "source": [
    "#### 1.2.1. Swap Mutation"
   ]
  },
  {
   "cell_type": "code",
   "execution_count": 163,
   "id": "c58f9f1a",
   "metadata": {},
   "outputs": [
    {
     "data": {
      "text/plain": [
       "[8, 9, 10, 11, 12, 13, 14, 15]"
      ]
     },
     "execution_count": 163,
     "metadata": {},
     "output_type": "execute_result"
    }
   ],
   "source": [
    "mutation.swap_mutation([8,9,10,11,12,13,14,15], mut_prob=0.2)"
   ]
  },
  {
   "cell_type": "markdown",
   "id": "0419ac72",
   "metadata": {},
   "source": [
    "#### 1.2.2. Insert Mutation"
   ]
  },
  {
   "cell_type": "code",
   "execution_count": 184,
   "id": "e39d440b",
   "metadata": {},
   "outputs": [
    {
     "name": "stdout",
     "output_type": "stream",
     "text": [
      "Mutation happened.\n",
      "Random indexes. Index to pop: 2. Index to get insertion 4\n",
      "Removing value 10\n"
     ]
    },
    {
     "data": {
      "text/plain": [
       "[8, 9, 11, 12, 10, 13, 14, 15]"
      ]
     },
     "execution_count": 184,
     "metadata": {},
     "output_type": "execute_result"
    }
   ],
   "source": [
    "mutation.insert_mutation([8,9,10,11,12,13,14,15], mut_prob=0.2, verbose=True)"
   ]
  },
  {
   "cell_type": "markdown",
   "id": "7920926c",
   "metadata": {},
   "source": [
    "#### 1.2.3. Reverse Mutation"
   ]
  },
  {
   "cell_type": "code",
   "execution_count": 196,
   "id": "1528a841",
   "metadata": {},
   "outputs": [
    {
     "name": "stdout",
     "output_type": "stream",
     "text": [
      "Mutation happened.\n",
      "Random indexes. Reverse from idx: 0 to 4\n",
      "List to reverse [8, 9, 10, 11]\n",
      "Reversed [11, 10, 9, 8]\n",
      "New Repr [11, 10, 9, 8, 12, 13, 14, 15]\n"
     ]
    },
    {
     "data": {
      "text/plain": [
       "[11, 10, 9, 8, 12, 13, 14, 15]"
      ]
     },
     "execution_count": 196,
     "metadata": {},
     "output_type": "execute_result"
    }
   ],
   "source": [
    "mutation.reverse_mutation([8,9,10,11,12,13,14,15], mut_prob=0.2, verbose=True)"
   ]
  },
  {
   "cell_type": "markdown",
   "id": "17466f68",
   "metadata": {},
   "source": [
    "#### 1.2.4. Rand Choice Mutation"
   ]
  },
  {
   "cell_type": "code",
   "execution_count": 277,
   "id": "21b09884",
   "metadata": {},
   "outputs": [
    {
     "name": "stdout",
     "output_type": "stream",
     "text": [
      "Mutation happened.\n",
      "Selected mutation is insert\n",
      "Mutation happened.\n",
      "Random indexes. Index to pop: 1. Index to get insertion 2\n",
      "Removing value 9\n",
      "The new representation after mutation is [8, 10, 9, 11, 12, 13, 14, 15]\n"
     ]
    },
    {
     "data": {
      "text/plain": [
       "[8, 10, 9, 11, 12, 13, 14, 15]"
      ]
     },
     "execution_count": 277,
     "metadata": {},
     "output_type": "execute_result"
    }
   ],
   "source": [
    "mutation.rand_choice_mutation([8,9,10,11,12,13,14,15], mut_prob=0.2, verbose=True)"
   ]
  },
  {
   "cell_type": "markdown",
   "id": "31d62741",
   "metadata": {},
   "source": [
    "### 2. Applying genetic Algorithm"
   ]
  },
  {
   "cell_type": "markdown",
   "id": "36647e49",
   "metadata": {},
   "source": [
    "- Definition of Initial Population "
   ]
  },
  {
   "cell_type": "code",
   "execution_count": 291,
   "id": "c6decdd2",
   "metadata": {},
   "outputs": [],
   "source": [
    "data=MusicalFestivalData()"
   ]
  },
  {
   "cell_type": "code",
   "execution_count": 296,
   "id": "9f423048",
   "metadata": {},
   "outputs": [],
   "source": [
    "def get_initial_population( mutation_function, crossover_function ,size=100):\n",
    "    initial_population=[\n",
    "        MusicalFestivalGASolution(\n",
    "            data=data,\n",
    "            mutation_function=mutation_function,\n",
    "            crossover_function=crossover_function\n",
    "\n",
    "        )\n",
    "        for _ in range(size)\n",
    "    ]\n",
    "    return initial_population"
   ]
  },
  {
   "cell_type": "markdown",
   "id": "eb72e005",
   "metadata": {},
   "source": [
    "#### 2.1. Selection X  and Crossover: Partial and Mutation: Swap"
   ]
  },
  {
   "cell_type": "markdown",
   "id": "70b07d26",
   "metadata": {},
   "source": [
    "- POP_SIZE=50 , max_gen=100, elitism=True, mut_prob=0.8"
   ]
  },
  {
   "cell_type": "code",
   "execution_count": null,
   "id": "a5ef6fa7",
   "metadata": {},
   "outputs": [
    {
     "name": "stdout",
     "output_type": "stream",
     "text": [
      "Best solution [31, 27, 16, 33, 34, 23, 18, 6, 20, 32, 8, 1, 0, 25, 14, 10, 19, 17, 15, 22, 12, 5, 2, 30, 4, 29, 13, 11, 28, 24, 21, 9, 3, 7, 26]\n",
      "Fitness <bound method MusicalFestivalSolution.fitness of [31, 27, 16, 33, 34, 23, 18, 6, 20, 32, 8, 1, 0, 25, 14, 10, 19, 17, 15, 22, 12, 5, 2, 30, 4, 29, 13, 11, 28, 24, 21, 9, 3, 7, 26]>\n"
     ]
    }
   ],
   "source": [
    "initial_population=get_initial_population(mutation_function=mutation.swap_mutation, crossover_function=crossover.partial_crossover, size=50)\n",
    "best_solution=algorithm.genetic_algorithm(\n",
    "    initial_population=initial_population,\n",
    "    selection_algorithm=selection.fitness_proportionate_selection,\n",
    "    max_gen=100,\n",
    "    mut_prob=0.8,\n",
    "    maximization=True,\n",
    "    verbose=False,\n",
    "    elitism=True,\n",
    ")\n",
    "print(\"Best solution\", best_solution)\n",
    "print(\"Fitness\", best_solution.fitness())"
   ]
  },
  {
   "cell_type": "code",
   "execution_count": 303,
   "id": "4814545b",
   "metadata": {},
   "outputs": [
    {
     "name": "stdout",
     "output_type": "stream",
     "text": [
      "Fitness 1.5055172413793103\n"
     ]
    }
   ],
   "source": [
    "print(\"Fitness\", best_solution.fitness())"
   ]
  },
  {
   "cell_type": "code",
   "execution_count": 305,
   "id": "d022ac68",
   "metadata": {},
   "outputs": [
    {
     "data": {
      "text/html": [
       "<div>\n",
       "<style scoped>\n",
       "    .dataframe tbody tr th:only-of-type {\n",
       "        vertical-align: middle;\n",
       "    }\n",
       "\n",
       "    .dataframe tbody tr th {\n",
       "        vertical-align: top;\n",
       "    }\n",
       "\n",
       "    .dataframe thead th {\n",
       "        text-align: right;\n",
       "    }\n",
       "</style>\n",
       "<table border=\"1\" class=\"dataframe\">\n",
       "  <thead>\n",
       "    <tr style=\"text-align: right;\">\n",
       "      <th></th>\n",
       "      <th>Slot</th>\n",
       "      <th>Stage 1</th>\n",
       "      <th>Stage 2</th>\n",
       "      <th>Stage 3</th>\n",
       "      <th>Stage 4</th>\n",
       "      <th>Stage 5</th>\n",
       "    </tr>\n",
       "  </thead>\n",
       "  <tbody>\n",
       "    <tr>\n",
       "      <th>0</th>\n",
       "      <td>Slot 1</td>\n",
       "      <td>31: The Jazz Nomads|Jazz|64</td>\n",
       "      <td>27: Hypnotic Echoes|Rock|77</td>\n",
       "      <td>16: Mystic Rhythms|Classical|78</td>\n",
       "      <td>33: Cosmic Frequency|Rock|53</td>\n",
       "      <td>34: Parallel Dimension|Electronic|58</td>\n",
       "    </tr>\n",
       "    <tr>\n",
       "      <th>1</th>\n",
       "      <td>Slot 2</td>\n",
       "      <td>23: Electric Serpents|Electronic|99</td>\n",
       "      <td>18: Velvet Underground|Rock|72</td>\n",
       "      <td>6: Aurora Skies|Pop|75</td>\n",
       "      <td>20: The Sonic Drifters|Rock|88</td>\n",
       "      <td>32: The Bassline Architects|Hip-Hop|61</td>\n",
       "    </tr>\n",
       "    <tr>\n",
       "      <th>2</th>\n",
       "      <td>Slot 3</td>\n",
       "      <td>8: Crimson Harmony|Classical|20</td>\n",
       "      <td>1: Solar Flare|Electronic|78</td>\n",
       "      <td>0: Midnight Echo|Rock|75</td>\n",
       "      <td>25: Rhythm Alchemy|Jazz|94</td>\n",
       "      <td>14: Synthwave Saints|Rock|94</td>\n",
       "    </tr>\n",
       "    <tr>\n",
       "      <th>3</th>\n",
       "      <td>Slot 4</td>\n",
       "      <td>10: The Wandering Notes|Jazz|84</td>\n",
       "      <td>19: Astral Tide|Electronic|69</td>\n",
       "      <td>17: Nightfall Sonata|Classical|84</td>\n",
       "      <td>15: Golden Ember|Rock|61</td>\n",
       "      <td>22: Quantum Beat|Hip-Hop|96</td>\n",
       "    </tr>\n",
       "    <tr>\n",
       "      <th>4</th>\n",
       "      <td>Slot 5</td>\n",
       "      <td>12: Blue Horizon|Pop|51</td>\n",
       "      <td>5: Echo Chamber|Electronic|98</td>\n",
       "      <td>2: Velvet Pulse|Jazz|35</td>\n",
       "      <td>30: Turbo Vortex|Rock|53</td>\n",
       "      <td>4: The Silver Owls|Classical|85</td>\n",
       "    </tr>\n",
       "    <tr>\n",
       "      <th>5</th>\n",
       "      <td>Slot 6</td>\n",
       "      <td>29: Harmonic Dissonance|Classical|96</td>\n",
       "      <td>13: Lunar Spectrum|Rock|99</td>\n",
       "      <td>11: Phantom Groove|Hip-Hop|47</td>\n",
       "      <td>28: The Polyrhythm Syndicate|Jazz|66</td>\n",
       "      <td>24: Shadow Cadence|Jazz|66</td>\n",
       "    </tr>\n",
       "    <tr>\n",
       "      <th>6</th>\n",
       "      <td>Slot 7</td>\n",
       "      <td>21: Celestial Voyage|Electronic|95</td>\n",
       "      <td>9: Deep Resonance|Jazz|90</td>\n",
       "      <td>3: Neon Reverie|Electronic|100</td>\n",
       "      <td>7: Static Mirage|Rock|94</td>\n",
       "      <td>26: Cloud Nine Collective|Pop|97</td>\n",
       "    </tr>\n",
       "  </tbody>\n",
       "</table>\n",
       "</div>"
      ],
      "text/plain": [
       "     Slot                               Stage 1  \\\n",
       "0  Slot 1           31: The Jazz Nomads|Jazz|64   \n",
       "1  Slot 2   23: Electric Serpents|Electronic|99   \n",
       "2  Slot 3       8: Crimson Harmony|Classical|20   \n",
       "3  Slot 4       10: The Wandering Notes|Jazz|84   \n",
       "4  Slot 5               12: Blue Horizon|Pop|51   \n",
       "5  Slot 6  29: Harmonic Dissonance|Classical|96   \n",
       "6  Slot 7    21: Celestial Voyage|Electronic|95   \n",
       "\n",
       "                          Stage 2                            Stage 3  \\\n",
       "0     27: Hypnotic Echoes|Rock|77    16: Mystic Rhythms|Classical|78   \n",
       "1  18: Velvet Underground|Rock|72             6: Aurora Skies|Pop|75   \n",
       "2    1: Solar Flare|Electronic|78           0: Midnight Echo|Rock|75   \n",
       "3   19: Astral Tide|Electronic|69  17: Nightfall Sonata|Classical|84   \n",
       "4   5: Echo Chamber|Electronic|98            2: Velvet Pulse|Jazz|35   \n",
       "5      13: Lunar Spectrum|Rock|99      11: Phantom Groove|Hip-Hop|47   \n",
       "6       9: Deep Resonance|Jazz|90     3: Neon Reverie|Electronic|100   \n",
       "\n",
       "                                Stage 4  \\\n",
       "0          33: Cosmic Frequency|Rock|53   \n",
       "1        20: The Sonic Drifters|Rock|88   \n",
       "2            25: Rhythm Alchemy|Jazz|94   \n",
       "3              15: Golden Ember|Rock|61   \n",
       "4              30: Turbo Vortex|Rock|53   \n",
       "5  28: The Polyrhythm Syndicate|Jazz|66   \n",
       "6              7: Static Mirage|Rock|94   \n",
       "\n",
       "                                  Stage 5  \n",
       "0    34: Parallel Dimension|Electronic|58  \n",
       "1  32: The Bassline Architects|Hip-Hop|61  \n",
       "2            14: Synthwave Saints|Rock|94  \n",
       "3             22: Quantum Beat|Hip-Hop|96  \n",
       "4         4: The Silver Owls|Classical|85  \n",
       "5              24: Shadow Cadence|Jazz|66  \n",
       "6        26: Cloud Nine Collective|Pop|97  "
      ]
     },
     "execution_count": 305,
     "metadata": {},
     "output_type": "execute_result"
    }
   ],
   "source": [
    "visualize_musical_lineup(best_solution.repr,data.artists)"
   ]
  },
  {
   "cell_type": "markdown",
   "id": "1eda37b1",
   "metadata": {},
   "source": [
    "#### 2.1. Selection X  and Crossover: Partial and Mutation: random_choice"
   ]
  },
  {
   "cell_type": "markdown",
   "id": "31904baf",
   "metadata": {},
   "source": []
  },
  {
   "cell_type": "markdown",
   "id": "fbe6533c",
   "metadata": {},
   "source": [
    "- POP_SIZE=50 , max_gen=100, elitism=True, mut_prob=0.8"
   ]
  },
  {
   "cell_type": "code",
   "execution_count": null,
   "id": "e754088c",
   "metadata": {},
   "outputs": [
    {
     "name": "stdout",
     "output_type": "stream",
     "text": [
      "Best solution [12, 32, 21, 31, 18, 3, 0, 19, 28, 25, 4, 27, 30, 11, 2, 17, 34, 9, 13, 26, 16, 14, 24, 7, 5, 1, 15, 6, 8, 33, 20, 23, 10, 29, 22]\n",
      "Fitness <bound method MusicalFestivalSolution.fitness of [12, 32, 21, 31, 18, 3, 0, 19, 28, 25, 4, 27, 30, 11, 2, 17, 34, 9, 13, 26, 16, 14, 24, 7, 5, 1, 15, 6, 8, 33, 20, 23, 10, 29, 22]>\n"
     ]
    }
   ],
   "source": [
    "initial_population=get_initial_population(mutation_function=mutation.rand_choice_mutation, crossover_function=crossover.partial_crossover, size=50)\n",
    "best_solution=algorithm.genetic_algorithm(\n",
    "    initial_population=initial_population,\n",
    "    selection_algorithm=selection.fitness_proportionate_selection,\n",
    "    max_gen=100,\n",
    "    mut_prob=0.8,\n",
    "    maximization=True,\n",
    "    verbose=False,\n",
    "    elitism=True,\n",
    ")\n",
    "print(\"Best solution\", best_solution)\n",
    "print(\"Fitness\", best_solution.fitness())"
   ]
  },
  {
   "cell_type": "code",
   "execution_count": 309,
   "id": "0b93e631",
   "metadata": {},
   "outputs": [
    {
     "name": "stdout",
     "output_type": "stream",
     "text": [
      "Fitness 1.4262909301651696\n"
     ]
    }
   ],
   "source": [
    "print(\"Fitness\", best_solution.fitness())"
   ]
  },
  {
   "cell_type": "markdown",
   "id": "4af52be5",
   "metadata": {},
   "source": []
  },
  {
   "cell_type": "markdown",
   "id": "56ab9b82",
   "metadata": {},
   "source": []
  }
 ],
 "metadata": {
  "kernelspec": {
   "display_name": "Python 3 (ipykernel)",
   "language": "python",
   "name": "python3"
  },
  "language_info": {
   "codemirror_mode": {
    "name": "ipython",
    "version": 3
   },
   "file_extension": ".py",
   "mimetype": "text/x-python",
   "name": "python",
   "nbconvert_exporter": "python",
   "pygments_lexer": "ipython3",
   "version": "3.12.3"
  }
 },
 "nbformat": 4,
 "nbformat_minor": 5
}
