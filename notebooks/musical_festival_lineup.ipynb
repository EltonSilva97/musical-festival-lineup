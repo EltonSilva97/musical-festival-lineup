{
 "cells": [
  {
   "cell_type": "code",
   "execution_count": 144,
   "id": "d720dec2",
   "metadata": {},
   "outputs": [],
   "source": [
    "from musical_festival_lineup.musical_festival_lineup import MusicalFestivalSolution\n",
    "from musical_festival_lineup.musical_festival_data import MusicalFestivalData\n",
    "from musical_festival_lineup.utils import visualize_musical_lineup\n",
    "import numpy as np\n",
    "import time"
   ]
  },
  {
   "cell_type": "code",
   "execution_count": 130,
   "id": "2e6ac9d8",
   "metadata": {},
   "outputs": [
    {
     "name": "stdout",
     "output_type": "stream",
     "text": [
      "The autoreload extension is already loaded. To reload it, use:\n",
      "  %reload_ext autoreload\n"
     ]
    }
   ],
   "source": [
    "%load_ext autoreload\n",
    "%autoreload 2"
   ]
  },
  {
   "cell_type": "markdown",
   "id": "2ab12c7f",
   "metadata": {},
   "source": [
    "### 1. Structuring the problem"
   ]
  },
  {
   "cell_type": "markdown",
   "id": "8b5fc029",
   "metadata": {},
   "source": [
    "The  objective  is  to  design  the  optimal  festival  lineup  by  scheduling  artists  across  stages  and \n",
    "time  slots while:\n",
    "- Maximizing  prime  slot  popularity\n",
    "- Ensuring  genre  diversity  among  stages \n",
    "- Minimizing  fan conflicts  at each time slot. \n",
    "\n",
    "__`Details`__\n",
    "\n",
    "- **Artists**: An  artist is  characterized  by  a  popularity  score  (from  0  to  100) a genre  and  fan  base.\n",
    "    <br>This information with be on __`artists`__ from musical_festival_data\n",
    "\n",
    "- **Conflicts**:   with  other  artists  (score  from  0  to  1).  Conflicts  arise  when  artists  with  overlapping \n",
    "fan  bases  perform  at  the  same  time  but  on  different  stages,  which  can  negatively  impact \n",
    "attendance.\n",
    "    <br>This information will be on __`conflits`__ from musical_festival_data\n"
   ]
  },
  {
   "cell_type": "markdown",
   "id": "73465e4c",
   "metadata": {},
   "source": [
    "### 2. Defining a  solution/individual"
   ]
  },
  {
   "cell_type": "markdown",
   "id": "013d2e77",
   "metadata": {},
   "source": [
    "Each  individual  represents  a  festival  lineup,  specifying  which  artist  plays  on  which  stage  and \n",
    "at  which  time  slot. \n",
    "These  are  the  constraints  : \n",
    "- Each artist is assigned to exactly one stage and slot \n",
    "- All time slots start and end at the same time. \n",
    "- All stages have the same amount of slots\n",
    "- These artists should be distributed across  **5 stages  with  7 time slots each**\n",
    "\n",
    "__`Important`__ \n",
    "<br>Any  lineup  where  an  artist  is  assigned  to  **multiple  time  slots  or \n",
    "left  unassigned** is  not  part  of  the  search  space  and  is  not  considered  a  solution.  It  is \n",
    "forbidden to generate such an arrangement during evolution. \n"
   ]
  },
  {
   "cell_type": "markdown",
   "id": "d8de78be",
   "metadata": {},
   "source": [
    "__`we propose a  having  a solution as`__:\n",
    "\n",
    "- A string of 5 (stages)*7(slots)= 35 numbers of **1** to **35**\n",
    "- As for the genetic algorithms, we should have string of the same size, we will be appending a 0 to 1 digit numbers.\n",
    "- So the solution will be a string of 35 * 2 (two character)= so will have i string of 70\n",
    "\n",
    "Here a individual of our problem:"
   ]
  },
  {
   "cell_type": "code",
   "execution_count": null,
   "id": "ff30a1b8",
   "metadata": {},
   "outputs": [],
   "source": [
    "data=MusicalFestivalData()\n"
   ]
  },
  {
   "cell_type": "code",
   "execution_count": 89,
   "id": "d6babde0",
   "metadata": {},
   "outputs": [
    {
     "data": {
      "text/plain": [
       "'0719180922120231240032173408010630102923211516111404282003261325270533'"
      ]
     },
     "execution_count": 89,
     "metadata": {},
     "output_type": "execute_result"
    }
   ],
   "source": [
    "# Python code to show a random initialized solution\n",
    "lineup=MusicalFestivalSolution(data=data)\n",
    "lineup.repr"
   ]
  },
  {
   "cell_type": "markdown",
   "id": "2b655590",
   "metadata": {},
   "source": [
    "- Having that, we have to options:\n",
    "- 1. The first 7 numbers represent the stage 1 , having each of the 7 representing the slots in  order (1 to 7) by the slot?\n",
    "- 2. Or the first 5 would represent the slot 1 (first time slot) , having the each of the 5 representing the stages in order (1 to 5)?\n",
    "\n",
    "For that we choose the option 2, because how our fitness will be defined. It is well explained in the session 3, when defining fitness\n"
   ]
  },
  {
   "cell_type": "code",
   "execution_count": 91,
   "id": "5faa7862",
   "metadata": {},
   "outputs": [
    {
     "data": {
      "text/html": [
       "<div>\n",
       "<style scoped>\n",
       "    .dataframe tbody tr th:only-of-type {\n",
       "        vertical-align: middle;\n",
       "    }\n",
       "\n",
       "    .dataframe tbody tr th {\n",
       "        vertical-align: top;\n",
       "    }\n",
       "\n",
       "    .dataframe thead th {\n",
       "        text-align: right;\n",
       "    }\n",
       "</style>\n",
       "<table border=\"1\" class=\"dataframe\">\n",
       "  <thead>\n",
       "    <tr style=\"text-align: right;\">\n",
       "      <th></th>\n",
       "      <th>Slot</th>\n",
       "      <th>Stage 1</th>\n",
       "      <th>Stage 2</th>\n",
       "      <th>Stage 3</th>\n",
       "      <th>Stage 4</th>\n",
       "      <th>Stage 5</th>\n",
       "    </tr>\n",
       "  </thead>\n",
       "  <tbody>\n",
       "    <tr>\n",
       "      <th>0</th>\n",
       "      <td>Slot 1</td>\n",
       "      <td>7: Static Mirage|Rock|94</td>\n",
       "      <td>19: Astral Tide|Electronic|69</td>\n",
       "      <td>18: Velvet Underground|Rock|72</td>\n",
       "      <td>9: Deep Resonance|Jazz|90</td>\n",
       "      <td>22: Quantum Beat|Hip-Hop|96</td>\n",
       "    </tr>\n",
       "    <tr>\n",
       "      <th>1</th>\n",
       "      <td>Slot 2</td>\n",
       "      <td>12: Blue Horizon|Pop|51</td>\n",
       "      <td>2: Velvet Pulse|Jazz|35</td>\n",
       "      <td>31: The Jazz Nomads|Jazz|64</td>\n",
       "      <td>24: Shadow Cadence|Jazz|66</td>\n",
       "      <td>0: Midnight Echo|Rock|75</td>\n",
       "    </tr>\n",
       "    <tr>\n",
       "      <th>2</th>\n",
       "      <td>Slot 3</td>\n",
       "      <td>32: The Bassline Architects|Hip-Hop|61</td>\n",
       "      <td>17: Nightfall Sonata|Classical|84</td>\n",
       "      <td>34: Parallel Dimension|Electronic|58</td>\n",
       "      <td>8: Crimson Harmony|Classical|20</td>\n",
       "      <td>1: Solar Flare|Electronic|78</td>\n",
       "    </tr>\n",
       "    <tr>\n",
       "      <th>3</th>\n",
       "      <td>Slot 4</td>\n",
       "      <td>6: Aurora Skies|Pop|75</td>\n",
       "      <td>30: Turbo Vortex|Rock|53</td>\n",
       "      <td>10: The Wandering Notes|Jazz|84</td>\n",
       "      <td>29: Harmonic Dissonance|Classical|96</td>\n",
       "      <td>23: Electric Serpents|Electronic|99</td>\n",
       "    </tr>\n",
       "    <tr>\n",
       "      <th>4</th>\n",
       "      <td>Slot 5</td>\n",
       "      <td>21: Celestial Voyage|Electronic|95</td>\n",
       "      <td>15: Golden Ember|Rock|61</td>\n",
       "      <td>16: Mystic Rhythms|Classical|78</td>\n",
       "      <td>11: Phantom Groove|Hip-Hop|47</td>\n",
       "      <td>14: Synthwave Saints|Rock|94</td>\n",
       "    </tr>\n",
       "    <tr>\n",
       "      <th>5</th>\n",
       "      <td>Slot 6</td>\n",
       "      <td>4: The Silver Owls|Classical|85</td>\n",
       "      <td>28: The Polyrhythm Syndicate|Jazz|66</td>\n",
       "      <td>20: The Sonic Drifters|Rock|88</td>\n",
       "      <td>3: Neon Reverie|Electronic|100</td>\n",
       "      <td>26: Cloud Nine Collective|Pop|97</td>\n",
       "    </tr>\n",
       "    <tr>\n",
       "      <th>6</th>\n",
       "      <td>Slot 7</td>\n",
       "      <td>13: Lunar Spectrum|Rock|99</td>\n",
       "      <td>25: Rhythm Alchemy|Jazz|94</td>\n",
       "      <td>27: Hypnotic Echoes|Rock|77</td>\n",
       "      <td>5: Echo Chamber|Electronic|98</td>\n",
       "      <td>33: Cosmic Frequency|Rock|53</td>\n",
       "    </tr>\n",
       "  </tbody>\n",
       "</table>\n",
       "</div>"
      ],
      "text/plain": [
       "     Slot                                 Stage 1  \\\n",
       "0  Slot 1                7: Static Mirage|Rock|94   \n",
       "1  Slot 2                 12: Blue Horizon|Pop|51   \n",
       "2  Slot 3  32: The Bassline Architects|Hip-Hop|61   \n",
       "3  Slot 4                  6: Aurora Skies|Pop|75   \n",
       "4  Slot 5      21: Celestial Voyage|Electronic|95   \n",
       "5  Slot 6         4: The Silver Owls|Classical|85   \n",
       "6  Slot 7              13: Lunar Spectrum|Rock|99   \n",
       "\n",
       "                                Stage 2                               Stage 3  \\\n",
       "0         19: Astral Tide|Electronic|69        18: Velvet Underground|Rock|72   \n",
       "1               2: Velvet Pulse|Jazz|35           31: The Jazz Nomads|Jazz|64   \n",
       "2     17: Nightfall Sonata|Classical|84  34: Parallel Dimension|Electronic|58   \n",
       "3              30: Turbo Vortex|Rock|53       10: The Wandering Notes|Jazz|84   \n",
       "4              15: Golden Ember|Rock|61       16: Mystic Rhythms|Classical|78   \n",
       "5  28: The Polyrhythm Syndicate|Jazz|66        20: The Sonic Drifters|Rock|88   \n",
       "6            25: Rhythm Alchemy|Jazz|94           27: Hypnotic Echoes|Rock|77   \n",
       "\n",
       "                                Stage 4                              Stage 5  \n",
       "0             9: Deep Resonance|Jazz|90          22: Quantum Beat|Hip-Hop|96  \n",
       "1            24: Shadow Cadence|Jazz|66             0: Midnight Echo|Rock|75  \n",
       "2       8: Crimson Harmony|Classical|20         1: Solar Flare|Electronic|78  \n",
       "3  29: Harmonic Dissonance|Classical|96  23: Electric Serpents|Electronic|99  \n",
       "4         11: Phantom Groove|Hip-Hop|47         14: Synthwave Saints|Rock|94  \n",
       "5        3: Neon Reverie|Electronic|100     26: Cloud Nine Collective|Pop|97  \n",
       "6         5: Echo Chamber|Electronic|98         33: Cosmic Frequency|Rock|53  "
      ]
     },
     "execution_count": 91,
     "metadata": {},
     "output_type": "execute_result"
    }
   ],
   "source": [
    "visualize_musical_lineup(lineup.repr,data.artists)"
   ]
  },
  {
   "cell_type": "markdown",
   "id": "dff8542a",
   "metadata": {},
   "source": [
    "### 3. Defining fitness"
   ]
  },
  {
   "cell_type": "markdown",
   "id": "312fea55",
   "metadata": {},
   "source": [
    "\" The  quality  of  a  festival  lineup  is  determined  by  balancing  __`three  equally`__  important \n",
    "objectives** ,  each  contributing  to  an  overall  score.  Since  these  objectives  have  different \n",
    "scales,  ** they  must  be  normalized  to  the  same  range  (between  0  and  1)  to  ensure  they \n",
    "contribute equally to the final fitness score.\n",
    "<br>\n",
    " These are the objectives: \n",
    " \n",
    "__`Prime  Slot  Popularity`__  :  The  most  popular  artists  should  be  scheduled  in  the  prime \n",
    "slots  (**the  last  time  slot  on  each  stage**).  This  score  is  calculated  by  normalizing  the \n",
    "total  popularity  of  artists  in  prime  slots  against  the  maximum  possible  total  popularity \n",
    "(e.g. if only most popular artists - score 100 - were scheduled on the prime slot). \n",
    "\n",
    "__`Genre  Diversity`__  :  A  diverse  distribution  of  **genres  among  stages  in  each  time  slot**\n",
    "improves  the  festival  experience.  This  score  is  determined  by  normalizing  the \n",
    "number  of  unique  genres  in  each  slot  relative  to  the  maximum  possible  number  of \n",
    "unique  genres  (e.g.  if  only  different  genres  were  scheduled  in  that  time  slot)  .  Then \n",
    "you take the average among time slots. \n",
    "\n",
    "__`Conflict  Penalty`__  : ** Fan  conflicts  occur  when  artists  with  overlapping  audiences \n",
    "perform  at  the  same  time  on  different  stages**. \n",
    " This  score  is  calculated  by  normalizing \n",
    "the  total  conflict  value  in  each  slot  against  the  worst  possible  conflict  scenario  (e.g. \n",
    "where  all  artists  with  maximum  conflict  are  scheduled  together).  Then  you  take  the \n",
    "average  among  time  slots.  Since  conflicts  negatively  impact  the  lineup,  this  is  a \n",
    "penalization  score. \n",
    "\""
   ]
  },
  {
   "cell_type": "markdown",
   "id": "9a82c77d",
   "metadata": {},
   "source": []
  },
  {
   "cell_type": "markdown",
   "id": "e87fd65f",
   "metadata": {},
   "source": [
    "__`Prime  Slot  Popularity`__  : "
   ]
  },
  {
   "cell_type": "code",
   "execution_count": 11,
   "id": "ea687d89",
   "metadata": {},
   "outputs": [
    {
     "data": {
      "text/plain": [
       "493"
      ]
     },
     "execution_count": 11,
     "metadata": {},
     "output_type": "execute_result"
    }
   ],
   "source": [
    "data._get_max_popularity()"
   ]
  },
  {
   "cell_type": "code",
   "execution_count": 9,
   "id": "1c23bcc4",
   "metadata": {},
   "outputs": [
    {
     "data": {
      "text/plain": [
       "394"
      ]
     },
     "execution_count": 9,
     "metadata": {},
     "output_type": "execute_result"
    }
   ],
   "source": [
    "popularity_sum=data._get_sum_popularity([3,23,5,26])\n",
    "popularity_sum"
   ]
  },
  {
   "cell_type": "markdown",
   "id": "20c22305",
   "metadata": {},
   "source": [
    "__`Genre  Diversity`__  : "
   ]
  },
  {
   "cell_type": "markdown",
   "id": "e734b5bc",
   "metadata": {},
   "source": [
    "- Get maximum number of genres per slot, can not be greater than the total number of stages, which is 5"
   ]
  },
  {
   "cell_type": "code",
   "execution_count": 12,
   "id": "a4502f44",
   "metadata": {},
   "outputs": [
    {
     "data": {
      "text/plain": [
       "5"
      ]
     },
     "execution_count": 12,
     "metadata": {},
     "output_type": "execute_result"
    }
   ],
   "source": [
    "#Genre  Diversity\n",
    "data._get_max_distinct_genre_per_slot()"
   ]
  },
  {
   "cell_type": "markdown",
   "id": "914bc80b",
   "metadata": {},
   "source": [
    "- Get the number of distinct genres having a list of artistsIds\n"
   ]
  },
  {
   "cell_type": "code",
   "execution_count": 13,
   "id": "a8ac2f14",
   "metadata": {},
   "outputs": [
    {
     "data": {
      "text/plain": [
       "3"
      ]
     },
     "execution_count": 13,
     "metadata": {},
     "output_type": "execute_result"
    }
   ],
   "source": [
    "data._get_count_distinct_genres(artists_ids_list=[0,1,10])"
   ]
  },
  {
   "cell_type": "markdown",
   "id": "ef292444",
   "metadata": {},
   "source": [
    "__`Penalty Conflict`__  : "
   ]
  },
  {
   "cell_type": "code",
   "execution_count": 72,
   "id": "efb723d3",
   "metadata": {},
   "outputs": [
    {
     "name": "stdout",
     "output_type": "stream",
     "text": [
      " 274.1 Dif in time -0.0007872581481933594\n"
     ]
    }
   ],
   "source": [
    "start=time.time()\n",
    "sum_conflicts=data._get_sum_conflits(list(range(34)))\n",
    "print(f\" {sum_conflicts} Dif in time {start-time.time()}\")"
   ]
  },
  {
   "cell_type": "code",
   "execution_count": 73,
   "id": "d3ef4f2a",
   "metadata": {},
   "outputs": [
    {
     "name": "stdout",
     "output_type": "stream",
     "text": [
      " 274.1000000000001 Dif in time -0.0020122528076171875\n"
     ]
    }
   ],
   "source": [
    "start=time.time()\n",
    "sum_conflicts=data._get_sum_conflits_loop(list(range(34)))\n",
    "print(f\" {sum_conflicts} Dif in time {start-time.time()}\")"
   ]
  },
  {
   "cell_type": "markdown",
   "id": "0870f8c0",
   "metadata": {},
   "source": [
    "__`Penalty Conflict`__  - Max conflict: "
   ]
  },
  {
   "cell_type": "code",
   "execution_count": 175,
   "id": "5414a267",
   "metadata": {},
   "outputs": [
    {
     "data": {
      "text/plain": [
       "np.float64(5.0)"
      ]
     },
     "execution_count": 175,
     "metadata": {},
     "output_type": "execute_result"
    }
   ],
   "source": [
    "data._get_max_worst_conflict_loop()\n"
   ]
  },
  {
   "cell_type": "code",
   "execution_count": 156,
   "id": "a88e0fb1",
   "metadata": {},
   "outputs": [
    {
     "data": {
      "text/plain": [
       "np.float64(5.0)"
      ]
     },
     "execution_count": 156,
     "metadata": {},
     "output_type": "execute_result"
    }
   ],
   "source": [
    "data._get_max_worst_conflict()"
   ]
  },
  {
   "cell_type": "code",
   "execution_count": 164,
   "id": "bd0d2954",
   "metadata": {},
   "outputs": [
    {
     "data": {
      "text/plain": [
       "'0709162406192703102528230800183217203304313022293411050115022621131412'"
      ]
     },
     "execution_count": 164,
     "metadata": {},
     "output_type": "execute_result"
    }
   ],
   "source": [
    "lineup.repr"
   ]
  },
  {
   "cell_type": "code",
   "execution_count": 174,
   "id": "72b8a478",
   "metadata": {},
   "outputs": [
    {
     "data": {
      "text/plain": [
       "[19, 27, 3, 10, 25]"
      ]
     },
     "execution_count": 174,
     "metadata": {},
     "output_type": "execute_result"
    }
   ],
   "source": [
    "lineup._get_slot_repr_list(1)"
   ]
  },
  {
   "cell_type": "code",
   "execution_count": 165,
   "id": "ca94a89b",
   "metadata": {},
   "outputs": [
    {
     "data": {
      "text/plain": [
       "[7,\n",
       " 9,\n",
       " 16,\n",
       " 24,\n",
       " 6,\n",
       " 19,\n",
       " 27,\n",
       " 3,\n",
       " 10,\n",
       " 25,\n",
       " 28,\n",
       " 23,\n",
       " 8,\n",
       " 0,\n",
       " 18,\n",
       " 32,\n",
       " 17,\n",
       " 20,\n",
       " 33,\n",
       " 4,\n",
       " 31,\n",
       " 30,\n",
       " 22,\n",
       " 29,\n",
       " 34,\n",
       " 11,\n",
       " 5,\n",
       " 1,\n",
       " 15,\n",
       " 2,\n",
       " 26,\n",
       " 21,\n",
       " 13,\n",
       " 14,\n",
       " 12]"
      ]
     },
     "execution_count": 165,
     "metadata": {},
     "output_type": "execute_result"
    }
   ],
   "source": [
    "lineup._get_repr_list()"
   ]
  },
  {
   "cell_type": "code",
   "execution_count": 166,
   "id": "0b7399e0",
   "metadata": {},
   "outputs": [
    {
     "name": "stdout",
     "output_type": "stream",
     "text": [
      "[7, 9, 16, 24, 6]\n",
      "[19, 27, 3, 10, 25]\n",
      "[28, 23, 8, 0, 18]\n",
      "[32, 17, 20, 33, 4]\n",
      "[31, 30, 22, 29, 34]\n",
      "[11, 5, 1, 15, 2]\n",
      "[26, 21, 13, 14, 12]\n"
     ]
    }
   ],
   "source": [
    "lineup.fitness()"
   ]
  }
 ],
 "metadata": {
  "kernelspec": {
   "display_name": "Python 3 (ipykernel)",
   "language": "python",
   "name": "python3"
  },
  "language_info": {
   "codemirror_mode": {
    "name": "ipython",
    "version": 3
   },
   "file_extension": ".py",
   "mimetype": "text/x-python",
   "name": "python",
   "nbconvert_exporter": "python",
   "pygments_lexer": "ipython3",
   "version": "3.12.9"
  }
 },
 "nbformat": 4,
 "nbformat_minor": 5
}
