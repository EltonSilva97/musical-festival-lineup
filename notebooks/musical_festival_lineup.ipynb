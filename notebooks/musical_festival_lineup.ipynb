{
 "cells": [
  {
   "cell_type": "code",
   "execution_count": 166,
   "id": "d720dec2",
   "metadata": {},
   "outputs": [],
   "source": [
    "from musical_festival_lineup.musical_festival_lineup import MusicalFestivalSolution\n",
    "from musical_festival_lineup.musical_festival_data import MusicalFestivalData\n",
    "from musical_festival_lineup.utils import visualize_musical_lineup\n",
    "import numpy as np\n",
    "import time"
   ]
  },
  {
   "cell_type": "code",
   "execution_count": 167,
   "id": "2e6ac9d8",
   "metadata": {},
   "outputs": [
    {
     "name": "stdout",
     "output_type": "stream",
     "text": [
      "The autoreload extension is already loaded. To reload it, use:\n",
      "  %reload_ext autoreload\n"
     ]
    }
   ],
   "source": [
    "%load_ext autoreload\n",
    "%autoreload 2"
   ]
  },
  {
   "cell_type": "markdown",
   "id": "2ab12c7f",
   "metadata": {},
   "source": [
    "### 1. Structuring the problem"
   ]
  },
  {
   "cell_type": "markdown",
   "id": "8b5fc029",
   "metadata": {},
   "source": [
    "The  objective  is  to  design  the  optimal  festival  lineup  by  scheduling  artists  across  stages  and \n",
    "time  slots while:\n",
    "- Maximizing  prime  slot  popularity\n",
    "- Ensuring  genre  diversity  among  stages \n",
    "- Minimizing  fan conflicts  at each time slot. \n",
    "\n",
    "__`Details`__\n",
    "\n",
    "- **Artists**: An  artist is  characterized  by  a  popularity  score  (from  0  to  100) a genre  and  fan  base.\n",
    "    <br>This information with be on __`artists`__ from musical_festival_data\n",
    "\n",
    "- **Conflicts**:   with  other  artists  (score  from  0  to  1).  Conflicts  arise  when  artists  with  overlapping \n",
    "fan  bases  perform  at  the  same  time  but  on  different  stages,  which  can  negatively  impact \n",
    "attendance.\n",
    "    <br>This information will be on __`conflits`__ from musical_festival_data\n"
   ]
  },
  {
   "cell_type": "markdown",
   "id": "73465e4c",
   "metadata": {},
   "source": [
    "### 2. Defining a  solution/individual"
   ]
  },
  {
   "cell_type": "markdown",
   "id": "013d2e77",
   "metadata": {},
   "source": [
    "Each  individual  represents  a  festival  lineup,  specifying  which  artist  plays  on  which  stage  and \n",
    "at  which  time  slot. \n",
    "These  are  the  constraints  : \n",
    "- Each artist is assigned to exactly one stage and slot \n",
    "- All time slots start and end at the same time. \n",
    "- All stages have the same amount of slots\n",
    "- These artists should be distributed across  **5 stages  with  7 time slots each**\n",
    "\n",
    "__`Important`__ \n",
    "<br>Any  lineup  where  an  artist  is  assigned  to  **multiple  time  slots  or \n",
    "left  unassigned** is  not  part  of  the  search  space  and  is  not  considered  a  solution.  It  is \n",
    "forbidden to generate such an arrangement during evolution. \n"
   ]
  },
  {
   "cell_type": "markdown",
   "id": "d8de78be",
   "metadata": {},
   "source": [
    "__`we propose a  having  a solution as`__:\n",
    "\n",
    "- A string of 5 (stages)*7(slots)= 35 numbers of **1** to **35**\n",
    "- As for the genetic algorithms, we should have string of the same size, we will be appending a 0 to 1 digit numbers.\n",
    "- So the solution will be a string of 35 * 2 (two character)= so will have i string of 70\n",
    "\n",
    "Here a individual of our problem:"
   ]
  },
  {
   "cell_type": "code",
   "execution_count": 168,
   "id": "ff30a1b8",
   "metadata": {},
   "outputs": [],
   "source": [
    "data=MusicalFestivalData()\n"
   ]
  },
  {
   "cell_type": "code",
   "execution_count": 169,
   "id": "d6babde0",
   "metadata": {},
   "outputs": [
    {
     "data": {
      "text/plain": [
       "'0714342204191812012916000821103115030902231117252005242632301306332827'"
      ]
     },
     "execution_count": 169,
     "metadata": {},
     "output_type": "execute_result"
    }
   ],
   "source": [
    "# Python code to show a random initialized solution\n",
    "lineup=MusicalFestivalSolution(data=data)\n",
    "lineup.repr"
   ]
  },
  {
   "cell_type": "markdown",
   "id": "2b655590",
   "metadata": {},
   "source": [
    "- Having that, we have to options:\n",
    "- 1. The first 7 numbers represent the stage 1 , having each of the 7 representing the slots in  order (1 to 7) by the slot?\n",
    "- 2. Or the first 5 would represent the slot 1 (first time slot) , having the each of the 5 representing the stages in order (1 to 5)?\n",
    "\n",
    "For that we choose the option 2, because how our fitness will be defined. It is well explained in the session 3, when defining fitness\n"
   ]
  },
  {
   "cell_type": "code",
   "execution_count": 170,
   "id": "5faa7862",
   "metadata": {},
   "outputs": [
    {
     "data": {
      "text/html": [
       "<div>\n",
       "<style scoped>\n",
       "    .dataframe tbody tr th:only-of-type {\n",
       "        vertical-align: middle;\n",
       "    }\n",
       "\n",
       "    .dataframe tbody tr th {\n",
       "        vertical-align: top;\n",
       "    }\n",
       "\n",
       "    .dataframe thead th {\n",
       "        text-align: right;\n",
       "    }\n",
       "</style>\n",
       "<table border=\"1\" class=\"dataframe\">\n",
       "  <thead>\n",
       "    <tr style=\"text-align: right;\">\n",
       "      <th></th>\n",
       "      <th>Slot</th>\n",
       "      <th>Stage 1</th>\n",
       "      <th>Stage 2</th>\n",
       "      <th>Stage 3</th>\n",
       "      <th>Stage 4</th>\n",
       "      <th>Stage 5</th>\n",
       "    </tr>\n",
       "  </thead>\n",
       "  <tbody>\n",
       "    <tr>\n",
       "      <th>0</th>\n",
       "      <td>Slot 1</td>\n",
       "      <td>7: Static Mirage|Rock|94</td>\n",
       "      <td>14: Synthwave Saints|Rock|94</td>\n",
       "      <td>34: Parallel Dimension|Electronic|58</td>\n",
       "      <td>22: Quantum Beat|Hip-Hop|96</td>\n",
       "      <td>4: The Silver Owls|Classical|85</td>\n",
       "    </tr>\n",
       "    <tr>\n",
       "      <th>1</th>\n",
       "      <td>Slot 2</td>\n",
       "      <td>19: Astral Tide|Electronic|69</td>\n",
       "      <td>18: Velvet Underground|Rock|72</td>\n",
       "      <td>12: Blue Horizon|Pop|51</td>\n",
       "      <td>1: Solar Flare|Electronic|78</td>\n",
       "      <td>29: Harmonic Dissonance|Classical|96</td>\n",
       "    </tr>\n",
       "    <tr>\n",
       "      <th>2</th>\n",
       "      <td>Slot 3</td>\n",
       "      <td>16: Mystic Rhythms|Classical|78</td>\n",
       "      <td>0: Midnight Echo|Rock|75</td>\n",
       "      <td>8: Crimson Harmony|Classical|20</td>\n",
       "      <td>21: Celestial Voyage|Electronic|95</td>\n",
       "      <td>10: The Wandering Notes|Jazz|84</td>\n",
       "    </tr>\n",
       "    <tr>\n",
       "      <th>3</th>\n",
       "      <td>Slot 4</td>\n",
       "      <td>31: The Jazz Nomads|Jazz|64</td>\n",
       "      <td>15: Golden Ember|Rock|61</td>\n",
       "      <td>3: Neon Reverie|Electronic|100</td>\n",
       "      <td>9: Deep Resonance|Jazz|90</td>\n",
       "      <td>2: Velvet Pulse|Jazz|35</td>\n",
       "    </tr>\n",
       "    <tr>\n",
       "      <th>4</th>\n",
       "      <td>Slot 5</td>\n",
       "      <td>23: Electric Serpents|Electronic|99</td>\n",
       "      <td>11: Phantom Groove|Hip-Hop|47</td>\n",
       "      <td>17: Nightfall Sonata|Classical|84</td>\n",
       "      <td>25: Rhythm Alchemy|Jazz|94</td>\n",
       "      <td>20: The Sonic Drifters|Rock|88</td>\n",
       "    </tr>\n",
       "    <tr>\n",
       "      <th>5</th>\n",
       "      <td>Slot 6</td>\n",
       "      <td>5: Echo Chamber|Electronic|98</td>\n",
       "      <td>24: Shadow Cadence|Jazz|66</td>\n",
       "      <td>26: Cloud Nine Collective|Pop|97</td>\n",
       "      <td>32: The Bassline Architects|Hip-Hop|61</td>\n",
       "      <td>30: Turbo Vortex|Rock|53</td>\n",
       "    </tr>\n",
       "    <tr>\n",
       "      <th>6</th>\n",
       "      <td>Slot 7</td>\n",
       "      <td>13: Lunar Spectrum|Rock|99</td>\n",
       "      <td>6: Aurora Skies|Pop|75</td>\n",
       "      <td>33: Cosmic Frequency|Rock|53</td>\n",
       "      <td>28: The Polyrhythm Syndicate|Jazz|66</td>\n",
       "      <td>27: Hypnotic Echoes|Rock|77</td>\n",
       "    </tr>\n",
       "  </tbody>\n",
       "</table>\n",
       "</div>"
      ],
      "text/plain": [
       "     Slot                              Stage 1  \\\n",
       "0  Slot 1             7: Static Mirage|Rock|94   \n",
       "1  Slot 2        19: Astral Tide|Electronic|69   \n",
       "2  Slot 3      16: Mystic Rhythms|Classical|78   \n",
       "3  Slot 4          31: The Jazz Nomads|Jazz|64   \n",
       "4  Slot 5  23: Electric Serpents|Electronic|99   \n",
       "5  Slot 6        5: Echo Chamber|Electronic|98   \n",
       "6  Slot 7           13: Lunar Spectrum|Rock|99   \n",
       "\n",
       "                          Stage 2                               Stage 3  \\\n",
       "0    14: Synthwave Saints|Rock|94  34: Parallel Dimension|Electronic|58   \n",
       "1  18: Velvet Underground|Rock|72               12: Blue Horizon|Pop|51   \n",
       "2        0: Midnight Echo|Rock|75       8: Crimson Harmony|Classical|20   \n",
       "3        15: Golden Ember|Rock|61        3: Neon Reverie|Electronic|100   \n",
       "4   11: Phantom Groove|Hip-Hop|47     17: Nightfall Sonata|Classical|84   \n",
       "5      24: Shadow Cadence|Jazz|66      26: Cloud Nine Collective|Pop|97   \n",
       "6          6: Aurora Skies|Pop|75          33: Cosmic Frequency|Rock|53   \n",
       "\n",
       "                                  Stage 4  \\\n",
       "0             22: Quantum Beat|Hip-Hop|96   \n",
       "1            1: Solar Flare|Electronic|78   \n",
       "2      21: Celestial Voyage|Electronic|95   \n",
       "3               9: Deep Resonance|Jazz|90   \n",
       "4              25: Rhythm Alchemy|Jazz|94   \n",
       "5  32: The Bassline Architects|Hip-Hop|61   \n",
       "6    28: The Polyrhythm Syndicate|Jazz|66   \n",
       "\n",
       "                                Stage 5  \n",
       "0       4: The Silver Owls|Classical|85  \n",
       "1  29: Harmonic Dissonance|Classical|96  \n",
       "2       10: The Wandering Notes|Jazz|84  \n",
       "3               2: Velvet Pulse|Jazz|35  \n",
       "4        20: The Sonic Drifters|Rock|88  \n",
       "5              30: Turbo Vortex|Rock|53  \n",
       "6           27: Hypnotic Echoes|Rock|77  "
      ]
     },
     "execution_count": 170,
     "metadata": {},
     "output_type": "execute_result"
    }
   ],
   "source": [
    "visualize_musical_lineup(lineup.repr,data.artists)"
   ]
  },
  {
   "cell_type": "markdown",
   "id": "dff8542a",
   "metadata": {},
   "source": [
    "### 3. Defining fitness"
   ]
  },
  {
   "cell_type": "markdown",
   "id": "312fea55",
   "metadata": {},
   "source": [
    "\" The  quality  of  a  festival  lineup  is  determined  by  balancing  __`three  equally`__  important \n",
    "objectives** ,  each  contributing  to  an  overall  score.  Since  these  objectives  have  different \n",
    "scales,  ** they  must  be  normalized  to  the  same  range  (between  0  and  1)  to  ensure  they \n",
    "contribute equally to the final fitness score.\n",
    "<br>\n",
    " These are the objectives: \n",
    " \n",
    "__`Prime  Slot  Popularity`__  :  The  most  popular  artists  should  be  scheduled  in  the  prime \n",
    "slots  (**the  last  time  slot  on  each  stage**).  This  score  is  calculated  by  normalizing  the \n",
    "total  popularity  of  artists  in  prime  slots  against  the  maximum  possible  total  popularity \n",
    "(e.g. if only most popular artists - score 100 - were scheduled on the prime slot). \n",
    "\n",
    "__`Genre  Diversity`__  :  A  diverse  distribution  of  **genres  among  stages  in  each  time  slot**\n",
    "improves  the  festival  experience.  This  score  is  determined  by  normalizing  the \n",
    "number  of  unique  genres  in  each  slot  relative  to  the  maximum  possible  number  of \n",
    "unique  genres  (e.g.  if  only  different  genres  were  scheduled  in  that  time  slot)  .  Then \n",
    "you take the average among time slots. \n",
    "\n",
    "__`Conflict  Penalty`__  : ** Fan  conflicts  occur  when  artists  with  overlapping  audiences \n",
    "perform  at  the  same  time  on  different  stages**. \n",
    " This  score  is  calculated  by  normalizing \n",
    "the  total  conflict  value  in  each  slot  against  the  worst  possible  conflict  scenario  (e.g. \n",
    "where  all  artists  with  maximum  conflict  are  scheduled  together).  Then  you  take  the \n",
    "average  among  time  slots.  Since  conflicts  negatively  impact  the  lineup,  this  is  a \n",
    "penalization  score. \n",
    "\""
   ]
  },
  {
   "cell_type": "markdown",
   "id": "9a82c77d",
   "metadata": {},
   "source": []
  },
  {
   "cell_type": "markdown",
   "id": "e87fd65f",
   "metadata": {},
   "source": [
    "__`Prime  Slot  Popularity`__  "
   ]
  },
  {
   "cell_type": "markdown",
   "id": "e638e062",
   "metadata": {},
   "source": [
    "1.  Maximum  possible  total  popularity, having into account that There is 5 stages, so we eill be summing the 5(NUM STAGES) largest"
   ]
  },
  {
   "cell_type": "code",
   "execution_count": 171,
   "id": "cc3f2f12",
   "metadata": {},
   "outputs": [
    {
     "data": {
      "text/plain": [
       "493"
      ]
     },
     "execution_count": 171,
     "metadata": {},
     "output_type": "execute_result"
    }
   ],
   "source": [
    "data.max_popularity_in_prime_slot"
   ]
  },
  {
   "cell_type": "markdown",
   "id": "8e92900a",
   "metadata": {},
   "source": [
    "2. Total  popularity  of  artists: <br>\n",
    "For that, it was defined a function that receives artists Ids and returns the popularity for that specifics Ids. <br>\n",
    "Lets test it!\n",
    "\n"
   ]
  },
  {
   "cell_type": "code",
   "execution_count": 172,
   "id": "ea687d89",
   "metadata": {},
   "outputs": [
    {
     "data": {
      "text/plain": [
       "1031"
      ]
     },
     "execution_count": 172,
     "metadata": {},
     "output_type": "execute_result"
    }
   ],
   "source": [
    "#Summing popularity of all artists\n",
    "data.get_sum_popularity(list(range(14)))"
   ]
  },
  {
   "cell_type": "code",
   "execution_count": 173,
   "id": "5f8ff584",
   "metadata": {},
   "outputs": [
    {
     "data": {
      "text/plain": [
       "298"
      ]
     },
     "execution_count": 173,
     "metadata": {},
     "output_type": "execute_result"
    }
   ],
   "source": [
    "#Summing popularity of [1,2,3,4]\n",
    "data.get_sum_popularity([1,2,3,4])"
   ]
  },
  {
   "cell_type": "markdown",
   "id": "4312923d",
   "metadata": {},
   "source": [
    "3. Normalizing the popularity against the max number of popularity"
   ]
  },
  {
   "cell_type": "code",
   "execution_count": 174,
   "id": "b7179929",
   "metadata": {},
   "outputs": [
    {
     "data": {
      "text/plain": [
       "0.6044624746450304"
      ]
     },
     "execution_count": 174,
     "metadata": {},
     "output_type": "execute_result"
    }
   ],
   "source": [
    "lineup._get_popularity_normalized([1,2,3,4])"
   ]
  },
  {
   "cell_type": "markdown",
   "id": "20c22305",
   "metadata": {},
   "source": [
    "__`Genre  Diversity`__  : "
   ]
  },
  {
   "cell_type": "markdown",
   "id": "e734b5bc",
   "metadata": {},
   "source": [
    "1. Get maximum number of genres per slot, can not be greater than the total number of stages, which is 5"
   ]
  },
  {
   "cell_type": "code",
   "execution_count": 175,
   "id": "a4502f44",
   "metadata": {},
   "outputs": [
    {
     "data": {
      "text/plain": [
       "5"
      ]
     },
     "execution_count": 175,
     "metadata": {},
     "output_type": "execute_result"
    }
   ],
   "source": [
    "#Genre  Diversity\n",
    "data.max_distinct_genre_per_slot"
   ]
  },
  {
   "cell_type": "markdown",
   "id": "914bc80b",
   "metadata": {},
   "source": [
    "2. Number of distinct genres : <br>\n",
    "For that, it was defined a function that receives artists Ids and returns distinct genres in that list of specifics Ids. <br>\n",
    "Lets test it!\n"
   ]
  },
  {
   "cell_type": "code",
   "execution_count": 176,
   "id": "a8ac2f14",
   "metadata": {},
   "outputs": [
    {
     "data": {
      "text/plain": [
       "3"
      ]
     },
     "execution_count": 176,
     "metadata": {},
     "output_type": "execute_result"
    }
   ],
   "source": [
    "data.get_count_distinct_genres(artists_ids_list=[0,1,10,2])"
   ]
  },
  {
   "cell_type": "markdown",
   "id": "7481e095",
   "metadata": {},
   "source": [
    "3. Normalizing the genres against the max number of distinct genres"
   ]
  },
  {
   "cell_type": "code",
   "execution_count": 177,
   "id": "84fbbd5d",
   "metadata": {},
   "outputs": [
    {
     "data": {
      "text/plain": [
       "0.6"
      ]
     },
     "execution_count": 177,
     "metadata": {},
     "output_type": "execute_result"
    }
   ],
   "source": [
    "lineup._get_genre_diversity_normalized(artists_ids_list=[0,1,10])"
   ]
  },
  {
   "cell_type": "markdown",
   "id": "ef292444",
   "metadata": {},
   "source": [
    "__`Penalty Conflict`__  : "
   ]
  },
  {
   "cell_type": "markdown",
   "id": "d2d17311",
   "metadata": {},
   "source": [
    "1. Get maximum possible conflift, the  worst  possible  conflict  scenario, so for that we get the top K worst case scenerio. <br>\n",
    " What is K?\n",
    " Is the numbers os conflits in a slot, which is the combination of 5 elements when grouping in two so, we will have C5,2, tthat is equal to 10.\n",
    " So will will be choosing the top 10 worst conflits\n"
   ]
  },
  {
   "cell_type": "code",
   "execution_count": 178,
   "id": "a88e0fb1",
   "metadata": {},
   "outputs": [
    {
     "data": {
      "text/plain": [
       "np.float64(10.0)"
      ]
     },
     "execution_count": 178,
     "metadata": {},
     "output_type": "execute_result"
    }
   ],
   "source": [
    "data.max_worst_conflit_per_slot"
   ]
  },
  {
   "cell_type": "markdown",
   "id": "cde86f96",
   "metadata": {},
   "source": [
    "2. The  Total  conflict  value  in  each  slot : <br>\n",
    "For that, it was defined a function that receives artists Ids and sum of all conflicts in the list. <br>\n",
    "Lets test it!\n"
   ]
  },
  {
   "cell_type": "code",
   "execution_count": 179,
   "id": "a1815a84",
   "metadata": {},
   "outputs": [
    {
     "data": {
      "text/plain": [
       "np.float64(1.8)"
      ]
     },
     "execution_count": 179,
     "metadata": {},
     "output_type": "execute_result"
    }
   ],
   "source": [
    "data.get_sum_conflicts(artists_ids_list=[3,1,10])"
   ]
  },
  {
   "cell_type": "code",
   "execution_count": 180,
   "id": "c0ef320b",
   "metadata": {},
   "outputs": [
    {
     "data": {
      "text/plain": [
       "np.float64(5.75)"
      ]
     },
     "execution_count": 180,
     "metadata": {},
     "output_type": "execute_result"
    }
   ],
   "source": [
    "data.get_sum_conflicts(artists_ids_list=[32, 29, 25, 13, 30])"
   ]
  },
  {
   "cell_type": "code",
   "execution_count": 181,
   "id": "0fb8c90f",
   "metadata": {},
   "outputs": [
    {
     "data": {
      "text/plain": [
       "np.float64(0.9)"
      ]
     },
     "execution_count": 181,
     "metadata": {},
     "output_type": "execute_result"
    }
   ],
   "source": [
    "data.get_sum_conflicts(artists_ids_list=[2,10])"
   ]
  },
  {
   "cell_type": "markdown",
   "id": "53a0f298",
   "metadata": {},
   "source": [
    "3. Normalizing the conflicts against the worst conflit scenario"
   ]
  },
  {
   "cell_type": "code",
   "execution_count": 182,
   "id": "5055dd05",
   "metadata": {},
   "outputs": [
    {
     "data": {
      "text/plain": [
       "np.float64(0.18)"
      ]
     },
     "execution_count": 182,
     "metadata": {},
     "output_type": "execute_result"
    }
   ],
   "source": [
    "lineup._get_conflicts_normalized(artists_ids_list=[3,1,10])"
   ]
  },
  {
   "cell_type": "code",
   "execution_count": 183,
   "id": "4d98755e",
   "metadata": {},
   "outputs": [
    {
     "data": {
      "text/plain": [
       "np.float64(0.575)"
      ]
     },
     "execution_count": 183,
     "metadata": {},
     "output_type": "execute_result"
    }
   ],
   "source": [
    "lineup._get_conflicts_normalized(artists_ids_list=[32, 29, 25, 13, 30])"
   ]
  },
  {
   "cell_type": "markdown",
   "id": "c7cb40d4",
   "metadata": {},
   "source": []
  },
  {
   "cell_type": "markdown",
   "id": "9f9fb731",
   "metadata": {},
   "source": [
    "##### 3.2 Other important functions in the solution"
   ]
  },
  {
   "cell_type": "code",
   "execution_count": 184,
   "id": "1c47f9f9",
   "metadata": {},
   "outputs": [
    {
     "data": {
      "text/plain": [
       "'0714342204191812012916000821103115030902231117252005242632301306332827'"
      ]
     },
     "execution_count": 184,
     "metadata": {},
     "output_type": "execute_result"
    }
   ],
   "source": [
    "lineup.repr"
   ]
  },
  {
   "cell_type": "markdown",
   "id": "6faf9b3a",
   "metadata": {},
   "source": [
    "- Get the list of artists Ids in a Slot, Slot is a parameter"
   ]
  },
  {
   "cell_type": "code",
   "execution_count": 185,
   "id": "72b8a478",
   "metadata": {},
   "outputs": [
    {
     "data": {
      "text/plain": [
       "[19, 18, 12, 1, 29]"
      ]
     },
     "execution_count": 185,
     "metadata": {},
     "output_type": "execute_result"
    }
   ],
   "source": [
    "lineup._get_slot_repr_list(1)"
   ]
  },
  {
   "cell_type": "code",
   "execution_count": 186,
   "id": "ff41c8c2",
   "metadata": {},
   "outputs": [
    {
     "data": {
      "text/plain": [
       "[7, 14, 34, 22, 4]"
      ]
     },
     "execution_count": 186,
     "metadata": {},
     "output_type": "execute_result"
    }
   ],
   "source": [
    "lineup._get_slot_repr_list(0)"
   ]
  },
  {
   "cell_type": "markdown",
   "id": "7fcb3fe5",
   "metadata": {},
   "source": [
    "##### 3.3 Fitness"
   ]
  },
  {
   "cell_type": "code",
   "execution_count": 187,
   "id": "dd3eed16",
   "metadata": {},
   "outputs": [
    {
     "name": "stdout",
     "output_type": "stream",
     "text": [
      "Slot of artists: [3, 8, 27, 12, 32]\n",
      "Slot 0: Conflitcs: 0.5, genres: 1.0, sum_popularity: 0\n",
      "Slot 0: List of  Conflitcs: [np.float64(0.5)], List of genres: [1.0], Popularity of the prime slot: 0\n",
      "Slot of artists: [11, 23, 30, 34, 6]\n",
      "Slot 1: Conflitcs: 0.635, genres: 0.8, sum_popularity: 0\n",
      "Slot 1: List of  Conflitcs: [np.float64(0.5), np.float64(0.635)], List of genres: [1.0, 0.8], Popularity of the prime slot: 0\n",
      "Slot of artists: [20, 21, 22, 9, 7]\n",
      "Slot 2: Conflitcs: 0.5200000000000001, genres: 0.8, sum_popularity: 0\n",
      "Slot 2: List of  Conflitcs: [np.float64(0.5), np.float64(0.635), np.float64(0.5200000000000001)], List of genres: [1.0, 0.8, 0.8], Popularity of the prime slot: 0\n",
      "Slot of artists: [28, 26, 1, 2, 18]\n",
      "Slot 3: Conflitcs: 0.6300000000000001, genres: 0.8, sum_popularity: 0\n",
      "Slot 3: List of  Conflitcs: [np.float64(0.5), np.float64(0.635), np.float64(0.5200000000000001), np.float64(0.6300000000000001)], List of genres: [1.0, 0.8, 0.8, 0.8], Popularity of the prime slot: 0\n",
      "Slot of artists: [5, 29, 25, 16, 17]\n",
      "Slot 4: Conflitcs: 0.63, genres: 0.6, sum_popularity: 0\n",
      "Slot 4: List of  Conflitcs: [np.float64(0.5), np.float64(0.635), np.float64(0.5200000000000001), np.float64(0.6300000000000001), np.float64(0.63)], List of genres: [1.0, 0.8, 0.8, 0.8, 0.6], Popularity of the prime slot: 0\n",
      "Slot of artists: [14, 13, 10, 19, 33]\n",
      "Slot 5: Conflitcs: 0.7100000000000001, genres: 0.6, sum_popularity: 0\n",
      "Slot 5: List of  Conflitcs: [np.float64(0.5), np.float64(0.635), np.float64(0.5200000000000001), np.float64(0.6300000000000001), np.float64(0.63), np.float64(0.7100000000000001)], List of genres: [1.0, 0.8, 0.8, 0.8, 0.6, 0.6], Popularity of the prime slot: 0\n",
      "Slot of artists: [24, 4, 31, 15, 0]\n",
      "Slot 6: Conflitcs: 0.37, genres: 0.6, sum_popularity: 0.7119675456389453\n",
      "Slot 6: List of  Conflitcs: [np.float64(0.5), np.float64(0.635), np.float64(0.5200000000000001), np.float64(0.6300000000000001), np.float64(0.63), np.float64(0.7100000000000001), np.float64(0.37)], List of genres: [1.0, 0.8, 0.8, 0.8, 0.6, 0.6, 0.6], Popularity of the prime slot: 0.7119675456389453\n",
      "Average of conflits: 0.5707142857142857, Average of distinct genres 0.7428571428571429, and Popularity in prime slot: 0.7119675456389453\n",
      "Fitness: 0.8841104027818023\n"
     ]
    },
    {
     "data": {
      "text/plain": [
       "np.float64(0.8841104027818023)"
      ]
     },
     "execution_count": 187,
     "metadata": {},
     "output_type": "execute_result"
    }
   ],
   "source": [
    "#Random 1\n",
    "lineup=MusicalFestivalSolution(data=data)\n",
    "lineup.repr\n",
    "lineup.fitness(verbose=True)"
   ]
  },
  {
   "cell_type": "code",
   "execution_count": 188,
   "id": "0b7399e0",
   "metadata": {},
   "outputs": [
    {
     "name": "stdout",
     "output_type": "stream",
     "text": [
      "Slot of artists: [20, 25, 9, 12, 34]\n",
      "Slot 0: Conflitcs: 0.4, genres: 0.8, sum_popularity: 0\n",
      "Slot 0: List of  Conflitcs: [np.float64(0.4)], List of genres: [0.8], Popularity of the prime slot: 0\n",
      "Slot of artists: [1, 11, 30, 8, 2]\n",
      "Slot 1: Conflitcs: 0.225, genres: 1.0, sum_popularity: 0\n",
      "Slot 1: List of  Conflitcs: [np.float64(0.4), np.float64(0.225)], List of genres: [0.8, 1.0], Popularity of the prime slot: 0\n",
      "Slot of artists: [29, 24, 10, 15, 6]\n",
      "Slot 2: Conflitcs: 0.4800000000000001, genres: 0.8, sum_popularity: 0\n",
      "Slot 2: List of  Conflitcs: [np.float64(0.4), np.float64(0.225), np.float64(0.4800000000000001)], List of genres: [0.8, 1.0, 0.8], Popularity of the prime slot: 0\n",
      "Slot of artists: [28, 21, 13, 27, 0]\n",
      "Slot 3: Conflitcs: 0.43, genres: 0.6, sum_popularity: 0\n",
      "Slot 3: List of  Conflitcs: [np.float64(0.4), np.float64(0.225), np.float64(0.4800000000000001), np.float64(0.43)], List of genres: [0.8, 1.0, 0.8, 0.6], Popularity of the prime slot: 0\n",
      "Slot of artists: [7, 16, 26, 4, 31]\n",
      "Slot 4: Conflitcs: 0.5900000000000001, genres: 0.8, sum_popularity: 0\n",
      "Slot 4: List of  Conflitcs: [np.float64(0.4), np.float64(0.225), np.float64(0.4800000000000001), np.float64(0.43), np.float64(0.5900000000000001)], List of genres: [0.8, 1.0, 0.8, 0.6, 0.8], Popularity of the prime slot: 0\n",
      "Slot of artists: [23, 3, 5, 17, 22]\n",
      "Slot 5: Conflitcs: 0.6000000000000001, genres: 0.6, sum_popularity: 0\n",
      "Slot 5: List of  Conflitcs: [np.float64(0.4), np.float64(0.225), np.float64(0.4800000000000001), np.float64(0.43), np.float64(0.5900000000000001), np.float64(0.6000000000000001)], List of genres: [0.8, 1.0, 0.8, 0.6, 0.8, 0.6], Popularity of the prime slot: 0\n",
      "Slot of artists: [19, 18, 14, 33, 32]\n",
      "Slot 6: Conflitcs: 0.675, genres: 0.6, sum_popularity: 0.7079107505070994\n",
      "Slot 6: List of  Conflitcs: [np.float64(0.4), np.float64(0.225), np.float64(0.4800000000000001), np.float64(0.43), np.float64(0.5900000000000001), np.float64(0.6000000000000001), np.float64(0.675)], List of genres: [0.8, 1.0, 0.8, 0.6, 0.8, 0.6, 0.6], Popularity of the prime slot: 0.7079107505070994\n",
      "Average of conflits: 0.48571428571428577, Average of distinct genres 0.7428571428571429, and Popularity in prime slot: 0.7079107505070994\n",
      "Fitness: 0.9650536076499565\n"
     ]
    },
    {
     "data": {
      "text/plain": [
       "np.float64(0.9650536076499565)"
      ]
     },
     "execution_count": 188,
     "metadata": {},
     "output_type": "execute_result"
    }
   ],
   "source": [
    "#Random 2\n",
    "lineup=MusicalFestivalSolution(data=data)\n",
    "lineup.repr\n",
    "lineup.fitness(verbose=True)"
   ]
  },
  {
   "cell_type": "code",
   "execution_count": 189,
   "id": "4d90c1f0",
   "metadata": {},
   "outputs": [
    {
     "name": "stdout",
     "output_type": "stream",
     "text": [
      "Slot of artists: [25, 18, 9, 32, 19]\n",
      "Slot 0: Conflitcs: 0.3, genres: 0.8, sum_popularity: 0\n",
      "Slot 0: List of  Conflitcs: [np.float64(0.3)], List of genres: [0.8], Popularity of the prime slot: 0\n",
      "Slot of artists: [4, 7, 3, 2, 28]\n",
      "Slot 1: Conflitcs: 0.675, genres: 0.8, sum_popularity: 0\n",
      "Slot 1: List of  Conflitcs: [np.float64(0.3), np.float64(0.675)], List of genres: [0.8, 0.8], Popularity of the prime slot: 0\n",
      "Slot of artists: [1, 22, 13, 5, 24]\n",
      "Slot 2: Conflitcs: 0.29000000000000004, genres: 0.8, sum_popularity: 0\n",
      "Slot 2: List of  Conflitcs: [np.float64(0.3), np.float64(0.675), np.float64(0.29000000000000004)], List of genres: [0.8, 0.8, 0.8], Popularity of the prime slot: 0\n",
      "Slot of artists: [15, 30, 11, 17, 12]\n",
      "Slot 3: Conflitcs: 0.32499999999999996, genres: 0.8, sum_popularity: 0\n",
      "Slot 3: List of  Conflitcs: [np.float64(0.3), np.float64(0.675), np.float64(0.29000000000000004), np.float64(0.32499999999999996)], List of genres: [0.8, 0.8, 0.8, 0.8], Popularity of the prime slot: 0\n",
      "Slot of artists: [29, 14, 34, 27, 8]\n",
      "Slot 4: Conflitcs: 0.39, genres: 0.6, sum_popularity: 0\n",
      "Slot 4: List of  Conflitcs: [np.float64(0.3), np.float64(0.675), np.float64(0.29000000000000004), np.float64(0.32499999999999996), np.float64(0.39)], List of genres: [0.8, 0.8, 0.8, 0.8, 0.6], Popularity of the prime slot: 0\n",
      "Slot of artists: [33, 20, 6, 21, 0]\n",
      "Slot 5: Conflitcs: 0.48, genres: 0.6, sum_popularity: 0\n",
      "Slot 5: List of  Conflitcs: [np.float64(0.3), np.float64(0.675), np.float64(0.29000000000000004), np.float64(0.32499999999999996), np.float64(0.39), np.float64(0.48)], List of genres: [0.8, 0.8, 0.8, 0.8, 0.6, 0.6], Popularity of the prime slot: 0\n",
      "Slot of artists: [16, 31, 23, 10, 26]\n",
      "Slot 6: Conflitcs: 0.40499999999999997, genres: 0.8, sum_popularity: 0.8559837728194726\n",
      "Slot 6: List of  Conflitcs: [np.float64(0.3), np.float64(0.675), np.float64(0.29000000000000004), np.float64(0.32499999999999996), np.float64(0.39), np.float64(0.48), np.float64(0.40499999999999997)], List of genres: [0.8, 0.8, 0.8, 0.8, 0.6, 0.6, 0.8], Popularity of the prime slot: 0.8559837728194726\n",
      "Average of conflits: 0.40928571428571425, Average of distinct genres 0.7428571428571429, and Popularity in prime slot: 0.8559837728194726\n",
      "Fitness: 1.1895552013909012\n"
     ]
    },
    {
     "data": {
      "text/plain": [
       "np.float64(1.1895552013909012)"
      ]
     },
     "execution_count": 189,
     "metadata": {},
     "output_type": "execute_result"
    }
   ],
   "source": [
    "#Random 3\n",
    "lineup=MusicalFestivalSolution(data=data)\n",
    "lineup.repr\n",
    "lineup.fitness(verbose=True)"
   ]
  }
 ],
 "metadata": {
  "kernelspec": {
   "display_name": "Python 3 (ipykernel)",
   "language": "python",
   "name": "python3"
  },
  "language_info": {
   "codemirror_mode": {
    "name": "ipython",
    "version": 3
   },
   "file_extension": ".py",
   "mimetype": "text/x-python",
   "name": "python",
   "nbconvert_exporter": "python",
   "pygments_lexer": "ipython3",
   "version": "3.12.3"
  }
 },
 "nbformat": 4,
 "nbformat_minor": 5
}
