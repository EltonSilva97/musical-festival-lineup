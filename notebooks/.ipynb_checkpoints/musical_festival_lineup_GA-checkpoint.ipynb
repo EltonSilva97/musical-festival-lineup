{
 "cells": [
  {
   "cell_type": "code",
   "execution_count": 2,
   "id": "6c45c162",
   "metadata": {},
   "outputs": [],
   "source": [
    "import sys\n",
    "\n",
    "sys.path.append(\"..\")"
   ]
  },
  {
   "cell_type": "code",
   "execution_count": 3,
   "id": "20c7abe6",
   "metadata": {},
   "outputs": [],
   "source": [
    "%load_ext autoreload\n",
    "%autoreload 2"
   ]
  },
  {
   "cell_type": "code",
   "execution_count": 4,
   "id": "bdee15eb",
   "metadata": {},
   "outputs": [],
   "source": [
    "from library.algorithms.genetic_algorithms.crossover import partial_crossover\n",
    "from library.algorithms.genetic_algorithms import mutation, selection, algorithm,crossover\n",
    "from musical_festival_lineup.musical_festival_lineup_genetic import MusicalFestivalGASolution\n",
    "from musical_festival_lineup.musical_festival_data import MusicalFestivalData\n",
    "from musical_festival_lineup.utils import visualize_musical_lineup\n"
   ]
  },
  {
   "cell_type": "markdown",
   "id": "4abcf18a",
   "metadata": {},
   "source": [
    "## 1. Exploring Crossover, mutation, selection functions"
   ]
  },
  {
   "cell_type": "markdown",
   "id": "a7ef04b6",
   "metadata": {},
   "source": [
    "### 1.1. Crossover"
   ]
  },
  {
   "cell_type": "markdown",
   "id": "a8ce0958",
   "metadata": {},
   "source": [
    "### 1.1.1. Partial Crossover method"
   ]
  },
  {
   "cell_type": "code",
   "execution_count": 5,
   "id": "56c1e970",
   "metadata": {},
   "outputs": [
    {
     "name": "stdout",
     "output_type": "stream",
     "text": [
      "Parent 1 [8, 9, 10, 11, 12, 13, 14, 15]\n",
      "Parent 2 [15, 12, 8, 9, 13, 10, 11, 14]\n",
      "Crossover point1 1 e crossover point2 3\n",
      "OffSpring 1: segment [9, 10] maps {9: 12, 10: 8}\n",
      "OffSpring 2: segment [12, 8] maps {12: 9, 8: 10}\n",
      "OffSpring 1: head [15] | segment [9, 10] | tail  [12, 13, 8, 11, 14]\n",
      "OffSpring 2: head [10] | segment [12, 8] | tail  [11, 9, 13, 14, 15]\n"
     ]
    },
    {
     "data": {
      "text/plain": [
       "([15, 9, 10, 12, 13, 8, 11, 14], [10, 12, 8, 11, 9, 13, 14, 15])"
      ]
     },
     "execution_count": 5,
     "metadata": {},
     "output_type": "execute_result"
    }
   ],
   "source": [
    "partial_crossover([8,9,10,11,12,13,14,15],[15,12,8,9,13,10,11,14], verbose=True)"
   ]
  },
  {
   "cell_type": "markdown",
   "id": "b7241bec",
   "metadata": {},
   "source": [
    "### 1.2. Mutation \n"
   ]
  },
  {
   "cell_type": "markdown",
   "id": "1883ee43",
   "metadata": {},
   "source": [
    "#### 1.2.1. Swap Mutation"
   ]
  },
  {
   "cell_type": "code",
   "execution_count": 6,
   "id": "c58f9f1a",
   "metadata": {},
   "outputs": [
    {
     "data": {
      "text/plain": [
       "[8, 9, 10, 14, 12, 13, 11, 15]"
      ]
     },
     "execution_count": 6,
     "metadata": {},
     "output_type": "execute_result"
    }
   ],
   "source": [
    "mutation.swap_mutation([8,9,10,11,12,13,14,15], mut_prob=0.2)"
   ]
  },
  {
   "cell_type": "markdown",
   "id": "0419ac72",
   "metadata": {},
   "source": [
    "#### 1.2.2. Insert Mutation"
   ]
  },
  {
   "cell_type": "code",
   "execution_count": 7,
   "id": "e39d440b",
   "metadata": {},
   "outputs": [
    {
     "name": "stdout",
     "output_type": "stream",
     "text": [
      "Mutation not happening.\n"
     ]
    },
    {
     "data": {
      "text/plain": [
       "[8, 9, 10, 11, 12, 13, 14, 15]"
      ]
     },
     "execution_count": 7,
     "metadata": {},
     "output_type": "execute_result"
    }
   ],
   "source": [
    "mutation.insert_mutation([8,9,10,11,12,13,14,15], mut_prob=0.2, verbose=True)"
   ]
  },
  {
   "cell_type": "markdown",
   "id": "7920926c",
   "metadata": {},
   "source": [
    "#### 1.2.3. Reverse Mutation"
   ]
  },
  {
   "cell_type": "code",
   "execution_count": 8,
   "id": "1528a841",
   "metadata": {},
   "outputs": [
    {
     "name": "stdout",
     "output_type": "stream",
     "text": [
      "Mutation not happening.\n"
     ]
    },
    {
     "data": {
      "text/plain": [
       "[8, 9, 10, 11, 12, 13, 14, 15]"
      ]
     },
     "execution_count": 8,
     "metadata": {},
     "output_type": "execute_result"
    }
   ],
   "source": [
    "mutation.reverse_mutation([8,9,10,11,12,13,14,15], mut_prob=0.2, verbose=True)"
   ]
  },
  {
   "cell_type": "markdown",
   "id": "17466f68",
   "metadata": {},
   "source": [
    "#### 1.2.4. Rand Choice Mutation"
   ]
  },
  {
   "cell_type": "code",
   "execution_count": 9,
   "id": "21b09884",
   "metadata": {},
   "outputs": [
    {
     "name": "stdout",
     "output_type": "stream",
     "text": [
      "Mutation not happening.\n"
     ]
    },
    {
     "data": {
      "text/plain": [
       "[8, 9, 10, 11, 12, 13, 14, 15]"
      ]
     },
     "execution_count": 9,
     "metadata": {},
     "output_type": "execute_result"
    }
   ],
   "source": [
    "mutation.rand_choice_mutation([8,9,10,11,12,13,14,15], mut_prob=0.2, verbose=True)"
   ]
  },
  {
   "cell_type": "markdown",
   "id": "31d62741",
   "metadata": {},
   "source": [
    "### 2. Applying genetic Algorithm"
   ]
  },
  {
   "cell_type": "markdown",
   "id": "36647e49",
   "metadata": {},
   "source": [
    "- Definition of Initial Population "
   ]
  },
  {
   "cell_type": "code",
   "execution_count": 10,
   "id": "c6decdd2",
   "metadata": {},
   "outputs": [
    {
     "ename": "FileNotFoundError",
     "evalue": "[Errno 2] No such file or directory: 'data/artists.csv'",
     "output_type": "error",
     "traceback": [
      "\u001b[1;31m---------------------------------------------------------------------------\u001b[0m",
      "\u001b[1;31mFileNotFoundError\u001b[0m                         Traceback (most recent call last)",
      "Cell \u001b[1;32mIn[10], line 1\u001b[0m\n\u001b[1;32m----> 1\u001b[0m data\u001b[38;5;241m=\u001b[39mMusicalFestivalData()\n",
      "File \u001b[1;32mc:\\Users\\elton\\Downloads\\musical-festival-lineup\\notebooks\\..\\musical_festival_lineup\\musical_festival_data.py:15\u001b[0m, in \u001b[0;36mMusicalFestivalData.__init__\u001b[1;34m(self, artists_csv, conflicts_csv_path)\u001b[0m\n\u001b[0;32m     14\u001b[0m \u001b[38;5;28;01mdef\u001b[39;00m \u001b[38;5;21m__init__\u001b[39m(\u001b[38;5;28mself\u001b[39m, artists_csv\u001b[38;5;241m=\u001b[39mARTISTS_CSV_PATH, conflicts_csv_path\u001b[38;5;241m=\u001b[39mCONFLICTS_CSV_PATH):\n\u001b[1;32m---> 15\u001b[0m     \u001b[38;5;28mself\u001b[39m\u001b[38;5;241m.\u001b[39martists\u001b[38;5;241m=\u001b[39m\u001b[38;5;28mself\u001b[39m\u001b[38;5;241m.\u001b[39m_get_artists_processed(artists_csv)\n\u001b[0;32m     16\u001b[0m     \u001b[38;5;28mself\u001b[39m\u001b[38;5;241m.\u001b[39mconflicts\u001b[38;5;241m=\u001b[39m\u001b[38;5;28mself\u001b[39m\u001b[38;5;241m.\u001b[39m_get_conflicts_processed(conflicts_csv_path)\n\u001b[0;32m     17\u001b[0m     \u001b[38;5;28mself\u001b[39m\u001b[38;5;241m.\u001b[39mmax_popularity_in_prime_slot\u001b[38;5;241m=\u001b[39m\u001b[38;5;28mself\u001b[39m\u001b[38;5;241m.\u001b[39m_get_max_popularity()\n",
      "File \u001b[1;32mc:\\Users\\elton\\Downloads\\musical-festival-lineup\\notebooks\\..\\musical_festival_lineup\\musical_festival_data.py:22\u001b[0m, in \u001b[0;36mMusicalFestivalData._get_artists_processed\u001b[1;34m(self, path)\u001b[0m\n\u001b[0;32m     21\u001b[0m \u001b[38;5;28;01mdef\u001b[39;00m \u001b[38;5;21m_get_artists_processed\u001b[39m(\u001b[38;5;28mself\u001b[39m, path):\n\u001b[1;32m---> 22\u001b[0m     artists_df\u001b[38;5;241m=\u001b[39mpd\u001b[38;5;241m.\u001b[39mread_csv(path, index_col\u001b[38;5;241m=\u001b[39m\u001b[38;5;241m0\u001b[39m)\n\u001b[0;32m     23\u001b[0m     \u001b[38;5;28;01mreturn\u001b[39;00m artists_df\n",
      "File \u001b[1;32mc:\\Users\\elton\\anaconda3\\Lib\\site-packages\\pandas\\io\\parsers\\readers.py:1026\u001b[0m, in \u001b[0;36mread_csv\u001b[1;34m(filepath_or_buffer, sep, delimiter, header, names, index_col, usecols, dtype, engine, converters, true_values, false_values, skipinitialspace, skiprows, skipfooter, nrows, na_values, keep_default_na, na_filter, verbose, skip_blank_lines, parse_dates, infer_datetime_format, keep_date_col, date_parser, date_format, dayfirst, cache_dates, iterator, chunksize, compression, thousands, decimal, lineterminator, quotechar, quoting, doublequote, escapechar, comment, encoding, encoding_errors, dialect, on_bad_lines, delim_whitespace, low_memory, memory_map, float_precision, storage_options, dtype_backend)\u001b[0m\n\u001b[0;32m   1013\u001b[0m kwds_defaults \u001b[38;5;241m=\u001b[39m _refine_defaults_read(\n\u001b[0;32m   1014\u001b[0m     dialect,\n\u001b[0;32m   1015\u001b[0m     delimiter,\n\u001b[1;32m   (...)\u001b[0m\n\u001b[0;32m   1022\u001b[0m     dtype_backend\u001b[38;5;241m=\u001b[39mdtype_backend,\n\u001b[0;32m   1023\u001b[0m )\n\u001b[0;32m   1024\u001b[0m kwds\u001b[38;5;241m.\u001b[39mupdate(kwds_defaults)\n\u001b[1;32m-> 1026\u001b[0m \u001b[38;5;28;01mreturn\u001b[39;00m _read(filepath_or_buffer, kwds)\n",
      "File \u001b[1;32mc:\\Users\\elton\\anaconda3\\Lib\\site-packages\\pandas\\io\\parsers\\readers.py:620\u001b[0m, in \u001b[0;36m_read\u001b[1;34m(filepath_or_buffer, kwds)\u001b[0m\n\u001b[0;32m    617\u001b[0m _validate_names(kwds\u001b[38;5;241m.\u001b[39mget(\u001b[38;5;124m\"\u001b[39m\u001b[38;5;124mnames\u001b[39m\u001b[38;5;124m\"\u001b[39m, \u001b[38;5;28;01mNone\u001b[39;00m))\n\u001b[0;32m    619\u001b[0m \u001b[38;5;66;03m# Create the parser.\u001b[39;00m\n\u001b[1;32m--> 620\u001b[0m parser \u001b[38;5;241m=\u001b[39m TextFileReader(filepath_or_buffer, \u001b[38;5;241m*\u001b[39m\u001b[38;5;241m*\u001b[39mkwds)\n\u001b[0;32m    622\u001b[0m \u001b[38;5;28;01mif\u001b[39;00m chunksize \u001b[38;5;129;01mor\u001b[39;00m iterator:\n\u001b[0;32m    623\u001b[0m     \u001b[38;5;28;01mreturn\u001b[39;00m parser\n",
      "File \u001b[1;32mc:\\Users\\elton\\anaconda3\\Lib\\site-packages\\pandas\\io\\parsers\\readers.py:1620\u001b[0m, in \u001b[0;36mTextFileReader.__init__\u001b[1;34m(self, f, engine, **kwds)\u001b[0m\n\u001b[0;32m   1617\u001b[0m     \u001b[38;5;28mself\u001b[39m\u001b[38;5;241m.\u001b[39moptions[\u001b[38;5;124m\"\u001b[39m\u001b[38;5;124mhas_index_names\u001b[39m\u001b[38;5;124m\"\u001b[39m] \u001b[38;5;241m=\u001b[39m kwds[\u001b[38;5;124m\"\u001b[39m\u001b[38;5;124mhas_index_names\u001b[39m\u001b[38;5;124m\"\u001b[39m]\n\u001b[0;32m   1619\u001b[0m \u001b[38;5;28mself\u001b[39m\u001b[38;5;241m.\u001b[39mhandles: IOHandles \u001b[38;5;241m|\u001b[39m \u001b[38;5;28;01mNone\u001b[39;00m \u001b[38;5;241m=\u001b[39m \u001b[38;5;28;01mNone\u001b[39;00m\n\u001b[1;32m-> 1620\u001b[0m \u001b[38;5;28mself\u001b[39m\u001b[38;5;241m.\u001b[39m_engine \u001b[38;5;241m=\u001b[39m \u001b[38;5;28mself\u001b[39m\u001b[38;5;241m.\u001b[39m_make_engine(f, \u001b[38;5;28mself\u001b[39m\u001b[38;5;241m.\u001b[39mengine)\n",
      "File \u001b[1;32mc:\\Users\\elton\\anaconda3\\Lib\\site-packages\\pandas\\io\\parsers\\readers.py:1880\u001b[0m, in \u001b[0;36mTextFileReader._make_engine\u001b[1;34m(self, f, engine)\u001b[0m\n\u001b[0;32m   1878\u001b[0m     \u001b[38;5;28;01mif\u001b[39;00m \u001b[38;5;124m\"\u001b[39m\u001b[38;5;124mb\u001b[39m\u001b[38;5;124m\"\u001b[39m \u001b[38;5;129;01mnot\u001b[39;00m \u001b[38;5;129;01min\u001b[39;00m mode:\n\u001b[0;32m   1879\u001b[0m         mode \u001b[38;5;241m+\u001b[39m\u001b[38;5;241m=\u001b[39m \u001b[38;5;124m\"\u001b[39m\u001b[38;5;124mb\u001b[39m\u001b[38;5;124m\"\u001b[39m\n\u001b[1;32m-> 1880\u001b[0m \u001b[38;5;28mself\u001b[39m\u001b[38;5;241m.\u001b[39mhandles \u001b[38;5;241m=\u001b[39m get_handle(\n\u001b[0;32m   1881\u001b[0m     f,\n\u001b[0;32m   1882\u001b[0m     mode,\n\u001b[0;32m   1883\u001b[0m     encoding\u001b[38;5;241m=\u001b[39m\u001b[38;5;28mself\u001b[39m\u001b[38;5;241m.\u001b[39moptions\u001b[38;5;241m.\u001b[39mget(\u001b[38;5;124m\"\u001b[39m\u001b[38;5;124mencoding\u001b[39m\u001b[38;5;124m\"\u001b[39m, \u001b[38;5;28;01mNone\u001b[39;00m),\n\u001b[0;32m   1884\u001b[0m     compression\u001b[38;5;241m=\u001b[39m\u001b[38;5;28mself\u001b[39m\u001b[38;5;241m.\u001b[39moptions\u001b[38;5;241m.\u001b[39mget(\u001b[38;5;124m\"\u001b[39m\u001b[38;5;124mcompression\u001b[39m\u001b[38;5;124m\"\u001b[39m, \u001b[38;5;28;01mNone\u001b[39;00m),\n\u001b[0;32m   1885\u001b[0m     memory_map\u001b[38;5;241m=\u001b[39m\u001b[38;5;28mself\u001b[39m\u001b[38;5;241m.\u001b[39moptions\u001b[38;5;241m.\u001b[39mget(\u001b[38;5;124m\"\u001b[39m\u001b[38;5;124mmemory_map\u001b[39m\u001b[38;5;124m\"\u001b[39m, \u001b[38;5;28;01mFalse\u001b[39;00m),\n\u001b[0;32m   1886\u001b[0m     is_text\u001b[38;5;241m=\u001b[39mis_text,\n\u001b[0;32m   1887\u001b[0m     errors\u001b[38;5;241m=\u001b[39m\u001b[38;5;28mself\u001b[39m\u001b[38;5;241m.\u001b[39moptions\u001b[38;5;241m.\u001b[39mget(\u001b[38;5;124m\"\u001b[39m\u001b[38;5;124mencoding_errors\u001b[39m\u001b[38;5;124m\"\u001b[39m, \u001b[38;5;124m\"\u001b[39m\u001b[38;5;124mstrict\u001b[39m\u001b[38;5;124m\"\u001b[39m),\n\u001b[0;32m   1888\u001b[0m     storage_options\u001b[38;5;241m=\u001b[39m\u001b[38;5;28mself\u001b[39m\u001b[38;5;241m.\u001b[39moptions\u001b[38;5;241m.\u001b[39mget(\u001b[38;5;124m\"\u001b[39m\u001b[38;5;124mstorage_options\u001b[39m\u001b[38;5;124m\"\u001b[39m, \u001b[38;5;28;01mNone\u001b[39;00m),\n\u001b[0;32m   1889\u001b[0m )\n\u001b[0;32m   1890\u001b[0m \u001b[38;5;28;01massert\u001b[39;00m \u001b[38;5;28mself\u001b[39m\u001b[38;5;241m.\u001b[39mhandles \u001b[38;5;129;01mis\u001b[39;00m \u001b[38;5;129;01mnot\u001b[39;00m \u001b[38;5;28;01mNone\u001b[39;00m\n\u001b[0;32m   1891\u001b[0m f \u001b[38;5;241m=\u001b[39m \u001b[38;5;28mself\u001b[39m\u001b[38;5;241m.\u001b[39mhandles\u001b[38;5;241m.\u001b[39mhandle\n",
      "File \u001b[1;32mc:\\Users\\elton\\anaconda3\\Lib\\site-packages\\pandas\\io\\common.py:873\u001b[0m, in \u001b[0;36mget_handle\u001b[1;34m(path_or_buf, mode, encoding, compression, memory_map, is_text, errors, storage_options)\u001b[0m\n\u001b[0;32m    868\u001b[0m \u001b[38;5;28;01melif\u001b[39;00m \u001b[38;5;28misinstance\u001b[39m(handle, \u001b[38;5;28mstr\u001b[39m):\n\u001b[0;32m    869\u001b[0m     \u001b[38;5;66;03m# Check whether the filename is to be opened in binary mode.\u001b[39;00m\n\u001b[0;32m    870\u001b[0m     \u001b[38;5;66;03m# Binary mode does not support 'encoding' and 'newline'.\u001b[39;00m\n\u001b[0;32m    871\u001b[0m     \u001b[38;5;28;01mif\u001b[39;00m ioargs\u001b[38;5;241m.\u001b[39mencoding \u001b[38;5;129;01mand\u001b[39;00m \u001b[38;5;124m\"\u001b[39m\u001b[38;5;124mb\u001b[39m\u001b[38;5;124m\"\u001b[39m \u001b[38;5;129;01mnot\u001b[39;00m \u001b[38;5;129;01min\u001b[39;00m ioargs\u001b[38;5;241m.\u001b[39mmode:\n\u001b[0;32m    872\u001b[0m         \u001b[38;5;66;03m# Encoding\u001b[39;00m\n\u001b[1;32m--> 873\u001b[0m         handle \u001b[38;5;241m=\u001b[39m \u001b[38;5;28mopen\u001b[39m(\n\u001b[0;32m    874\u001b[0m             handle,\n\u001b[0;32m    875\u001b[0m             ioargs\u001b[38;5;241m.\u001b[39mmode,\n\u001b[0;32m    876\u001b[0m             encoding\u001b[38;5;241m=\u001b[39mioargs\u001b[38;5;241m.\u001b[39mencoding,\n\u001b[0;32m    877\u001b[0m             errors\u001b[38;5;241m=\u001b[39merrors,\n\u001b[0;32m    878\u001b[0m             newline\u001b[38;5;241m=\u001b[39m\u001b[38;5;124m\"\u001b[39m\u001b[38;5;124m\"\u001b[39m,\n\u001b[0;32m    879\u001b[0m         )\n\u001b[0;32m    880\u001b[0m     \u001b[38;5;28;01melse\u001b[39;00m:\n\u001b[0;32m    881\u001b[0m         \u001b[38;5;66;03m# Binary mode\u001b[39;00m\n\u001b[0;32m    882\u001b[0m         handle \u001b[38;5;241m=\u001b[39m \u001b[38;5;28mopen\u001b[39m(handle, ioargs\u001b[38;5;241m.\u001b[39mmode)\n",
      "\u001b[1;31mFileNotFoundError\u001b[0m: [Errno 2] No such file or directory: 'data/artists.csv'"
     ]
    }
   ],
   "source": [
    "data=MusicalFestivalData()"
   ]
  },
  {
   "cell_type": "code",
   "execution_count": 296,
   "id": "9f423048",
   "metadata": {},
   "outputs": [],
   "source": [
    "def get_initial_population( mutation_function, crossover_function ,size=100):\n",
    "    initial_population=[\n",
    "        MusicalFestivalGASolution(\n",
    "            data=data,\n",
    "            mutation_function=mutation_function,\n",
    "            crossover_function=crossover_function\n",
    "\n",
    "        )\n",
    "        for _ in range(size)\n",
    "    ]\n",
    "    return initial_population"
   ]
  },
  {
   "cell_type": "markdown",
   "id": "eb72e005",
   "metadata": {},
   "source": [
    "#### 3.1. Selection X  and Crossover: Partial and Mutation: Swap"
   ]
  },
  {
   "cell_type": "markdown",
   "id": "70b07d26",
   "metadata": {},
   "source": [
    "- POP_SIZE=50 , max_gen=100, elitism=True, mut_prob=0.8"
   ]
  },
  {
   "cell_type": "code",
   "execution_count": 302,
   "id": "a5ef6fa7",
   "metadata": {},
   "outputs": [
    {
     "name": "stdout",
     "output_type": "stream",
     "text": [
      "Best solution [31, 27, 16, 33, 34, 23, 18, 6, 20, 32, 8, 1, 0, 25, 14, 10, 19, 17, 15, 22, 12, 5, 2, 30, 4, 29, 13, 11, 28, 24, 21, 9, 3, 7, 26]\n",
      "Fitness <bound method MusicalFestivalSolution.fitness of [31, 27, 16, 33, 34, 23, 18, 6, 20, 32, 8, 1, 0, 25, 14, 10, 19, 17, 15, 22, 12, 5, 2, 30, 4, 29, 13, 11, 28, 24, 21, 9, 3, 7, 26]>\n"
     ]
    }
   ],
   "source": [
    "initial_population=get_initial_population(mutation_function=mutation.swap_mutation, crossover_function=crossover.partial_crossover, size=50)\n",
    "best_solution=algorithm.genetic_algorithm(\n",
    "    initial_population=initial_population,\n",
    "    selection_algorithm=selection.fitness_proportionate_selection,\n",
    "    max_gen=100,\n",
    "    mut_prob=0.8,\n",
    "    maximization=True,\n",
    "    verbose=False,\n",
    "    elitism=True,\n",
    ")\n",
    "print(\"Best solution\", best_solution)\n",
    "print(\"Fitness\", best_solution.fitness)"
   ]
  },
  {
   "cell_type": "code",
   "execution_count": 303,
   "id": "4814545b",
   "metadata": {},
   "outputs": [
    {
     "name": "stdout",
     "output_type": "stream",
     "text": [
      "Fitness 1.5055172413793103\n"
     ]
    }
   ],
   "source": [
    "print(\"Fitness\", best_solution.fitness())"
   ]
  },
  {
   "cell_type": "code",
   "execution_count": 1,
   "id": "8ba543c7",
   "metadata": {},
   "outputs": [
    {
     "ename": "NameError",
     "evalue": "name 'get_initial_population' is not defined",
     "output_type": "error",
     "traceback": [
      "\u001b[1;31m---------------------------------------------------------------------------\u001b[0m",
      "\u001b[1;31mNameError\u001b[0m                                 Traceback (most recent call last)",
      "Cell \u001b[1;32mIn[1], line 1\u001b[0m\n\u001b[1;32m----> 1\u001b[0m initial_population\u001b[38;5;241m=\u001b[39mget_initial_population(mutation_function\u001b[38;5;241m=\u001b[39mmutation\u001b[38;5;241m.\u001b[39mswap_mutation, crossover_function\u001b[38;5;241m=\u001b[39mcrossover\u001b[38;5;241m.\u001b[39mpartial_crossover, size\u001b[38;5;241m=\u001b[39m\u001b[38;5;241m50\u001b[39m)\n\u001b[0;32m      2\u001b[0m best_solution_2\u001b[38;5;241m=\u001b[39malgorithm\u001b[38;5;241m.\u001b[39mgenetic_algorithm(\n\u001b[0;32m      3\u001b[0m     initial_population\u001b[38;5;241m=\u001b[39minitial_population,\n\u001b[0;32m      4\u001b[0m     selection_algorithm\u001b[38;5;241m=\u001b[39m\u001b[38;5;28;01mlambda\u001b[39;00m pop, \u001b[38;5;28mmax\u001b[39m: selection\u001b[38;5;241m.\u001b[39mtournament_selection(\n\u001b[1;32m   (...)\u001b[0m\n\u001b[0;32m     13\u001b[0m     elitism\u001b[38;5;241m=\u001b[39m\u001b[38;5;28;01mTrue\u001b[39;00m,\n\u001b[0;32m     14\u001b[0m )\n\u001b[0;32m     15\u001b[0m \u001b[38;5;28mprint\u001b[39m(\u001b[38;5;124m\"\u001b[39m\u001b[38;5;124mBest solution\u001b[39m\u001b[38;5;124m\"\u001b[39m, best_solution_2)\n",
      "\u001b[1;31mNameError\u001b[0m: name 'get_initial_population' is not defined"
     ]
    }
   ],
   "source": [
    "initial_population=get_initial_population(mutation_function=mutation.swap_mutation, crossover_function=crossover.partial_crossover, size=50)\n",
    "best_solution_2=algorithm.genetic_algorithm(\n",
    "    initial_population=initial_population,\n",
    "    selection_algorithm=lambda pop, max: selection.tournament_selection(\n",
    "        population=pop,\n",
    "        maximization=max,\n",
    "        tournament_size=7\n",
    "    ),\n",
    "    max_gen=100,\n",
    "    mut_prob=0.8,\n",
    "    maximization=True,\n",
    "    verbose=True,\n",
    "    elitism=True,\n",
    ")\n",
    "print(\"Best solution\", best_solution_2)\n",
    "print(\"Fitness\", best_solution_2.fitness)"
   ]
  },
  {
   "cell_type": "code",
   "execution_count": 305,
   "id": "d022ac68",
   "metadata": {},
   "outputs": [
    {
     "data": {
      "text/html": [
       "<div>\n",
       "<style scoped>\n",
       "    .dataframe tbody tr th:only-of-type {\n",
       "        vertical-align: middle;\n",
       "    }\n",
       "\n",
       "    .dataframe tbody tr th {\n",
       "        vertical-align: top;\n",
       "    }\n",
       "\n",
       "    .dataframe thead th {\n",
       "        text-align: right;\n",
       "    }\n",
       "</style>\n",
       "<table border=\"1\" class=\"dataframe\">\n",
       "  <thead>\n",
       "    <tr style=\"text-align: right;\">\n",
       "      <th></th>\n",
       "      <th>Slot</th>\n",
       "      <th>Stage 1</th>\n",
       "      <th>Stage 2</th>\n",
       "      <th>Stage 3</th>\n",
       "      <th>Stage 4</th>\n",
       "      <th>Stage 5</th>\n",
       "    </tr>\n",
       "  </thead>\n",
       "  <tbody>\n",
       "    <tr>\n",
       "      <th>0</th>\n",
       "      <td>Slot 1</td>\n",
       "      <td>31: The Jazz Nomads|Jazz|64</td>\n",
       "      <td>27: Hypnotic Echoes|Rock|77</td>\n",
       "      <td>16: Mystic Rhythms|Classical|78</td>\n",
       "      <td>33: Cosmic Frequency|Rock|53</td>\n",
       "      <td>34: Parallel Dimension|Electronic|58</td>\n",
       "    </tr>\n",
       "    <tr>\n",
       "      <th>1</th>\n",
       "      <td>Slot 2</td>\n",
       "      <td>23: Electric Serpents|Electronic|99</td>\n",
       "      <td>18: Velvet Underground|Rock|72</td>\n",
       "      <td>6: Aurora Skies|Pop|75</td>\n",
       "      <td>20: The Sonic Drifters|Rock|88</td>\n",
       "      <td>32: The Bassline Architects|Hip-Hop|61</td>\n",
       "    </tr>\n",
       "    <tr>\n",
       "      <th>2</th>\n",
       "      <td>Slot 3</td>\n",
       "      <td>8: Crimson Harmony|Classical|20</td>\n",
       "      <td>1: Solar Flare|Electronic|78</td>\n",
       "      <td>0: Midnight Echo|Rock|75</td>\n",
       "      <td>25: Rhythm Alchemy|Jazz|94</td>\n",
       "      <td>14: Synthwave Saints|Rock|94</td>\n",
       "    </tr>\n",
       "    <tr>\n",
       "      <th>3</th>\n",
       "      <td>Slot 4</td>\n",
       "      <td>10: The Wandering Notes|Jazz|84</td>\n",
       "      <td>19: Astral Tide|Electronic|69</td>\n",
       "      <td>17: Nightfall Sonata|Classical|84</td>\n",
       "      <td>15: Golden Ember|Rock|61</td>\n",
       "      <td>22: Quantum Beat|Hip-Hop|96</td>\n",
       "    </tr>\n",
       "    <tr>\n",
       "      <th>4</th>\n",
       "      <td>Slot 5</td>\n",
       "      <td>12: Blue Horizon|Pop|51</td>\n",
       "      <td>5: Echo Chamber|Electronic|98</td>\n",
       "      <td>2: Velvet Pulse|Jazz|35</td>\n",
       "      <td>30: Turbo Vortex|Rock|53</td>\n",
       "      <td>4: The Silver Owls|Classical|85</td>\n",
       "    </tr>\n",
       "    <tr>\n",
       "      <th>5</th>\n",
       "      <td>Slot 6</td>\n",
       "      <td>29: Harmonic Dissonance|Classical|96</td>\n",
       "      <td>13: Lunar Spectrum|Rock|99</td>\n",
       "      <td>11: Phantom Groove|Hip-Hop|47</td>\n",
       "      <td>28: The Polyrhythm Syndicate|Jazz|66</td>\n",
       "      <td>24: Shadow Cadence|Jazz|66</td>\n",
       "    </tr>\n",
       "    <tr>\n",
       "      <th>6</th>\n",
       "      <td>Slot 7</td>\n",
       "      <td>21: Celestial Voyage|Electronic|95</td>\n",
       "      <td>9: Deep Resonance|Jazz|90</td>\n",
       "      <td>3: Neon Reverie|Electronic|100</td>\n",
       "      <td>7: Static Mirage|Rock|94</td>\n",
       "      <td>26: Cloud Nine Collective|Pop|97</td>\n",
       "    </tr>\n",
       "  </tbody>\n",
       "</table>\n",
       "</div>"
      ],
      "text/plain": [
       "     Slot                               Stage 1  \\\n",
       "0  Slot 1           31: The Jazz Nomads|Jazz|64   \n",
       "1  Slot 2   23: Electric Serpents|Electronic|99   \n",
       "2  Slot 3       8: Crimson Harmony|Classical|20   \n",
       "3  Slot 4       10: The Wandering Notes|Jazz|84   \n",
       "4  Slot 5               12: Blue Horizon|Pop|51   \n",
       "5  Slot 6  29: Harmonic Dissonance|Classical|96   \n",
       "6  Slot 7    21: Celestial Voyage|Electronic|95   \n",
       "\n",
       "                          Stage 2                            Stage 3  \\\n",
       "0     27: Hypnotic Echoes|Rock|77    16: Mystic Rhythms|Classical|78   \n",
       "1  18: Velvet Underground|Rock|72             6: Aurora Skies|Pop|75   \n",
       "2    1: Solar Flare|Electronic|78           0: Midnight Echo|Rock|75   \n",
       "3   19: Astral Tide|Electronic|69  17: Nightfall Sonata|Classical|84   \n",
       "4   5: Echo Chamber|Electronic|98            2: Velvet Pulse|Jazz|35   \n",
       "5      13: Lunar Spectrum|Rock|99      11: Phantom Groove|Hip-Hop|47   \n",
       "6       9: Deep Resonance|Jazz|90     3: Neon Reverie|Electronic|100   \n",
       "\n",
       "                                Stage 4  \\\n",
       "0          33: Cosmic Frequency|Rock|53   \n",
       "1        20: The Sonic Drifters|Rock|88   \n",
       "2            25: Rhythm Alchemy|Jazz|94   \n",
       "3              15: Golden Ember|Rock|61   \n",
       "4              30: Turbo Vortex|Rock|53   \n",
       "5  28: The Polyrhythm Syndicate|Jazz|66   \n",
       "6              7: Static Mirage|Rock|94   \n",
       "\n",
       "                                  Stage 5  \n",
       "0    34: Parallel Dimension|Electronic|58  \n",
       "1  32: The Bassline Architects|Hip-Hop|61  \n",
       "2            14: Synthwave Saints|Rock|94  \n",
       "3             22: Quantum Beat|Hip-Hop|96  \n",
       "4         4: The Silver Owls|Classical|85  \n",
       "5              24: Shadow Cadence|Jazz|66  \n",
       "6        26: Cloud Nine Collective|Pop|97  "
      ]
     },
     "execution_count": 305,
     "metadata": {},
     "output_type": "execute_result"
    }
   ],
   "source": [
    "visualize_musical_lineup(best_solution.repr,data.artists)"
   ]
  },
  {
   "cell_type": "markdown",
   "id": "4af52be5",
   "metadata": {},
   "source": []
  },
  {
   "cell_type": "markdown",
   "id": "56ab9b82",
   "metadata": {},
   "source": []
  }
 ],
 "metadata": {
  "kernelspec": {
   "display_name": "base",
   "language": "python",
   "name": "python3"
  },
  "language_info": {
   "codemirror_mode": {
    "name": "ipython",
    "version": 3
   },
   "file_extension": ".py",
   "mimetype": "text/x-python",
   "name": "python",
   "nbconvert_exporter": "python",
   "pygments_lexer": "ipython3",
   "version": "3.12.7"
  }
 },
 "nbformat": 4,
 "nbformat_minor": 5
}
