{
 "cells": [
  {
   "cell_type": "code",
   "execution_count": 9,
   "id": "3cf56409",
   "metadata": {},
   "outputs": [],
   "source": [
    "import sys\n",
    "\n",
    "sys.path.append(\"..\")"
   ]
  },
  {
   "cell_type": "code",
   "execution_count": 10,
   "id": "cd13f193",
   "metadata": {},
   "outputs": [
    {
     "name": "stdout",
     "output_type": "stream",
     "text": [
      "The autoreload extension is already loaded. To reload it, use:\n",
      "  %reload_ext autoreload\n"
     ]
    }
   ],
   "source": [
    "%load_ext autoreload\n",
    "%autoreload 2"
   ]
  },
  {
   "cell_type": "code",
   "execution_count": null,
   "id": "14bddf94",
   "metadata": {},
   "outputs": [],
   "source": [
    "from library.algorithms.simulated_annealing import simulated_annealing\n",
    "from musical_festival_lineup.musical_festival_lineup_SA import SAMFSolution\n",
    "from musical_festival_lineup.musical_festival_data import MusicalFestivalData\n",
    "from musical_festival_lineup.utils import visualize_musical_lineup"
   ]
  },
  {
   "cell_type": "markdown",
   "id": "ab37b64a",
   "metadata": {},
   "source": [
    "1. Simulated Annealing"
   ]
  },
  {
   "cell_type": "markdown",
   "id": "84e2238e",
   "metadata": {},
   "source": [
    "1.1. Define the initial solution"
   ]
  },
  {
   "cell_type": "code",
   "execution_count": 12,
   "id": "577edde6",
   "metadata": {},
   "outputs": [],
   "source": [
    "data = MusicalFestivalData()"
   ]
  },
  {
   "cell_type": "code",
   "execution_count": 13,
   "id": "d1819805",
   "metadata": {},
   "outputs": [
    {
     "name": "stdout",
     "output_type": "stream",
     "text": [
      "Solution         2709172912080226251624330728041132212220340018233110190330151301051406\n",
      "Random Neighbors 2709172112080226251624330728041132292220340018233110190330151301051406\n"
     ]
    }
   ],
   "source": [
    "initial_solution = SAMFSolution(data=data)\n",
    "print('Solution        ', initial_solution)\n",
    "print('Random Neighbors', initial_solution.get_random_neighbor())"
   ]
  },
  {
   "cell_type": "markdown",
   "id": "80eb15a3",
   "metadata": {},
   "source": [
    "1.2. Apply the algorithm"
   ]
  },
  {
   "cell_type": "code",
   "execution_count": 14,
   "id": "6ae7041f",
   "metadata": {},
   "outputs": [],
   "source": [
    "best_solution = simulated_annealing(initial_solution, maximization=True, C=100, L=9, H=1.2, max_iter=1000, verbose=False)"
   ]
  },
  {
   "cell_type": "code",
   "execution_count": 15,
   "id": "36be8d66",
   "metadata": {},
   "outputs": [
    {
     "name": "stdout",
     "output_type": "stream",
     "text": [
      "Fitness 1.694944943494639\n"
     ]
    }
   ],
   "source": [
    "print(\"Fitness\", best_solution.fitness())"
   ]
  },
  {
   "cell_type": "markdown",
   "id": "a5143b29",
   "metadata": {},
   "source": [
    "1.3 Visualize the solution"
   ]
  },
  {
   "cell_type": "code",
   "execution_count": 16,
   "id": "227e009f",
   "metadata": {},
   "outputs": [
    {
     "data": {
      "text/html": [
       "<div>\n",
       "<style scoped>\n",
       "    .dataframe tbody tr th:only-of-type {\n",
       "        vertical-align: middle;\n",
       "    }\n",
       "\n",
       "    .dataframe tbody tr th {\n",
       "        vertical-align: top;\n",
       "    }\n",
       "\n",
       "    .dataframe thead th {\n",
       "        text-align: right;\n",
       "    }\n",
       "</style>\n",
       "<table border=\"1\" class=\"dataframe\">\n",
       "  <thead>\n",
       "    <tr style=\"text-align: right;\">\n",
       "      <th></th>\n",
       "      <th>Slot</th>\n",
       "      <th>Stage 1</th>\n",
       "      <th>Stage 2</th>\n",
       "      <th>Stage 3</th>\n",
       "      <th>Stage 4</th>\n",
       "      <th>Stage 5</th>\n",
       "    </tr>\n",
       "  </thead>\n",
       "  <tbody>\n",
       "    <tr>\n",
       "      <th>0</th>\n",
       "      <td>Slot 1</td>\n",
       "      <td>18: Velvet Underground|Rock|72</td>\n",
       "      <td>4: The Silver Owls|Classical|85</td>\n",
       "      <td>28: The Polyrhythm Syndicate|Jazz|66</td>\n",
       "      <td>21: Celestial Voyage|Electronic|95</td>\n",
       "      <td>12: Blue Horizon|Pop|51</td>\n",
       "    </tr>\n",
       "    <tr>\n",
       "      <th>1</th>\n",
       "      <td>Slot 2</td>\n",
       "      <td>29: Harmonic Dissonance|Classical|96</td>\n",
       "      <td>34: Parallel Dimension|Electronic|58</td>\n",
       "      <td>27: Hypnotic Echoes|Rock|77</td>\n",
       "      <td>10: The Wandering Notes|Jazz|84</td>\n",
       "      <td>7: Static Mirage|Rock|94</td>\n",
       "    </tr>\n",
       "    <tr>\n",
       "      <th>2</th>\n",
       "      <td>Slot 3</td>\n",
       "      <td>17: Nightfall Sonata|Classical|84</td>\n",
       "      <td>30: Turbo Vortex|Rock|53</td>\n",
       "      <td>0: Midnight Echo|Rock|75</td>\n",
       "      <td>5: Echo Chamber|Electronic|98</td>\n",
       "      <td>2: Velvet Pulse|Jazz|35</td>\n",
       "    </tr>\n",
       "    <tr>\n",
       "      <th>3</th>\n",
       "      <td>Slot 4</td>\n",
       "      <td>9: Deep Resonance|Jazz|90</td>\n",
       "      <td>20: The Sonic Drifters|Rock|88</td>\n",
       "      <td>33: Cosmic Frequency|Rock|53</td>\n",
       "      <td>6: Aurora Skies|Pop|75</td>\n",
       "      <td>19: Astral Tide|Electronic|69</td>\n",
       "    </tr>\n",
       "    <tr>\n",
       "      <th>4</th>\n",
       "      <td>Slot 5</td>\n",
       "      <td>13: Lunar Spectrum|Rock|99</td>\n",
       "      <td>24: Shadow Cadence|Jazz|66</td>\n",
       "      <td>11: Phantom Groove|Hip-Hop|47</td>\n",
       "      <td>1: Solar Flare|Electronic|78</td>\n",
       "      <td>8: Crimson Harmony|Classical|20</td>\n",
       "    </tr>\n",
       "    <tr>\n",
       "      <th>5</th>\n",
       "      <td>Slot 6</td>\n",
       "      <td>15: Golden Ember|Rock|61</td>\n",
       "      <td>16: Mystic Rhythms|Classical|78</td>\n",
       "      <td>32: The Bassline Architects|Hip-Hop|61</td>\n",
       "      <td>31: The Jazz Nomads|Jazz|64</td>\n",
       "      <td>23: Electric Serpents|Electronic|99</td>\n",
       "    </tr>\n",
       "    <tr>\n",
       "      <th>6</th>\n",
       "      <td>Slot 7</td>\n",
       "      <td>26: Cloud Nine Collective|Pop|97</td>\n",
       "      <td>3: Neon Reverie|Electronic|100</td>\n",
       "      <td>22: Quantum Beat|Hip-Hop|96</td>\n",
       "      <td>14: Synthwave Saints|Rock|94</td>\n",
       "      <td>25: Rhythm Alchemy|Jazz|94</td>\n",
       "    </tr>\n",
       "  </tbody>\n",
       "</table>\n",
       "</div>"
      ],
      "text/plain": [
       "     Slot                               Stage 1  \\\n",
       "0  Slot 1        18: Velvet Underground|Rock|72   \n",
       "1  Slot 2  29: Harmonic Dissonance|Classical|96   \n",
       "2  Slot 3     17: Nightfall Sonata|Classical|84   \n",
       "3  Slot 4             9: Deep Resonance|Jazz|90   \n",
       "4  Slot 5            13: Lunar Spectrum|Rock|99   \n",
       "5  Slot 6              15: Golden Ember|Rock|61   \n",
       "6  Slot 7      26: Cloud Nine Collective|Pop|97   \n",
       "\n",
       "                                Stage 2  \\\n",
       "0       4: The Silver Owls|Classical|85   \n",
       "1  34: Parallel Dimension|Electronic|58   \n",
       "2              30: Turbo Vortex|Rock|53   \n",
       "3        20: The Sonic Drifters|Rock|88   \n",
       "4            24: Shadow Cadence|Jazz|66   \n",
       "5       16: Mystic Rhythms|Classical|78   \n",
       "6        3: Neon Reverie|Electronic|100   \n",
       "\n",
       "                                  Stage 3                             Stage 4  \\\n",
       "0    28: The Polyrhythm Syndicate|Jazz|66  21: Celestial Voyage|Electronic|95   \n",
       "1             27: Hypnotic Echoes|Rock|77     10: The Wandering Notes|Jazz|84   \n",
       "2                0: Midnight Echo|Rock|75       5: Echo Chamber|Electronic|98   \n",
       "3            33: Cosmic Frequency|Rock|53              6: Aurora Skies|Pop|75   \n",
       "4           11: Phantom Groove|Hip-Hop|47        1: Solar Flare|Electronic|78   \n",
       "5  32: The Bassline Architects|Hip-Hop|61         31: The Jazz Nomads|Jazz|64   \n",
       "6             22: Quantum Beat|Hip-Hop|96        14: Synthwave Saints|Rock|94   \n",
       "\n",
       "                               Stage 5  \n",
       "0              12: Blue Horizon|Pop|51  \n",
       "1             7: Static Mirage|Rock|94  \n",
       "2              2: Velvet Pulse|Jazz|35  \n",
       "3        19: Astral Tide|Electronic|69  \n",
       "4      8: Crimson Harmony|Classical|20  \n",
       "5  23: Electric Serpents|Electronic|99  \n",
       "6           25: Rhythm Alchemy|Jazz|94  "
      ]
     },
     "execution_count": 16,
     "metadata": {},
     "output_type": "execute_result"
    }
   ],
   "source": [
    "visualize_musical_lineup(best_solution.repr,data.artists)"
   ]
  }
 ],
 "metadata": {
  "kernelspec": {
   "display_name": "Python 3 (ipykernel)",
   "language": "python",
   "name": "python3"
  }
 },
 "nbformat": 4,
 "nbformat_minor": 5
}
