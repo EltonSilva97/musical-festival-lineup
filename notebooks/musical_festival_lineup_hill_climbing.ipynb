{
 "cells": [
  {
   "cell_type": "code",
   "execution_count": 1,
   "id": "2975f1f5",
   "metadata": {},
   "outputs": [],
   "source": [
    "\n",
    "# import sys\n",
    "# import os\n",
    "\n",
    "# # # Ensure the project root is correctly in sys.path\n",
    "# # project_root = os.path.abspath(os.path.join(os.getcwd(), \"..\"))\n",
    "# # if project_root not in sys.path:\n",
    "#     sys.path.insert(0, project_root)\n",
    "\n",
    "# # # Correct data paths\n",
    "# # artists_path = os.path.join(project_root, \"data\", \"artists.csv\")\n",
    "# # conflicts_path = os.path.join(project_root, \"data\", \"conflicts.csv\")\n"
   ]
  },
  {
   "cell_type": "code",
   "execution_count": 2,
   "id": "3980492e",
   "metadata": {},
   "outputs": [],
   "source": [
    "import sys\n",
    "\n",
    "sys.path.append(\"..\")"
   ]
  },
  {
   "cell_type": "code",
   "execution_count": null,
   "id": "a2ea54d3",
   "metadata": {},
   "outputs": [],
   "source": []
  },
  {
   "cell_type": "code",
   "execution_count": 3,
   "id": "d720dec2",
   "metadata": {},
   "outputs": [],
   "source": [
    "from musical_festival_lineup.musical_festival_lineup import MusicalFestivalSolution\n",
    "from musical_festival_lineup.musical_festival_data import MusicalFestivalData\n",
    "from musical_festival_lineup.utils import visualize_musical_lineup\n",
    "import numpy as np\n",
    "import time"
   ]
  },
  {
   "cell_type": "code",
   "execution_count": 4,
   "id": "2e6ac9d8",
   "metadata": {},
   "outputs": [],
   "source": [
    "%load_ext autoreload\n",
    "%autoreload 2"
   ]
  },
  {
   "cell_type": "markdown",
   "id": "2ab12c7f",
   "metadata": {},
   "source": [
    "### 1. Structuring the problem"
   ]
  },
  {
   "cell_type": "markdown",
   "id": "8b5fc029",
   "metadata": {},
   "source": [
    "The  objective  is  to  design  the  optimal  festival  lineup  by  scheduling  artists  across  stages  and \n",
    "time  slots while:\n",
    "- Maximizing  prime  slot  popularity\n",
    "- Ensuring  genre  diversity  among  stages \n",
    "- Minimizing  fan conflicts  at each time slot. \n",
    "\n",
    "__`Details`__\n",
    "\n",
    "- **Artists**: An  artist is  characterized  by  a  popularity  score  (from  0  to  100) a genre  and  fan  base.\n",
    "    <br>This information with be on __`artists`__ from musical_festival_data\n",
    "\n",
    "- **Conflicts**:   with  other  artists  (score  from  0  to  1).  Conflicts  arise  when  artists  with  overlapping \n",
    "fan  bases  perform  at  the  same  time  but  on  different  stages,  which  can  negatively  impact \n",
    "attendance.\n",
    "    <br>This information will be on __`conflits`__ from musical_festival_data\n"
   ]
  },
  {
   "cell_type": "markdown",
   "id": "73465e4c",
   "metadata": {},
   "source": [
    "### 2. Defining a  solution/individual"
   ]
  },
  {
   "cell_type": "markdown",
   "id": "013d2e77",
   "metadata": {},
   "source": [
    "Each  individual  represents  a  festival  lineup,  specifying  which  artist  plays  on  which  stage  and \n",
    "at  which  time  slot. \n",
    "These  are  the  constraints  : \n",
    "- Each artist is assigned to exactly one stage and slot \n",
    "- All time slots start and end at the same time. \n",
    "- All stages have the same amount of slots\n",
    "- These artists should be distributed across  **5 stages  with  7 time slots each**\n",
    "\n",
    "__`Important`__ \n",
    "<br>Any  lineup  where  an  artist  is  assigned  to  **multiple  time  slots  or \n",
    "left  unassigned** is  not  part  of  the  search  space  and  is  not  considered  a  solution.  It  is \n",
    "forbidden to generate such an arrangement during evolution. \n"
   ]
  },
  {
   "cell_type": "markdown",
   "id": "d8de78be",
   "metadata": {},
   "source": [
    "__`we propose a  having  a solution as`__:\n",
    "\n",
    "- A string of 5 (stages)*7(slots)= 35 numbers of **1** to **35**\n",
    "- As for the genetic algorithms, we should have string of the same size, we will be appending a 0 to 1 digit numbers.\n",
    "- So the solution will be a string of 35 * 2 (two character)= so will have i string of 70\n",
    "\n",
    "Here a individual of our problem:"
   ]
  },
  {
   "cell_type": "code",
   "execution_count": 5,
   "id": "ff30a1b8",
   "metadata": {},
   "outputs": [],
   "source": [
    "data = MusicalFestivalData()"
   ]
  },
  {
   "cell_type": "code",
   "execution_count": 6,
   "id": "836d8e2a",
   "metadata": {},
   "outputs": [
    {
     "data": {
      "text/plain": [
       "'24,6,8,34,23,2,18,29,10,30,33,1,25,19,17,31,12,16,26,14,15,5,32,7,3,20,0,4,22,9,27,28,13,11,21'"
      ]
     },
     "execution_count": 6,
     "metadata": {},
     "output_type": "execute_result"
    }
   ],
   "source": [
    "lineup=MusicalFestivalSolution(data=data, repr=\"2406083423021829103033012519173112162614150532070320000422092728131121\")\n",
    "\",\".join([ str(i) for i in lineup.repr])"
   ]
  },
  {
   "cell_type": "code",
   "execution_count": 7,
   "id": "c1e68a68",
   "metadata": {},
   "outputs": [
    {
     "data": {
      "text/plain": [
       "'18,34,12,31,26,28,24,30,23,29,22,13,6,16,27,5,15,4,8,19,2,17,25,9,20,7,33,14,32,1,21,10,11,0,3'"
      ]
     },
     "execution_count": 7,
     "metadata": {},
     "output_type": "execute_result"
    }
   ],
   "source": [
    "# Python code to show a random initialized solution\n",
    "lineup=MusicalFestivalSolution(data=data)\n",
    "\",\".join([ str(i) for i in lineup.repr])"
   ]
  },
  {
   "cell_type": "markdown",
   "id": "2b655590",
   "metadata": {},
   "source": [
    "- Having that, we have to options:\n",
    "- 1. The first 7 numbers represent the stage 1 , having each of the 7 representing the slots in  order (1 to 7) by the slot?\n",
    "- 2. Or the first 5 would represent the slot 1 (first time slot) , having the each of the 5 representing the stages in order (1 to 5)?\n",
    "\n",
    "For that we choose the option 2, because how our fitness will be defined. It is well explained in the session 3, when defining fitness\n"
   ]
  },
  {
   "cell_type": "code",
   "execution_count": 8,
   "id": "5faa7862",
   "metadata": {},
   "outputs": [
    {
     "data": {
      "text/html": [
       "<div>\n",
       "<style scoped>\n",
       "    .dataframe tbody tr th:only-of-type {\n",
       "        vertical-align: middle;\n",
       "    }\n",
       "\n",
       "    .dataframe tbody tr th {\n",
       "        vertical-align: top;\n",
       "    }\n",
       "\n",
       "    .dataframe thead th {\n",
       "        text-align: right;\n",
       "    }\n",
       "</style>\n",
       "<table border=\"1\" class=\"dataframe\">\n",
       "  <thead>\n",
       "    <tr style=\"text-align: right;\">\n",
       "      <th></th>\n",
       "      <th>Slot</th>\n",
       "      <th>Stage 1</th>\n",
       "      <th>Stage 2</th>\n",
       "      <th>Stage 3</th>\n",
       "      <th>Stage 4</th>\n",
       "      <th>Stage 5</th>\n",
       "    </tr>\n",
       "  </thead>\n",
       "  <tbody>\n",
       "    <tr>\n",
       "      <th>0</th>\n",
       "      <td>Slot 1</td>\n",
       "      <td>24: Shadow Cadence|Jazz|66</td>\n",
       "      <td>6: Aurora Skies|Pop|75</td>\n",
       "      <td>8: Crimson Harmony|Classical|20</td>\n",
       "      <td>34: Parallel Dimension|Electronic|58</td>\n",
       "      <td>23: Electric Serpents|Electronic|99</td>\n",
       "    </tr>\n",
       "    <tr>\n",
       "      <th>1</th>\n",
       "      <td>Slot 2</td>\n",
       "      <td>2: Velvet Pulse|Jazz|35</td>\n",
       "      <td>18: Velvet Underground|Rock|72</td>\n",
       "      <td>29: Harmonic Dissonance|Classical|96</td>\n",
       "      <td>10: The Wandering Notes|Jazz|84</td>\n",
       "      <td>30: Turbo Vortex|Rock|53</td>\n",
       "    </tr>\n",
       "    <tr>\n",
       "      <th>2</th>\n",
       "      <td>Slot 3</td>\n",
       "      <td>33: Cosmic Frequency|Rock|53</td>\n",
       "      <td>1: Solar Flare|Electronic|78</td>\n",
       "      <td>25: Rhythm Alchemy|Jazz|94</td>\n",
       "      <td>19: Astral Tide|Electronic|69</td>\n",
       "      <td>17: Nightfall Sonata|Classical|84</td>\n",
       "    </tr>\n",
       "    <tr>\n",
       "      <th>3</th>\n",
       "      <td>Slot 4</td>\n",
       "      <td>31: The Jazz Nomads|Jazz|64</td>\n",
       "      <td>12: Blue Horizon|Pop|51</td>\n",
       "      <td>16: Mystic Rhythms|Classical|78</td>\n",
       "      <td>26: Cloud Nine Collective|Pop|97</td>\n",
       "      <td>14: Synthwave Saints|Rock|94</td>\n",
       "    </tr>\n",
       "    <tr>\n",
       "      <th>4</th>\n",
       "      <td>Slot 5</td>\n",
       "      <td>15: Golden Ember|Rock|61</td>\n",
       "      <td>5: Echo Chamber|Electronic|98</td>\n",
       "      <td>32: The Bassline Architects|Hip-Hop|61</td>\n",
       "      <td>7: Static Mirage|Rock|94</td>\n",
       "      <td>3: Neon Reverie|Electronic|100</td>\n",
       "    </tr>\n",
       "    <tr>\n",
       "      <th>5</th>\n",
       "      <td>Slot 6</td>\n",
       "      <td>20: The Sonic Drifters|Rock|88</td>\n",
       "      <td>0: Midnight Echo|Rock|75</td>\n",
       "      <td>4: The Silver Owls|Classical|85</td>\n",
       "      <td>22: Quantum Beat|Hip-Hop|96</td>\n",
       "      <td>9: Deep Resonance|Jazz|90</td>\n",
       "    </tr>\n",
       "    <tr>\n",
       "      <th>6</th>\n",
       "      <td>Slot 7</td>\n",
       "      <td>27: Hypnotic Echoes|Rock|77</td>\n",
       "      <td>28: The Polyrhythm Syndicate|Jazz|66</td>\n",
       "      <td>13: Lunar Spectrum|Rock|99</td>\n",
       "      <td>11: Phantom Groove|Hip-Hop|47</td>\n",
       "      <td>21: Celestial Voyage|Electronic|95</td>\n",
       "    </tr>\n",
       "  </tbody>\n",
       "</table>\n",
       "</div>"
      ],
      "text/plain": [
       "     Slot                         Stage 1  \\\n",
       "0  Slot 1      24: Shadow Cadence|Jazz|66   \n",
       "1  Slot 2         2: Velvet Pulse|Jazz|35   \n",
       "2  Slot 3    33: Cosmic Frequency|Rock|53   \n",
       "3  Slot 4     31: The Jazz Nomads|Jazz|64   \n",
       "4  Slot 5        15: Golden Ember|Rock|61   \n",
       "5  Slot 6  20: The Sonic Drifters|Rock|88   \n",
       "6  Slot 7     27: Hypnotic Echoes|Rock|77   \n",
       "\n",
       "                                Stage 2  \\\n",
       "0                6: Aurora Skies|Pop|75   \n",
       "1        18: Velvet Underground|Rock|72   \n",
       "2          1: Solar Flare|Electronic|78   \n",
       "3               12: Blue Horizon|Pop|51   \n",
       "4         5: Echo Chamber|Electronic|98   \n",
       "5              0: Midnight Echo|Rock|75   \n",
       "6  28: The Polyrhythm Syndicate|Jazz|66   \n",
       "\n",
       "                                  Stage 3  \\\n",
       "0         8: Crimson Harmony|Classical|20   \n",
       "1    29: Harmonic Dissonance|Classical|96   \n",
       "2              25: Rhythm Alchemy|Jazz|94   \n",
       "3         16: Mystic Rhythms|Classical|78   \n",
       "4  32: The Bassline Architects|Hip-Hop|61   \n",
       "5         4: The Silver Owls|Classical|85   \n",
       "6              13: Lunar Spectrum|Rock|99   \n",
       "\n",
       "                                Stage 4                              Stage 5  \n",
       "0  34: Parallel Dimension|Electronic|58  23: Electric Serpents|Electronic|99  \n",
       "1       10: The Wandering Notes|Jazz|84             30: Turbo Vortex|Rock|53  \n",
       "2         19: Astral Tide|Electronic|69    17: Nightfall Sonata|Classical|84  \n",
       "3      26: Cloud Nine Collective|Pop|97         14: Synthwave Saints|Rock|94  \n",
       "4              7: Static Mirage|Rock|94       3: Neon Reverie|Electronic|100  \n",
       "5           22: Quantum Beat|Hip-Hop|96            9: Deep Resonance|Jazz|90  \n",
       "6         11: Phantom Groove|Hip-Hop|47   21: Celestial Voyage|Electronic|95  "
      ]
     },
     "execution_count": 8,
     "metadata": {},
     "output_type": "execute_result"
    }
   ],
   "source": [
    "visualize_musical_lineup(\"2406083423021829103033012519173112162614150532070320000422092728131121\", data.artists)"
   ]
  },
  {
   "cell_type": "code",
   "execution_count": 9,
   "id": "16e31f6d",
   "metadata": {},
   "outputs": [
    {
     "data": {
      "text/html": [
       "<div>\n",
       "<style scoped>\n",
       "    .dataframe tbody tr th:only-of-type {\n",
       "        vertical-align: middle;\n",
       "    }\n",
       "\n",
       "    .dataframe tbody tr th {\n",
       "        vertical-align: top;\n",
       "    }\n",
       "\n",
       "    .dataframe thead th {\n",
       "        text-align: right;\n",
       "    }\n",
       "</style>\n",
       "<table border=\"1\" class=\"dataframe\">\n",
       "  <thead>\n",
       "    <tr style=\"text-align: right;\">\n",
       "      <th></th>\n",
       "      <th>Slot</th>\n",
       "      <th>Stage 1</th>\n",
       "      <th>Stage 2</th>\n",
       "      <th>Stage 3</th>\n",
       "      <th>Stage 4</th>\n",
       "      <th>Stage 5</th>\n",
       "    </tr>\n",
       "  </thead>\n",
       "  <tbody>\n",
       "    <tr>\n",
       "      <th>0</th>\n",
       "      <td>Slot 1</td>\n",
       "      <td>18: Velvet Underground|Rock|72</td>\n",
       "      <td>34: Parallel Dimension|Electronic|58</td>\n",
       "      <td>12: Blue Horizon|Pop|51</td>\n",
       "      <td>31: The Jazz Nomads|Jazz|64</td>\n",
       "      <td>26: Cloud Nine Collective|Pop|97</td>\n",
       "    </tr>\n",
       "    <tr>\n",
       "      <th>1</th>\n",
       "      <td>Slot 2</td>\n",
       "      <td>28: The Polyrhythm Syndicate|Jazz|66</td>\n",
       "      <td>24: Shadow Cadence|Jazz|66</td>\n",
       "      <td>30: Turbo Vortex|Rock|53</td>\n",
       "      <td>23: Electric Serpents|Electronic|99</td>\n",
       "      <td>29: Harmonic Dissonance|Classical|96</td>\n",
       "    </tr>\n",
       "    <tr>\n",
       "      <th>2</th>\n",
       "      <td>Slot 3</td>\n",
       "      <td>22: Quantum Beat|Hip-Hop|96</td>\n",
       "      <td>13: Lunar Spectrum|Rock|99</td>\n",
       "      <td>6: Aurora Skies|Pop|75</td>\n",
       "      <td>16: Mystic Rhythms|Classical|78</td>\n",
       "      <td>27: Hypnotic Echoes|Rock|77</td>\n",
       "    </tr>\n",
       "    <tr>\n",
       "      <th>3</th>\n",
       "      <td>Slot 4</td>\n",
       "      <td>5: Echo Chamber|Electronic|98</td>\n",
       "      <td>15: Golden Ember|Rock|61</td>\n",
       "      <td>4: The Silver Owls|Classical|85</td>\n",
       "      <td>8: Crimson Harmony|Classical|20</td>\n",
       "      <td>19: Astral Tide|Electronic|69</td>\n",
       "    </tr>\n",
       "    <tr>\n",
       "      <th>4</th>\n",
       "      <td>Slot 5</td>\n",
       "      <td>2: Velvet Pulse|Jazz|35</td>\n",
       "      <td>17: Nightfall Sonata|Classical|84</td>\n",
       "      <td>25: Rhythm Alchemy|Jazz|94</td>\n",
       "      <td>9: Deep Resonance|Jazz|90</td>\n",
       "      <td>20: The Sonic Drifters|Rock|88</td>\n",
       "    </tr>\n",
       "    <tr>\n",
       "      <th>5</th>\n",
       "      <td>Slot 6</td>\n",
       "      <td>7: Static Mirage|Rock|94</td>\n",
       "      <td>33: Cosmic Frequency|Rock|53</td>\n",
       "      <td>14: Synthwave Saints|Rock|94</td>\n",
       "      <td>32: The Bassline Architects|Hip-Hop|61</td>\n",
       "      <td>1: Solar Flare|Electronic|78</td>\n",
       "    </tr>\n",
       "    <tr>\n",
       "      <th>6</th>\n",
       "      <td>Slot 7</td>\n",
       "      <td>21: Celestial Voyage|Electronic|95</td>\n",
       "      <td>10: The Wandering Notes|Jazz|84</td>\n",
       "      <td>11: Phantom Groove|Hip-Hop|47</td>\n",
       "      <td>0: Midnight Echo|Rock|75</td>\n",
       "      <td>3: Neon Reverie|Electronic|100</td>\n",
       "    </tr>\n",
       "  </tbody>\n",
       "</table>\n",
       "</div>"
      ],
      "text/plain": [
       "     Slot                               Stage 1  \\\n",
       "0  Slot 1        18: Velvet Underground|Rock|72   \n",
       "1  Slot 2  28: The Polyrhythm Syndicate|Jazz|66   \n",
       "2  Slot 3           22: Quantum Beat|Hip-Hop|96   \n",
       "3  Slot 4         5: Echo Chamber|Electronic|98   \n",
       "4  Slot 5               2: Velvet Pulse|Jazz|35   \n",
       "5  Slot 6              7: Static Mirage|Rock|94   \n",
       "6  Slot 7    21: Celestial Voyage|Electronic|95   \n",
       "\n",
       "                                Stage 2                          Stage 3  \\\n",
       "0  34: Parallel Dimension|Electronic|58          12: Blue Horizon|Pop|51   \n",
       "1            24: Shadow Cadence|Jazz|66         30: Turbo Vortex|Rock|53   \n",
       "2            13: Lunar Spectrum|Rock|99           6: Aurora Skies|Pop|75   \n",
       "3              15: Golden Ember|Rock|61  4: The Silver Owls|Classical|85   \n",
       "4     17: Nightfall Sonata|Classical|84       25: Rhythm Alchemy|Jazz|94   \n",
       "5          33: Cosmic Frequency|Rock|53     14: Synthwave Saints|Rock|94   \n",
       "6       10: The Wandering Notes|Jazz|84    11: Phantom Groove|Hip-Hop|47   \n",
       "\n",
       "                                  Stage 4  \\\n",
       "0             31: The Jazz Nomads|Jazz|64   \n",
       "1     23: Electric Serpents|Electronic|99   \n",
       "2         16: Mystic Rhythms|Classical|78   \n",
       "3         8: Crimson Harmony|Classical|20   \n",
       "4               9: Deep Resonance|Jazz|90   \n",
       "5  32: The Bassline Architects|Hip-Hop|61   \n",
       "6                0: Midnight Echo|Rock|75   \n",
       "\n",
       "                                Stage 5  \n",
       "0      26: Cloud Nine Collective|Pop|97  \n",
       "1  29: Harmonic Dissonance|Classical|96  \n",
       "2           27: Hypnotic Echoes|Rock|77  \n",
       "3         19: Astral Tide|Electronic|69  \n",
       "4        20: The Sonic Drifters|Rock|88  \n",
       "5          1: Solar Flare|Electronic|78  \n",
       "6        3: Neon Reverie|Electronic|100  "
      ]
     },
     "execution_count": 9,
     "metadata": {},
     "output_type": "execute_result"
    }
   ],
   "source": [
    "visualize_musical_lineup(lineup.repr, data.artists)"
   ]
  },
  {
   "cell_type": "markdown",
   "id": "450d88dd",
   "metadata": {},
   "source": [
    "- Get artists of slot"
   ]
  },
  {
   "cell_type": "code",
   "execution_count": 10,
   "id": "b6f52dc3",
   "metadata": {},
   "outputs": [
    {
     "data": {
      "text/plain": [
       "[21, 10, 11, 0, 3]"
      ]
     },
     "execution_count": 10,
     "metadata": {},
     "output_type": "execute_result"
    }
   ],
   "source": [
    "lineup._get_slot_repr_list(slot=6)"
   ]
  },
  {
   "cell_type": "markdown",
   "id": "dff8542a",
   "metadata": {},
   "source": [
    "### 3. Defining fitness"
   ]
  },
  {
   "cell_type": "markdown",
   "id": "312fea55",
   "metadata": {},
   "source": [
    "\" The  quality  of  a  festival  lineup  is  determined  by  balancing  __`three  equally`__  important \n",
    "objectives** ,  each  contributing  to  an  overall  score.  Since  these  objectives  have  different \n",
    "scales,  ** they  must  be  normalized  to  the  same  range  (between  0  and  1)  to  ensure  they \n",
    "contribute equally to the final fitness score.\n",
    "<br>\n",
    " These are the objectives: \n",
    " \n",
    "__`Prime  Slot  Popularity`__  :  The  most  popular  artists  should  be  scheduled  in  the  prime \n",
    "slots  (**the  last  time  slot  on  each  stage**).  This  score  is  calculated  by  normalizing  the \n",
    "total  popularity  of  artists  in  prime  slots  against  the  maximum  possible  total  popularity \n",
    "(e.g. if only most popular artists - score 100 - were scheduled on the prime slot). \n",
    "\n",
    "__`Genre  Diversity`__  :  A  diverse  distribution  of  **genres  among  stages  in  each  time  slot**\n",
    "improves  the  festival  experience.  This  score  is  determined  by  normalizing  the \n",
    "number  of  unique  genres  in  each  slot  relative  to  the  maximum  possible  number  of \n",
    "unique  genres  (e.g.  if  only  different  genres  were  scheduled  in  that  time  slot)  .  Then \n",
    "you take the average among time slots. \n",
    "\n",
    "__`Conflict  Penalty`__  : ** Fan  conflicts  occur  when  artists  with  overlapping  audiences \n",
    "perform  at  the  same  time  on  different  stages**. \n",
    " This  score  is  calculated  by  normalizing \n",
    "the  total  conflict  value  in  each  slot  against  the  worst  possible  conflict  scenario  (e.g. \n",
    "where  all  artists  with  maximum  conflict  are  scheduled  together).  Then  you  take  the \n",
    "average  among  time  slots.  Since  conflicts  negatively  impact  the  lineup,  this  is  a \n",
    "penalization  score. \n",
    "\""
   ]
  },
  {
   "cell_type": "markdown",
   "id": "9a82c77d",
   "metadata": {},
   "source": []
  },
  {
   "cell_type": "markdown",
   "id": "e87fd65f",
   "metadata": {},
   "source": [
    "__`Prime  Slot  Popularity`__  "
   ]
  },
  {
   "cell_type": "markdown",
   "id": "e638e062",
   "metadata": {},
   "source": [
    "1.  Maximum  possible  total  popularity, having into account that There is 5 stages, so we eill be summing the 5(NUM STAGES) largest"
   ]
  },
  {
   "cell_type": "code",
   "execution_count": 11,
   "id": "cc3f2f12",
   "metadata": {},
   "outputs": [
    {
     "data": {
      "text/plain": [
       "493"
      ]
     },
     "execution_count": 11,
     "metadata": {},
     "output_type": "execute_result"
    }
   ],
   "source": [
    "data.max_popularity_in_prime_slot"
   ]
  },
  {
   "cell_type": "markdown",
   "id": "8e92900a",
   "metadata": {},
   "source": [
    "2. Total  popularity  of  artists: <br>\n",
    "For that, it was defined a function that receives artists Ids and returns the popularity for that specifics Ids. <br>\n",
    "Lets test it!\n",
    "\n"
   ]
  },
  {
   "cell_type": "code",
   "execution_count": 12,
   "id": "ea687d89",
   "metadata": {},
   "outputs": [
    {
     "data": {
      "text/plain": [
       "1031"
      ]
     },
     "execution_count": 12,
     "metadata": {},
     "output_type": "execute_result"
    }
   ],
   "source": [
    "#Summing popularity of all artists\n",
    "data.get_sum_popularity(list(range(14)))"
   ]
  },
  {
   "cell_type": "code",
   "execution_count": 13,
   "id": "5f8ff584",
   "metadata": {},
   "outputs": [
    {
     "data": {
      "text/plain": [
       "298"
      ]
     },
     "execution_count": 13,
     "metadata": {},
     "output_type": "execute_result"
    }
   ],
   "source": [
    "#Summing popularity of [1,2,3,4]\n",
    "data.get_sum_popularity([1,2,3,4])"
   ]
  },
  {
   "cell_type": "markdown",
   "id": "4312923d",
   "metadata": {},
   "source": [
    "3. Normalizing the popularity against the max number of popularity"
   ]
  },
  {
   "cell_type": "code",
   "execution_count": 14,
   "id": "b7179929",
   "metadata": {},
   "outputs": [
    {
     "data": {
      "text/plain": [
       "0.6044624746450304"
      ]
     },
     "execution_count": 14,
     "metadata": {},
     "output_type": "execute_result"
    }
   ],
   "source": [
    "lineup._get_popularity_normalized([1,2,3,4])"
   ]
  },
  {
   "cell_type": "markdown",
   "id": "20c22305",
   "metadata": {},
   "source": [
    "__`Genre  Diversity`__  : "
   ]
  },
  {
   "cell_type": "markdown",
   "id": "e734b5bc",
   "metadata": {},
   "source": [
    "1. Get maximum number of genres per slot, can not be greater than the total number of stages, which is 5"
   ]
  },
  {
   "cell_type": "code",
   "execution_count": 15,
   "id": "a4502f44",
   "metadata": {},
   "outputs": [
    {
     "data": {
      "text/plain": [
       "5"
      ]
     },
     "execution_count": 15,
     "metadata": {},
     "output_type": "execute_result"
    }
   ],
   "source": [
    "#Genre  Diversity\n",
    "data.max_distinct_genre_per_slot"
   ]
  },
  {
   "cell_type": "markdown",
   "id": "914bc80b",
   "metadata": {},
   "source": [
    "2. Number of distinct genres : <br>\n",
    "For that, it was defined a function that receives artists Ids and returns distinct genres in that list of specifics Ids. <br>\n",
    "Lets test it!\n"
   ]
  },
  {
   "cell_type": "code",
   "execution_count": 16,
   "id": "a8ac2f14",
   "metadata": {},
   "outputs": [
    {
     "data": {
      "text/plain": [
       "3"
      ]
     },
     "execution_count": 16,
     "metadata": {},
     "output_type": "execute_result"
    }
   ],
   "source": [
    "data.get_count_distinct_genres(artists_ids_list=[0,1,10,2])"
   ]
  },
  {
   "cell_type": "markdown",
   "id": "7481e095",
   "metadata": {},
   "source": [
    "3. Normalizing the genres against the max number of distinct genres"
   ]
  },
  {
   "cell_type": "code",
   "execution_count": 17,
   "id": "84fbbd5d",
   "metadata": {},
   "outputs": [
    {
     "data": {
      "text/plain": [
       "0.6"
      ]
     },
     "execution_count": 17,
     "metadata": {},
     "output_type": "execute_result"
    }
   ],
   "source": [
    "lineup._get_genre_diversity_normalized(artists_ids_list=[0,1,10])"
   ]
  },
  {
   "cell_type": "markdown",
   "id": "ef292444",
   "metadata": {},
   "source": [
    "__`Penalty Conflict`__  : "
   ]
  },
  {
   "cell_type": "markdown",
   "id": "d2d17311",
   "metadata": {},
   "source": [
    "1. Get maximum possible conflift, the  worst  possible  conflict  scenario, so for that we get the top K worst case scenerio. <br>\n",
    " What is K?\n",
    " Is the numbers os conflits in a slot, which is the combination of 5 elements when grouping in two so, we will have C5,2, tthat is equal to 10.\n",
    " So will will be choosing the top 10 worst conflits\n"
   ]
  },
  {
   "cell_type": "code",
   "execution_count": 18,
   "id": "a88e0fb1",
   "metadata": {},
   "outputs": [
    {
     "data": {
      "text/plain": [
       "np.float64(10.0)"
      ]
     },
     "execution_count": 18,
     "metadata": {},
     "output_type": "execute_result"
    }
   ],
   "source": [
    "data.max_worst_conflit_per_slot"
   ]
  },
  {
   "cell_type": "markdown",
   "id": "cde86f96",
   "metadata": {},
   "source": [
    "2. The  Total  conflict  value  in  each  slot : <br>\n",
    "For that, it was defined a function that receives artists Ids and sum of all conflicts in the list. <br>\n",
    "Lets test it!\n"
   ]
  },
  {
   "cell_type": "code",
   "execution_count": 19,
   "id": "a1815a84",
   "metadata": {},
   "outputs": [
    {
     "data": {
      "text/plain": [
       "np.float64(1.8)"
      ]
     },
     "execution_count": 19,
     "metadata": {},
     "output_type": "execute_result"
    }
   ],
   "source": [
    "data.get_sum_conflicts(artists_ids_list=[3,1,10])"
   ]
  },
  {
   "cell_type": "code",
   "execution_count": 20,
   "id": "c0ef320b",
   "metadata": {},
   "outputs": [
    {
     "data": {
      "text/plain": [
       "np.float64(5.75)"
      ]
     },
     "execution_count": 20,
     "metadata": {},
     "output_type": "execute_result"
    }
   ],
   "source": [
    "data.get_sum_conflicts(artists_ids_list=[32, 29, 25, 13, 30])"
   ]
  },
  {
   "cell_type": "code",
   "execution_count": 21,
   "id": "0fb8c90f",
   "metadata": {},
   "outputs": [
    {
     "data": {
      "text/plain": [
       "np.float64(0.9)"
      ]
     },
     "execution_count": 21,
     "metadata": {},
     "output_type": "execute_result"
    }
   ],
   "source": [
    "data.get_sum_conflicts(artists_ids_list=[2,10])"
   ]
  },
  {
   "cell_type": "markdown",
   "id": "53a0f298",
   "metadata": {},
   "source": [
    "3. Normalizing the conflicts against the worst conflit scenario"
   ]
  },
  {
   "cell_type": "code",
   "execution_count": 22,
   "id": "5055dd05",
   "metadata": {},
   "outputs": [
    {
     "data": {
      "text/plain": [
       "np.float64(0.18)"
      ]
     },
     "execution_count": 22,
     "metadata": {},
     "output_type": "execute_result"
    }
   ],
   "source": [
    "lineup._get_conflicts_normalized(artists_ids_list=[3,1,10])"
   ]
  },
  {
   "cell_type": "code",
   "execution_count": 23,
   "id": "4d98755e",
   "metadata": {},
   "outputs": [
    {
     "data": {
      "text/plain": [
       "np.float64(0.575)"
      ]
     },
     "execution_count": 23,
     "metadata": {},
     "output_type": "execute_result"
    }
   ],
   "source": [
    "lineup._get_conflicts_normalized(artists_ids_list=[32, 29, 25, 13, 30])"
   ]
  },
  {
   "cell_type": "markdown",
   "id": "c7cb40d4",
   "metadata": {},
   "source": []
  },
  {
   "cell_type": "markdown",
   "id": "9f9fb731",
   "metadata": {},
   "source": [
    "##### 3.2 Other important functions in the solution"
   ]
  },
  {
   "cell_type": "code",
   "execution_count": 24,
   "id": "1c47f9f9",
   "metadata": {},
   "outputs": [
    {
     "data": {
      "text/plain": [
       "[18,\n",
       " 34,\n",
       " 12,\n",
       " 31,\n",
       " 26,\n",
       " 28,\n",
       " 24,\n",
       " 30,\n",
       " 23,\n",
       " 29,\n",
       " 22,\n",
       " 13,\n",
       " 6,\n",
       " 16,\n",
       " 27,\n",
       " 5,\n",
       " 15,\n",
       " 4,\n",
       " 8,\n",
       " 19,\n",
       " 2,\n",
       " 17,\n",
       " 25,\n",
       " 9,\n",
       " 20,\n",
       " 7,\n",
       " 33,\n",
       " 14,\n",
       " 32,\n",
       " 1,\n",
       " 21,\n",
       " 10,\n",
       " 11,\n",
       " 0,\n",
       " 3]"
      ]
     },
     "execution_count": 24,
     "metadata": {},
     "output_type": "execute_result"
    }
   ],
   "source": [
    "lineup.repr"
   ]
  },
  {
   "cell_type": "markdown",
   "id": "6faf9b3a",
   "metadata": {},
   "source": [
    "- Get the list of artists Ids in a Slot, Slot is a parameter"
   ]
  },
  {
   "cell_type": "code",
   "execution_count": 25,
   "id": "72b8a478",
   "metadata": {},
   "outputs": [
    {
     "data": {
      "text/plain": [
       "[28, 24, 30, 23, 29]"
      ]
     },
     "execution_count": 25,
     "metadata": {},
     "output_type": "execute_result"
    }
   ],
   "source": [
    "lineup._get_slot_repr_list(1)"
   ]
  },
  {
   "cell_type": "code",
   "execution_count": 26,
   "id": "ff41c8c2",
   "metadata": {},
   "outputs": [
    {
     "data": {
      "text/plain": [
       "[18, 34, 12, 31, 26]"
      ]
     },
     "execution_count": 26,
     "metadata": {},
     "output_type": "execute_result"
    }
   ],
   "source": [
    "lineup._get_slot_repr_list(0)"
   ]
  },
  {
   "cell_type": "markdown",
   "id": "7fcb3fe5",
   "metadata": {},
   "source": [
    "##### 3.3 Fitness"
   ]
  },
  {
   "cell_type": "code",
   "execution_count": 27,
   "id": "dd3eed16",
   "metadata": {},
   "outputs": [
    {
     "name": "stdout",
     "output_type": "stream",
     "text": [
      "Slot of artists: [25, 10, 30, 0, 27]\n",
      "Slot 0: Conflitcs: 0.6, genres: 0.4, sum_popularity: 0\n",
      "Slot 0: List of  Conflitcs: [np.float64(0.6)], List of genres: [0.4], Popularity of the prime slot: 0\n",
      "Slot of artists: [3, 34, 32, 18, 15]\n",
      "Slot 1: Conflitcs: 0.6300000000000001, genres: 0.6, sum_popularity: 0\n",
      "Slot 1: List of  Conflitcs: [np.float64(0.6), np.float64(0.6300000000000001)], List of genres: [0.4, 0.6], Popularity of the prime slot: 0\n",
      "Slot of artists: [24, 31, 5, 23, 1]\n",
      "Slot 2: Conflitcs: 0.49000000000000005, genres: 0.4, sum_popularity: 0\n",
      "Slot 2: List of  Conflitcs: [np.float64(0.6), np.float64(0.6300000000000001), np.float64(0.49000000000000005)], List of genres: [0.4, 0.6, 0.4], Popularity of the prime slot: 0\n",
      "Slot of artists: [29, 21, 11, 4, 12]\n",
      "Slot 3: Conflitcs: 0.28, genres: 0.8, sum_popularity: 0\n",
      "Slot 3: List of  Conflitcs: [np.float64(0.6), np.float64(0.6300000000000001), np.float64(0.49000000000000005), np.float64(0.28)], List of genres: [0.4, 0.6, 0.4, 0.8], Popularity of the prime slot: 0\n",
      "Slot of artists: [6, 14, 19, 22, 33]\n",
      "Slot 4: Conflitcs: 0.36, genres: 0.8, sum_popularity: 0\n",
      "Slot 4: List of  Conflitcs: [np.float64(0.6), np.float64(0.6300000000000001), np.float64(0.49000000000000005), np.float64(0.28), np.float64(0.36)], List of genres: [0.4, 0.6, 0.4, 0.8, 0.8], Popularity of the prime slot: 0\n",
      "Slot of artists: [2, 7, 20, 17, 9]\n",
      "Slot 5: Conflitcs: 0.665, genres: 0.6, sum_popularity: 0\n",
      "Slot 5: List of  Conflitcs: [np.float64(0.6), np.float64(0.6300000000000001), np.float64(0.49000000000000005), np.float64(0.28), np.float64(0.36), np.float64(0.665)], List of genres: [0.4, 0.6, 0.4, 0.8, 0.8, 0.6], Popularity of the prime slot: 0\n",
      "Slot of artists: [16, 8, 28, 13, 26]\n",
      "Slot 6: Conflitcs: 0.445, genres: 0.8, sum_popularity: 0.7302231237322515\n",
      "Slot 6: List of  Conflitcs: [np.float64(0.6), np.float64(0.6300000000000001), np.float64(0.49000000000000005), np.float64(0.28), np.float64(0.36), np.float64(0.665), np.float64(0.445)], List of genres: [0.4, 0.6, 0.4, 0.8, 0.8, 0.6, 0.8], Popularity of the prime slot: 0.7302231237322515\n",
      "Average of conflits: 0.49571428571428566, Average of distinct genres 0.6285714285714287, and Popularity in prime slot: 0.7302231237322515\n",
      "Fitness: 0.8630802665893945\n"
     ]
    },
    {
     "data": {
      "text/plain": [
       "np.float64(0.8630802665893945)"
      ]
     },
     "execution_count": 27,
     "metadata": {},
     "output_type": "execute_result"
    }
   ],
   "source": [
    "#Random 1\n",
    "lineup=MusicalFestivalSolution(data=data)\n",
    "lineup.repr\n",
    "lineup.fitness(verbose=True)"
   ]
  },
  {
   "cell_type": "code",
   "execution_count": 28,
   "id": "0b7399e0",
   "metadata": {},
   "outputs": [
    {
     "name": "stdout",
     "output_type": "stream",
     "text": [
      "Slot of artists: [19, 34, 22, 5, 16]\n",
      "Slot 0: Conflitcs: 0.48500000000000004, genres: 0.6, sum_popularity: 0\n",
      "Slot 0: List of  Conflitcs: [np.float64(0.48500000000000004)], List of genres: [0.6], Popularity of the prime slot: 0\n",
      "Slot of artists: [23, 0, 7, 4, 32]\n",
      "Slot 1: Conflitcs: 0.56, genres: 0.8, sum_popularity: 0\n",
      "Slot 1: List of  Conflitcs: [np.float64(0.48500000000000004), np.float64(0.56)], List of genres: [0.6, 0.8], Popularity of the prime slot: 0\n",
      "Slot of artists: [11, 10, 26, 30, 1]\n",
      "Slot 2: Conflitcs: 0.45500000000000007, genres: 1.0, sum_popularity: 0\n",
      "Slot 2: List of  Conflitcs: [np.float64(0.48500000000000004), np.float64(0.56), np.float64(0.45500000000000007)], List of genres: [0.6, 0.8, 1.0], Popularity of the prime slot: 0\n",
      "Slot of artists: [18, 13, 9, 6, 29]\n",
      "Slot 3: Conflitcs: 0.36499999999999994, genres: 0.8, sum_popularity: 0\n",
      "Slot 3: List of  Conflitcs: [np.float64(0.48500000000000004), np.float64(0.56), np.float64(0.45500000000000007), np.float64(0.36499999999999994)], List of genres: [0.6, 0.8, 1.0, 0.8], Popularity of the prime slot: 0\n",
      "Slot of artists: [15, 28, 17, 3, 25]\n",
      "Slot 4: Conflitcs: 0.62, genres: 0.8, sum_popularity: 0\n",
      "Slot 4: List of  Conflitcs: [np.float64(0.48500000000000004), np.float64(0.56), np.float64(0.45500000000000007), np.float64(0.36499999999999994), np.float64(0.62)], List of genres: [0.6, 0.8, 1.0, 0.8, 0.8], Popularity of the prime slot: 0\n",
      "Slot of artists: [21, 33, 14, 12, 27]\n",
      "Slot 5: Conflitcs: 0.57, genres: 0.6, sum_popularity: 0\n",
      "Slot 5: List of  Conflitcs: [np.float64(0.48500000000000004), np.float64(0.56), np.float64(0.45500000000000007), np.float64(0.36499999999999994), np.float64(0.62), np.float64(0.57)], List of genres: [0.6, 0.8, 1.0, 0.8, 0.8, 0.6], Popularity of the prime slot: 0\n",
      "Slot of artists: [20, 24, 31, 2, 8]\n",
      "Slot 6: Conflitcs: 0.635, genres: 0.6, sum_popularity: 0.5537525354969574\n",
      "Slot 6: List of  Conflitcs: [np.float64(0.48500000000000004), np.float64(0.56), np.float64(0.45500000000000007), np.float64(0.36499999999999994), np.float64(0.62), np.float64(0.57), np.float64(0.635)], List of genres: [0.6, 0.8, 1.0, 0.8, 0.8, 0.6, 0.6], Popularity of the prime slot: 0.5537525354969574\n",
      "Average of conflits: 0.5271428571428572, Average of distinct genres 0.7428571428571429, and Popularity in prime slot: 0.5537525354969574\n",
      "Fitness: 0.7694668212112429\n"
     ]
    },
    {
     "data": {
      "text/plain": [
       "np.float64(0.7694668212112429)"
      ]
     },
     "execution_count": 28,
     "metadata": {},
     "output_type": "execute_result"
    }
   ],
   "source": [
    "#Random 2\n",
    "lineup=MusicalFestivalSolution(data=data)\n",
    "lineup.repr\n",
    "lineup.fitness(verbose=True)"
   ]
  },
  {
   "cell_type": "code",
   "execution_count": 29,
   "id": "4d90c1f0",
   "metadata": {},
   "outputs": [
    {
     "name": "stdout",
     "output_type": "stream",
     "text": [
      "Slot of artists: [2, 13, 18, 4, 26]\n",
      "Slot 0: Conflitcs: 0.755, genres: 0.8, sum_popularity: 0\n",
      "Slot 0: List of  Conflitcs: [np.float64(0.755)], List of genres: [0.8], Popularity of the prime slot: 0\n",
      "Slot of artists: [25, 33, 11, 29, 15]\n",
      "Slot 1: Conflitcs: 0.4600000000000001, genres: 0.8, sum_popularity: 0\n",
      "Slot 1: List of  Conflitcs: [np.float64(0.755), np.float64(0.4600000000000001)], List of genres: [0.8, 0.8], Popularity of the prime slot: 0\n",
      "Slot of artists: [1, 27, 16, 8, 10]\n",
      "Slot 2: Conflitcs: 0.32, genres: 0.8, sum_popularity: 0\n",
      "Slot 2: List of  Conflitcs: [np.float64(0.755), np.float64(0.4600000000000001), np.float64(0.32)], List of genres: [0.8, 0.8, 0.8], Popularity of the prime slot: 0\n",
      "Slot of artists: [0, 32, 28, 3, 24]\n",
      "Slot 3: Conflitcs: 0.41, genres: 0.8, sum_popularity: 0\n",
      "Slot 3: List of  Conflitcs: [np.float64(0.755), np.float64(0.4600000000000001), np.float64(0.32), np.float64(0.41)], List of genres: [0.8, 0.8, 0.8, 0.8], Popularity of the prime slot: 0\n",
      "Slot of artists: [31, 5, 30, 17, 20]\n",
      "Slot 4: Conflitcs: 0.58, genres: 0.8, sum_popularity: 0\n",
      "Slot 4: List of  Conflitcs: [np.float64(0.755), np.float64(0.4600000000000001), np.float64(0.32), np.float64(0.41), np.float64(0.58)], List of genres: [0.8, 0.8, 0.8, 0.8, 0.8], Popularity of the prime slot: 0\n",
      "Slot of artists: [34, 7, 12, 19, 9]\n",
      "Slot 5: Conflitcs: 0.4, genres: 0.8, sum_popularity: 0\n",
      "Slot 5: List of  Conflitcs: [np.float64(0.755), np.float64(0.4600000000000001), np.float64(0.32), np.float64(0.41), np.float64(0.58), np.float64(0.4)], List of genres: [0.8, 0.8, 0.8, 0.8, 0.8, 0.8], Popularity of the prime slot: 0\n",
      "Slot of artists: [23, 6, 22, 21, 14]\n",
      "Slot 6: Conflitcs: 0.465, genres: 0.8, sum_popularity: 0.9310344827586207\n",
      "Slot 6: List of  Conflitcs: [np.float64(0.755), np.float64(0.4600000000000001), np.float64(0.32), np.float64(0.41), np.float64(0.58), np.float64(0.4), np.float64(0.465)], List of genres: [0.8, 0.8, 0.8, 0.8, 0.8, 0.8, 0.8], Popularity of the prime slot: 0.9310344827586207\n",
      "Average of conflits: 0.48428571428571426, Average of distinct genres 0.8, and Popularity in prime slot: 0.9310344827586207\n",
      "Fitness: 1.2467487684729066\n"
     ]
    },
    {
     "data": {
      "text/plain": [
       "np.float64(1.2467487684729066)"
      ]
     },
     "execution_count": 29,
     "metadata": {},
     "output_type": "execute_result"
    }
   ],
   "source": [
    "#Random 3\n",
    "lineup=MusicalFestivalSolution(data=data)\n",
    "lineup.repr\n",
    "lineup.fitness(verbose=True)"
   ]
  },
  {
   "cell_type": "markdown",
   "id": "bdfb5d7c",
   "metadata": {},
   "source": [
    "### Hill-Climbing"
   ]
  },
  {
   "cell_type": "code",
   "execution_count": 31,
   "id": "0ab4c8db",
   "metadata": {},
   "outputs": [],
   "source": [
    "from library.algorithms.hill_climbing import hill_climbing\n",
    "from musical_festival_lineup.musical_festival_lineup_hill_climbing import MusicalFestivalHillClimbingSolution"
   ]
  },
  {
   "cell_type": "code",
   "execution_count": 32,
   "id": "5add46d9",
   "metadata": {},
   "outputs": [],
   "source": [
    "lineup=MusicalFestivalHillClimbingSolution(data=data)"
   ]
  },
  {
   "cell_type": "code",
   "execution_count": 33,
   "id": "cec18455",
   "metadata": {},
   "outputs": [
    {
     "name": "stdout",
     "output_type": "stream",
     "text": [
      "Current solution: [26, 33, 6, 23, 14, 32, 4, 29, 5, 27, 0, 24, 7, 22, 13, 31, 25, 17, 15, 3, 10, 9, 12, 18, 34, 21, 16, 2, 8, 28, 20, 1, 30, 11, 19] with fitness 0.8602274702984641\n",
      "Neighbor: [26, 33, 6, 5, 14, 32, 4, 29, 23, 27, 0, 24, 7, 22, 13, 31, 25, 17, 15, 3, 10, 9, 12, 18, 34, 21, 16, 2, 8, 28, 20, 1, 30, 11, 19] with fitness 0.8395131845841785\n",
      "Neighbor: [24, 33, 6, 23, 14, 32, 4, 29, 5, 27, 0, 26, 7, 22, 13, 31, 25, 17, 15, 3, 10, 9, 12, 18, 34, 21, 16, 2, 8, 28, 20, 1, 30, 11, 19] with fitness 0.8759417560127499\n",
      "Neighbor: [26, 33, 6, 23, 14, 32, 4, 29, 5, 27, 0, 24, 7, 22, 13, 31, 25, 17, 15, 18, 10, 9, 12, 3, 34, 21, 16, 2, 8, 28, 20, 1, 30, 11, 19] with fitness 0.7937988988698929\n",
      "Neighbor: [26, 33, 6, 23, 14, 32, 4, 29, 3, 27, 0, 24, 7, 22, 13, 31, 25, 17, 15, 5, 10, 9, 12, 18, 34, 21, 16, 2, 8, 28, 20, 1, 30, 11, 19] with fitness 0.8873703274413213\n",
      "Neighbor: [26, 33, 6, 23, 14, 32, 4, 29, 5, 27, 8, 24, 7, 22, 13, 31, 25, 17, 15, 3, 10, 9, 12, 18, 34, 21, 16, 2, 0, 28, 20, 1, 30, 11, 19] with fitness 0.9395131845841787\n",
      "Neighbor: [26, 33, 6, 23, 14, 32, 4, 29, 5, 27, 0, 24, 7, 22, 13, 31, 25, 17, 15, 12, 10, 9, 3, 18, 34, 21, 16, 2, 8, 28, 20, 1, 30, 11, 19] with fitness 0.8337988988698928\n",
      "Neighbor: [26, 33, 6, 23, 14, 32, 4, 29, 5, 27, 0, 24, 7, 22, 13, 31, 25, 17, 15, 19, 10, 9, 12, 18, 34, 21, 16, 2, 8, 28, 20, 1, 30, 11, 3] with fitness 0.937393509127789\n",
      "Neighbor: [26, 33, 6, 23, 14, 32, 4, 29, 5, 22, 0, 24, 7, 27, 13, 31, 25, 17, 15, 3, 10, 9, 12, 18, 34, 21, 16, 2, 8, 28, 20, 1, 30, 11, 19] with fitness 0.7737988988698928\n",
      "Neighbor: [26, 33, 6, 23, 14, 32, 4, 29, 5, 27, 0, 24, 7, 22, 13, 31, 25, 16, 15, 3, 10, 9, 12, 18, 34, 21, 17, 2, 8, 28, 20, 1, 30, 11, 19] with fitness 0.8823703274413213\n",
      "Neighbor: [26, 33, 6, 23, 14, 32, 4, 29, 5, 27, 0, 24, 7, 22, 13, 31, 25, 17, 15, 3, 10, 9, 12, 18, 34, 21, 16, 2, 11, 28, 20, 1, 30, 8, 19] with fitness 0.861889307447117\n",
      "Current solution: [26, 33, 6, 23, 14, 32, 4, 29, 5, 27, 8, 24, 7, 22, 13, 31, 25, 17, 15, 3, 10, 9, 12, 18, 34, 21, 16, 2, 0, 28, 20, 1, 30, 11, 19] with fitness 0.9395131845841787\n",
      "Neighbor: [26, 33, 6, 23, 14, 32, 4, 29, 5, 27, 8, 11, 7, 22, 13, 31, 25, 17, 15, 3, 10, 9, 12, 18, 34, 21, 16, 2, 0, 28, 20, 1, 30, 24, 19] with fitness 0.953052738336714\n",
      "Neighbor: [26, 33, 6, 23, 14, 32, 4, 29, 5, 27, 8, 17, 7, 22, 13, 31, 25, 24, 15, 3, 10, 9, 12, 18, 34, 21, 16, 2, 0, 28, 20, 1, 30, 11, 19] with fitness 0.8716560417270356\n",
      "Neighbor: [26, 33, 6, 23, 14, 32, 4, 29, 5, 27, 8, 24, 7, 22, 13, 31, 25, 1, 15, 3, 10, 9, 12, 18, 34, 21, 16, 2, 0, 28, 20, 17, 30, 11, 19] with fitness 0.9795407128368591\n",
      "Neighbor: [26, 33, 6, 23, 14, 32, 4, 29, 5, 27, 8, 24, 7, 22, 13, 31, 25, 17, 15, 3, 10, 9, 12, 18, 34, 21, 16, 2, 0, 28, 20, 19, 30, 11, 1] with fitness 0.9395131845841787\n",
      "Neighbor: [26, 33, 6, 23, 8, 32, 4, 29, 5, 27, 14, 24, 7, 22, 13, 31, 25, 17, 15, 3, 10, 9, 12, 18, 34, 21, 16, 2, 0, 28, 20, 1, 30, 11, 19] with fitness 0.9130846131556072\n",
      "Neighbor: [26, 31, 6, 23, 14, 32, 4, 29, 5, 27, 8, 24, 7, 22, 13, 33, 25, 17, 15, 3, 10, 9, 12, 18, 34, 21, 16, 2, 0, 28, 20, 1, 30, 11, 19] with fitness 0.9852274702984642\n",
      "Neighbor: [26, 33, 6, 23, 14, 32, 4, 29, 5, 27, 8, 24, 7, 22, 13, 31, 25, 17, 15, 3, 10, 9, 2, 18, 34, 21, 16, 12, 0, 28, 20, 1, 30, 11, 19] with fitness 0.9245131845841786\n",
      "Neighbor: [26, 5, 6, 23, 14, 32, 4, 29, 33, 27, 8, 24, 7, 22, 13, 31, 25, 17, 15, 3, 10, 9, 12, 18, 34, 21, 16, 2, 0, 28, 20, 1, 30, 11, 19] with fitness 0.8866560417270357\n",
      "Neighbor: [26, 33, 6, 23, 14, 32, 4, 29, 22, 27, 8, 24, 7, 5, 13, 31, 25, 17, 15, 3, 10, 9, 12, 18, 34, 21, 16, 2, 0, 28, 20, 1, 30, 11, 19] with fitness 0.9216560417270356\n",
      "Neighbor: [26, 33, 6, 23, 14, 32, 22, 29, 5, 27, 8, 24, 7, 4, 13, 31, 25, 17, 15, 3, 10, 9, 12, 18, 34, 21, 16, 2, 0, 28, 20, 1, 30, 11, 19] with fitness 0.90094175601275\n",
      "Current solution: [26, 31, 6, 23, 14, 32, 4, 29, 5, 27, 8, 24, 7, 22, 13, 33, 25, 17, 15, 3, 10, 9, 12, 18, 34, 21, 16, 2, 0, 28, 20, 1, 30, 11, 19] with fitness 0.9852274702984642\n",
      "Neighbor: [26, 31, 6, 23, 14, 32, 4, 29, 5, 27, 8, 24, 7, 22, 13, 33, 25, 17, 15, 3, 10, 9, 12, 18, 34, 21, 16, 19, 0, 28, 20, 1, 30, 11, 2] with fitness 0.9734048101999422\n",
      "Neighbor: [26, 31, 6, 23, 14, 32, 4, 29, 5, 34, 8, 24, 7, 22, 13, 33, 25, 17, 15, 3, 10, 9, 12, 18, 27, 21, 16, 2, 0, 28, 20, 1, 30, 11, 19] with fitness 0.8987988988698927\n",
      "Neighbor: [2, 31, 6, 23, 14, 32, 4, 29, 5, 27, 8, 24, 7, 22, 13, 33, 25, 17, 15, 3, 10, 9, 12, 18, 34, 21, 16, 26, 0, 28, 20, 1, 30, 11, 19] with fitness 1.0387988988698926\n",
      "Neighbor: [26, 31, 6, 23, 14, 32, 4, 29, 5, 27, 8, 24, 7, 22, 13, 33, 21, 17, 15, 3, 10, 9, 12, 18, 34, 25, 16, 2, 0, 28, 20, 1, 30, 11, 19] with fitness 0.8995131845841786\n",
      "Neighbor: [26, 31, 6, 23, 14, 32, 4, 29, 5, 28, 8, 24, 7, 22, 13, 33, 25, 17, 15, 3, 10, 9, 12, 18, 34, 21, 16, 2, 0, 27, 20, 1, 30, 11, 19] with fitness 0.9966560417270357\n",
      "Neighbor: [26, 7, 6, 23, 14, 32, 4, 29, 5, 27, 8, 24, 31, 22, 13, 33, 25, 17, 15, 3, 10, 9, 12, 18, 34, 21, 16, 2, 0, 28, 20, 1, 30, 11, 19] with fitness 0.9009417560127501\n",
      "Neighbor: [26, 31, 6, 23, 14, 27, 4, 29, 5, 32, 8, 24, 7, 22, 13, 33, 25, 17, 15, 3, 10, 9, 12, 18, 34, 21, 16, 2, 0, 28, 20, 1, 30, 11, 19] with fitness 0.9852274702984642\n",
      "Neighbor: [26, 31, 6, 23, 14, 32, 4, 29, 5, 27, 8, 7, 24, 22, 13, 33, 25, 17, 15, 3, 10, 9, 12, 18, 34, 21, 16, 2, 0, 28, 20, 1, 30, 11, 19] with fitness 0.9852274702984642\n",
      "Neighbor: [26, 31, 6, 23, 14, 32, 4, 29, 5, 27, 8, 15, 7, 22, 13, 33, 25, 17, 24, 3, 10, 9, 12, 18, 34, 21, 16, 2, 0, 28, 20, 1, 30, 11, 19] with fitness 0.9452274702984644\n",
      "Neighbor: [26, 31, 6, 23, 21, 32, 4, 29, 5, 27, 8, 24, 7, 22, 13, 33, 25, 17, 15, 3, 10, 9, 12, 18, 34, 14, 16, 2, 0, 28, 20, 1, 30, 11, 19] with fitness 0.9066560417270357\n",
      "Current solution: [2, 31, 6, 23, 14, 32, 4, 29, 5, 27, 8, 24, 7, 22, 13, 33, 25, 17, 15, 3, 10, 9, 12, 18, 34, 21, 16, 26, 0, 28, 20, 1, 30, 11, 19] with fitness 1.0387988988698926\n",
      "Neighbor: [2, 31, 6, 23, 14, 32, 4, 29, 5, 27, 8, 24, 7, 22, 30, 33, 25, 17, 15, 3, 10, 9, 12, 18, 34, 21, 16, 26, 0, 28, 20, 1, 13, 11, 19] with fitness 1.1156766154737756\n",
      "Neighbor: [2, 31, 6, 23, 14, 32, 3, 29, 5, 27, 8, 24, 7, 22, 13, 33, 25, 17, 15, 4, 10, 9, 12, 18, 34, 21, 16, 26, 0, 28, 20, 1, 30, 11, 19] with fitness 1.0066560417270356\n",
      "Neighbor: [2, 31, 6, 23, 14, 32, 4, 29, 5, 27, 8, 24, 7, 22, 13, 33, 25, 17, 15, 3, 10, 11, 12, 18, 34, 21, 16, 26, 0, 28, 20, 1, 30, 9, 19] with fitness 1.1510199942045785\n",
      "Neighbor: [2, 31, 6, 23, 14, 32, 4, 29, 5, 8, 27, 24, 7, 22, 13, 33, 25, 17, 15, 3, 10, 9, 12, 18, 34, 21, 16, 26, 0, 28, 20, 1, 30, 11, 19] with fitness 0.9252274702984643\n",
      "Neighbor: [2, 31, 6, 23, 14, 32, 4, 29, 5, 27, 8, 24, 7, 30, 13, 33, 25, 17, 15, 3, 10, 9, 12, 18, 34, 21, 16, 26, 0, 28, 20, 1, 22, 11, 19] with fitness 1.0853057084902926\n",
      "Neighbor: [2, 31, 6, 23, 14, 32, 4, 29, 13, 27, 8, 24, 7, 22, 5, 33, 25, 17, 15, 3, 10, 9, 12, 18, 34, 21, 16, 26, 0, 28, 20, 1, 30, 11, 19] with fitness 1.0166560417270356\n",
      "Neighbor: [2, 31, 6, 23, 14, 32, 4, 29, 5, 27, 8, 24, 7, 22, 13, 33, 25, 12, 15, 3, 10, 9, 17, 18, 34, 21, 16, 26, 0, 28, 20, 1, 30, 11, 19] with fitness 1.0616560417270358\n",
      "Neighbor: [2, 31, 24, 23, 14, 32, 4, 29, 5, 27, 8, 6, 7, 22, 13, 33, 25, 17, 15, 3, 10, 9, 12, 18, 34, 21, 16, 26, 0, 28, 20, 1, 30, 11, 19] with fitness 0.97094175601275\n",
      "Neighbor: [2, 31, 6, 23, 14, 32, 4, 29, 5, 27, 8, 24, 7, 22, 13, 15, 25, 17, 33, 3, 10, 9, 12, 18, 34, 21, 16, 26, 0, 28, 20, 1, 30, 11, 19] with fitness 1.0387988988698926\n",
      "Neighbor: [2, 31, 6, 23, 14, 32, 19, 29, 5, 27, 8, 24, 7, 22, 13, 33, 25, 17, 15, 3, 10, 9, 12, 18, 34, 21, 16, 26, 0, 28, 20, 1, 30, 11, 4] with fitness 1.1162532599246595\n",
      "Current solution: [2, 31, 6, 23, 14, 32, 4, 29, 5, 27, 8, 24, 7, 22, 13, 33, 25, 17, 15, 3, 10, 11, 12, 18, 34, 21, 16, 26, 0, 28, 20, 1, 30, 9, 19] with fitness 1.1510199942045785\n",
      "Neighbor: [2, 31, 6, 23, 14, 32, 4, 29, 24, 27, 8, 5, 7, 22, 13, 33, 25, 17, 15, 3, 10, 11, 12, 18, 34, 21, 16, 26, 0, 28, 20, 1, 30, 9, 19] with fitness 1.139591422776007\n",
      "Neighbor: [2, 31, 6, 23, 14, 32, 4, 29, 5, 27, 8, 24, 7, 22, 13, 12, 25, 17, 15, 3, 10, 11, 33, 18, 34, 21, 16, 26, 0, 28, 20, 1, 30, 9, 19] with fitness 1.1660199942045784\n",
      "Neighbor: [2, 31, 6, 23, 14, 32, 4, 29, 5, 27, 21, 24, 7, 22, 13, 33, 25, 17, 15, 3, 10, 11, 12, 18, 34, 8, 16, 26, 0, 28, 20, 1, 30, 9, 19] with fitness 1.0781628513474355\n",
      "Neighbor: [2, 31, 6, 23, 14, 32, 4, 29, 5, 27, 8, 24, 7, 22, 13, 33, 25, 9, 15, 3, 10, 11, 12, 18, 34, 21, 16, 26, 0, 28, 20, 1, 30, 17, 19] with fitness 1.1217067516661836\n",
      "Neighbor: [2, 28, 6, 23, 14, 32, 4, 29, 5, 27, 8, 24, 7, 22, 13, 33, 25, 17, 15, 3, 10, 11, 12, 18, 34, 21, 16, 26, 0, 31, 20, 1, 30, 9, 19] with fitness 1.1453057084902927\n",
      "Neighbor: [2, 31, 6, 23, 14, 32, 4, 29, 5, 27, 8, 24, 7, 22, 13, 33, 25, 12, 15, 3, 10, 11, 17, 18, 34, 21, 16, 26, 0, 28, 20, 1, 30, 9, 19] with fitness 1.1838771370617212\n",
      "Neighbor: [2, 31, 6, 23, 14, 32, 1, 29, 5, 27, 8, 24, 7, 22, 13, 33, 25, 17, 15, 3, 10, 11, 12, 18, 34, 21, 16, 26, 0, 28, 20, 4, 30, 9, 19] with fitness 1.2116473485946102\n",
      "Neighbor: [2, 31, 6, 23, 14, 32, 4, 29, 5, 27, 8, 24, 26, 22, 13, 33, 25, 17, 15, 3, 10, 11, 12, 18, 34, 21, 16, 7, 0, 28, 20, 1, 30, 9, 19] with fitness 1.124591422776007\n",
      "Neighbor: [2, 31, 6, 23, 4, 32, 14, 29, 5, 27, 8, 24, 7, 22, 13, 33, 25, 17, 15, 3, 10, 11, 12, 18, 34, 21, 16, 26, 0, 28, 20, 1, 30, 9, 19] with fitness 1.126734279918864\n",
      "Neighbor: [2, 31, 6, 23, 14, 32, 4, 10, 5, 27, 8, 24, 7, 22, 13, 33, 25, 17, 15, 3, 29, 11, 12, 18, 34, 21, 16, 26, 0, 28, 20, 1, 30, 9, 19] with fitness 1.2203057084902929\n",
      "Current solution: [2, 31, 6, 23, 14, 32, 4, 10, 5, 27, 8, 24, 7, 22, 13, 33, 25, 17, 15, 3, 29, 11, 12, 18, 34, 21, 16, 26, 0, 28, 20, 1, 30, 9, 19] with fitness 1.2203057084902929\n",
      "Neighbor: [2, 31, 6, 23, 14, 32, 4, 10, 5, 27, 8, 24, 7, 22, 13, 33, 25, 17, 28, 3, 29, 11, 12, 18, 34, 21, 16, 26, 0, 15, 20, 1, 30, 9, 19] with fitness 1.2045914227760068\n",
      "Neighbor: [2, 19, 6, 23, 14, 32, 4, 10, 5, 27, 8, 24, 7, 22, 13, 33, 25, 17, 15, 3, 29, 11, 12, 18, 34, 21, 16, 26, 0, 28, 20, 1, 30, 9, 31] with fitness 1.165163720660678\n",
      "Neighbor: [10, 31, 6, 23, 14, 32, 4, 2, 5, 27, 8, 24, 7, 22, 13, 33, 25, 17, 15, 3, 29, 11, 12, 18, 34, 21, 16, 26, 0, 28, 20, 1, 30, 9, 19] with fitness 1.2253057084902927\n",
      "Neighbor: [2, 31, 6, 23, 14, 32, 4, 10, 5, 27, 8, 24, 7, 22, 13, 33, 21, 17, 15, 3, 29, 11, 12, 18, 34, 25, 16, 26, 0, 28, 20, 1, 30, 9, 19] with fitness 1.1231628513474354\n",
      "Neighbor: [2, 31, 6, 23, 14, 32, 4, 10, 5, 27, 8, 24, 7, 22, 13, 33, 25, 17, 15, 3, 29, 11, 12, 18, 34, 21, 16, 28, 0, 26, 20, 1, 30, 9, 19] with fitness 1.2203057084902929\n",
      "Neighbor: [2, 31, 6, 23, 29, 32, 4, 10, 5, 27, 8, 24, 7, 22, 13, 33, 25, 17, 15, 3, 14, 11, 12, 18, 34, 21, 16, 26, 0, 28, 20, 1, 30, 9, 19] with fitness 1.1388771370617212\n",
      "Neighbor: [2, 31, 6, 23, 14, 32, 4, 10, 5, 1, 8, 24, 7, 22, 13, 33, 25, 17, 15, 3, 29, 11, 12, 18, 34, 21, 16, 26, 0, 28, 20, 27, 30, 9, 19] with fitness 1.196848739495798\n",
      "Neighbor: [2, 31, 6, 23, 7, 32, 4, 10, 5, 27, 8, 24, 14, 22, 13, 33, 25, 17, 15, 3, 29, 11, 12, 18, 34, 21, 16, 26, 0, 28, 20, 1, 30, 9, 19] with fitness 1.17744856563315\n",
      "Neighbor: [2, 31, 6, 23, 14, 32, 4, 10, 5, 27, 8, 24, 7, 22, 13, 18, 25, 17, 15, 3, 29, 11, 12, 33, 34, 21, 16, 26, 0, 28, 20, 1, 30, 9, 19] with fitness 1.2103057084902926\n",
      "Neighbor: [2, 31, 6, 23, 14, 32, 4, 10, 5, 27, 8, 24, 7, 22, 13, 33, 26, 17, 15, 3, 29, 11, 12, 18, 34, 21, 16, 25, 0, 28, 20, 1, 30, 9, 19] with fitness 1.186734279918864\n",
      "Current solution: [10, 31, 6, 23, 14, 32, 4, 2, 5, 27, 8, 24, 7, 22, 13, 33, 25, 17, 15, 3, 29, 11, 12, 18, 34, 21, 16, 26, 0, 28, 20, 1, 30, 9, 19] with fitness 1.2253057084902927\n",
      "Neighbor: [10, 31, 6, 23, 14, 7, 4, 2, 5, 27, 8, 24, 32, 22, 13, 33, 25, 17, 15, 3, 29, 11, 12, 18, 34, 21, 16, 26, 0, 28, 20, 1, 30, 9, 19] with fitness 1.1431628513474354\n",
      "Neighbor: [10, 31, 6, 23, 14, 32, 4, 2, 5, 27, 8, 24, 7, 22, 13, 33, 25, 17, 15, 3, 29, 11, 12, 18, 34, 21, 16, 26, 0, 30, 20, 1, 28, 9, 19] with fitness 1.2166748768472906\n",
      "Neighbor: [10, 31, 6, 0, 14, 32, 4, 2, 5, 27, 8, 24, 7, 22, 13, 33, 25, 17, 15, 3, 29, 11, 12, 18, 34, 21, 16, 26, 23, 28, 20, 1, 30, 9, 19] with fitness 1.1553057084902925\n",
      "Neighbor: [10, 31, 6, 23, 14, 32, 4, 2, 5, 27, 20, 24, 7, 22, 13, 33, 25, 17, 15, 3, 29, 11, 12, 18, 34, 21, 16, 26, 0, 28, 8, 1, 30, 9, 19] with fitness 1.0752318168646768\n",
      "Neighbor: [10, 31, 6, 23, 14, 32, 4, 2, 5, 27, 8, 24, 7, 9, 13, 33, 25, 17, 15, 3, 29, 11, 12, 18, 34, 21, 16, 26, 0, 28, 20, 1, 30, 22, 19] with fitness 1.2039046653144014\n",
      "Neighbor: [10, 31, 6, 23, 14, 32, 4, 2, 5, 27, 8, 24, 7, 22, 13, 33, 25, 17, 15, 3, 29, 11, 12, 18, 1, 21, 16, 26, 0, 28, 20, 34, 30, 9, 19] with fitness 1.2047377571718343\n",
      "Neighbor: [10, 31, 6, 23, 14, 32, 4, 2, 5, 27, 8, 24, 7, 22, 13, 33, 25, 17, 15, 3, 29, 11, 12, 18, 26, 21, 16, 34, 0, 28, 20, 1, 30, 9, 19] with fitness 1.179591422776007\n",
      "Neighbor: [26, 31, 6, 23, 14, 32, 4, 2, 5, 27, 8, 24, 7, 22, 13, 33, 25, 17, 15, 3, 29, 11, 12, 18, 34, 21, 16, 10, 0, 28, 20, 1, 30, 9, 19] with fitness 1.1788771370617213\n",
      "Neighbor: [10, 31, 6, 23, 14, 32, 4, 2, 5, 27, 8, 24, 7, 22, 13, 33, 25, 0, 15, 3, 29, 11, 12, 18, 34, 21, 16, 26, 17, 28, 20, 1, 30, 9, 19] with fitness 1.178877137061721\n",
      "Neighbor: [4, 31, 6, 23, 14, 32, 10, 2, 5, 27, 8, 24, 7, 22, 13, 33, 25, 17, 15, 3, 29, 11, 12, 18, 34, 21, 16, 26, 0, 28, 20, 1, 30, 9, 19] with fitness 1.2288771370617213\n",
      "Current solution: [4, 31, 6, 23, 14, 32, 10, 2, 5, 27, 8, 24, 7, 22, 13, 33, 25, 17, 15, 3, 29, 11, 12, 18, 34, 21, 16, 26, 0, 28, 20, 1, 30, 9, 19] with fitness 1.2288771370617213\n",
      "Neighbor: [4, 33, 6, 23, 14, 32, 10, 2, 5, 27, 8, 24, 7, 22, 13, 31, 25, 17, 15, 3, 29, 11, 12, 18, 34, 21, 16, 26, 0, 28, 20, 1, 30, 9, 19] with fitness 1.1631628513474355\n",
      "Neighbor: [4, 31, 6, 23, 14, 32, 10, 2, 5, 27, 8, 24, 28, 22, 13, 33, 25, 17, 15, 3, 29, 11, 12, 18, 34, 21, 16, 26, 0, 7, 20, 1, 30, 9, 19] with fitness 1.1760199942045784\n",
      "Neighbor: [4, 31, 6, 23, 14, 32, 10, 2, 5, 27, 8, 24, 7, 22, 13, 33, 25, 17, 15, 3, 0, 11, 12, 18, 34, 21, 16, 26, 29, 28, 20, 1, 30, 9, 19] with fitness 1.154591422776007\n",
      "Neighbor: [4, 31, 6, 23, 14, 32, 10, 2, 5, 27, 8, 24, 7, 22, 13, 12, 25, 17, 15, 3, 29, 11, 33, 18, 34, 21, 16, 26, 0, 28, 20, 1, 30, 9, 19] with fitness 1.2338771370617212\n",
      "Neighbor: [4, 31, 6, 23, 14, 32, 10, 2, 5, 27, 8, 24, 18, 22, 13, 33, 25, 17, 15, 3, 29, 11, 12, 7, 34, 21, 16, 26, 0, 28, 20, 1, 30, 9, 19] with fitness 1.229591422776007\n",
      "Neighbor: [4, 31, 6, 28, 14, 32, 10, 2, 5, 27, 8, 24, 7, 22, 13, 33, 25, 17, 15, 3, 29, 11, 12, 18, 34, 21, 16, 26, 0, 23, 20, 1, 30, 9, 19] with fitness 1.169591422776007\n",
      "Neighbor: [4, 31, 6, 23, 14, 32, 10, 2, 15, 27, 8, 24, 7, 22, 13, 33, 25, 17, 5, 3, 29, 11, 12, 18, 34, 21, 16, 26, 0, 28, 20, 1, 30, 9, 19] with fitness 1.1917342799188642\n",
      "Neighbor: [4, 31, 6, 23, 15, 32, 10, 2, 5, 27, 8, 24, 7, 22, 13, 33, 25, 17, 14, 3, 29, 11, 12, 18, 34, 21, 16, 26, 0, 28, 20, 1, 30, 9, 19] with fitness 1.2588771370617213\n",
      "Neighbor: [4, 31, 6, 23, 14, 32, 10, 2, 5, 27, 8, 24, 7, 22, 11, 33, 25, 17, 15, 3, 29, 13, 12, 18, 34, 21, 16, 26, 0, 28, 20, 1, 30, 9, 19] with fitness 1.2031628513474355\n",
      "Neighbor: [4, 14, 6, 23, 31, 32, 10, 2, 5, 27, 8, 24, 7, 22, 13, 33, 25, 17, 15, 3, 29, 11, 12, 18, 34, 21, 16, 26, 0, 28, 20, 1, 30, 9, 19] with fitness 1.2288771370617213\n",
      "Current solution: [4, 31, 6, 23, 15, 32, 10, 2, 5, 27, 8, 24, 7, 22, 13, 33, 25, 17, 14, 3, 29, 11, 12, 18, 34, 21, 16, 26, 0, 28, 20, 1, 30, 9, 19] with fitness 1.2588771370617213\n",
      "Neighbor: [4, 31, 6, 23, 15, 32, 10, 2, 5, 27, 8, 11, 7, 22, 13, 33, 25, 17, 14, 3, 29, 24, 12, 18, 34, 21, 16, 26, 0, 28, 20, 1, 30, 9, 19] with fitness 1.2138771370617212\n",
      "Neighbor: [4, 31, 6, 23, 15, 32, 10, 2, 5, 27, 8, 24, 7, 22, 13, 11, 25, 17, 14, 3, 29, 33, 12, 18, 34, 21, 16, 26, 0, 28, 20, 1, 30, 9, 19] with fitness 1.2538771370617212\n",
      "Neighbor: [4, 31, 6, 23, 29, 32, 10, 2, 5, 27, 8, 24, 7, 22, 13, 33, 25, 17, 14, 3, 15, 11, 12, 18, 34, 21, 16, 26, 0, 28, 20, 1, 30, 9, 19] with fitness 1.1581628513474356\n",
      "Neighbor: [4, 31, 6, 9, 15, 32, 10, 2, 5, 27, 8, 24, 7, 22, 13, 33, 25, 17, 14, 3, 29, 11, 12, 18, 34, 21, 16, 26, 0, 28, 20, 1, 30, 23, 19] with fitness 1.2028470008693133\n",
      "Neighbor: [4, 31, 6, 23, 15, 32, 10, 2, 5, 27, 7, 24, 8, 22, 13, 33, 25, 17, 14, 3, 29, 11, 12, 18, 34, 21, 16, 26, 0, 28, 20, 1, 30, 9, 19] with fitness 1.2588771370617213\n",
      "Neighbor: [4, 31, 6, 23, 15, 32, 10, 25, 5, 27, 8, 24, 7, 22, 13, 33, 2, 17, 14, 3, 29, 11, 12, 18, 34, 21, 16, 26, 0, 28, 20, 1, 30, 9, 19] with fitness 1.2367342799188643\n",
      "Neighbor: [4, 31, 6, 23, 15, 32, 10, 2, 5, 27, 8, 24, 7, 22, 13, 33, 25, 17, 0, 3, 29, 11, 12, 18, 34, 21, 16, 26, 14, 28, 20, 1, 30, 9, 19] with fitness 1.2667342799188641\n",
      "Neighbor: [4, 31, 6, 23, 15, 32, 10, 2, 5, 27, 8, 24, 7, 22, 13, 33, 25, 9, 14, 3, 29, 11, 12, 18, 34, 21, 16, 26, 0, 28, 20, 1, 30, 17, 19] with fitness 1.2295638945233267\n",
      "Neighbor: [4, 31, 6, 23, 15, 32, 10, 2, 5, 27, 8, 24, 7, 21, 13, 33, 25, 17, 14, 3, 29, 11, 12, 18, 34, 22, 16, 26, 0, 28, 20, 1, 30, 9, 19] with fitness 1.2238771370617214\n",
      "Neighbor: [4, 31, 6, 23, 26, 32, 10, 2, 5, 27, 8, 24, 7, 22, 13, 33, 25, 17, 14, 3, 29, 11, 12, 18, 34, 21, 16, 15, 0, 28, 20, 1, 30, 9, 19] with fitness 1.1703057084902926\n",
      "Current solution: [4, 31, 6, 23, 15, 32, 10, 2, 5, 27, 8, 24, 7, 22, 13, 33, 25, 17, 0, 3, 29, 11, 12, 18, 34, 21, 16, 26, 14, 28, 20, 1, 30, 9, 19] with fitness 1.2667342799188641\n",
      "Neighbor: [4, 31, 24, 23, 15, 32, 10, 2, 5, 27, 8, 6, 7, 22, 13, 33, 25, 17, 0, 3, 29, 11, 12, 18, 34, 21, 16, 26, 14, 28, 20, 1, 30, 9, 19] with fitness 1.2053057084902927\n",
      "Neighbor: [4, 31, 6, 23, 15, 32, 10, 2, 3, 27, 8, 24, 7, 22, 13, 33, 25, 17, 0, 5, 29, 11, 12, 18, 34, 21, 16, 26, 14, 28, 20, 1, 30, 9, 19] with fitness 1.249591422776007\n",
      "Neighbor: [4, 31, 20, 23, 15, 32, 10, 2, 5, 27, 8, 24, 7, 22, 13, 33, 25, 17, 0, 3, 29, 11, 12, 18, 34, 21, 16, 26, 14, 28, 6, 1, 30, 9, 19] with fitness 1.1967936829904375\n",
      "Neighbor: [4, 31, 6, 23, 15, 32, 10, 2, 5, 27, 8, 24, 7, 22, 13, 33, 25, 17, 0, 3, 29, 11, 12, 18, 34, 21, 26, 16, 14, 28, 20, 1, 30, 9, 19] with fitness 1.2667342799188641\n",
      "Neighbor: [4, 31, 6, 30, 15, 32, 10, 2, 5, 27, 8, 24, 7, 22, 13, 33, 25, 17, 0, 3, 29, 11, 12, 18, 34, 21, 16, 26, 14, 28, 20, 1, 23, 9, 19] with fitness 1.3114691393798896\n",
      "Neighbor: [4, 31, 6, 23, 15, 32, 10, 2, 5, 27, 8, 24, 7, 22, 13, 33, 25, 17, 0, 34, 29, 11, 12, 18, 3, 21, 16, 26, 14, 28, 20, 1, 30, 9, 19] with fitness 1.2774485656331498\n",
      "Neighbor: [4, 31, 6, 23, 15, 32, 10, 2, 5, 27, 8, 24, 7, 22, 13, 33, 25, 17, 0, 3, 29, 11, 12, 18, 34, 21, 16, 28, 14, 26, 20, 1, 30, 9, 19] with fitness 1.2667342799188641\n",
      "Neighbor: [31, 4, 6, 23, 15, 32, 10, 2, 5, 27, 8, 24, 7, 22, 13, 33, 25, 17, 0, 3, 29, 11, 12, 18, 34, 21, 16, 26, 14, 28, 20, 1, 30, 9, 19] with fitness 1.2667342799188641\n",
      "Neighbor: [4, 31, 6, 23, 15, 32, 10, 2, 5, 27, 25, 24, 7, 22, 13, 33, 8, 17, 0, 3, 29, 11, 12, 18, 34, 21, 16, 26, 14, 28, 20, 1, 30, 9, 19] with fitness 1.1731628513474353\n",
      "Neighbor: [0, 31, 6, 23, 15, 32, 10, 2, 5, 27, 8, 24, 7, 22, 13, 33, 25, 17, 4, 3, 29, 11, 12, 18, 34, 21, 16, 26, 14, 28, 20, 1, 30, 9, 19] with fitness 1.2003057084902926\n",
      "Current solution: [4, 31, 6, 30, 15, 32, 10, 2, 5, 27, 8, 24, 7, 22, 13, 33, 25, 17, 0, 3, 29, 11, 12, 18, 34, 21, 16, 26, 14, 28, 20, 1, 23, 9, 19] with fitness 1.3114691393798896\n",
      "Neighbor: [4, 31, 6, 30, 15, 32, 10, 2, 5, 14, 8, 24, 7, 22, 13, 33, 25, 17, 0, 3, 29, 11, 12, 18, 34, 21, 16, 26, 27, 28, 20, 1, 23, 9, 19] with fitness 1.3186119965227467\n",
      "Neighbor: [4, 31, 6, 30, 15, 32, 10, 2, 5, 27, 8, 24, 7, 22, 13, 33, 25, 17, 0, 3, 29, 11, 12, 9, 34, 21, 16, 26, 14, 28, 20, 1, 23, 18, 19] with fitness 1.223529411764706\n",
      "Neighbor: [4, 31, 6, 30, 15, 32, 10, 2, 5, 27, 8, 12, 7, 22, 13, 33, 25, 17, 0, 3, 29, 11, 24, 18, 34, 21, 16, 26, 14, 28, 20, 1, 23, 9, 19] with fitness 1.288611996522747\n",
      "Neighbor: [4, 31, 6, 30, 15, 5, 10, 2, 32, 27, 8, 24, 7, 22, 13, 33, 25, 17, 0, 3, 29, 11, 12, 18, 34, 21, 16, 26, 14, 28, 20, 1, 23, 9, 19] with fitness 1.3114691393798896\n",
      "Neighbor: [4, 31, 6, 30, 15, 32, 10, 2, 20, 27, 8, 24, 7, 22, 13, 33, 25, 17, 0, 3, 29, 11, 12, 18, 34, 21, 16, 26, 14, 28, 5, 1, 23, 9, 19] with fitness 1.2088959721819763\n",
      "Neighbor: [4, 31, 6, 30, 15, 32, 10, 2, 5, 27, 8, 24, 28, 22, 13, 33, 25, 17, 0, 3, 29, 11, 12, 18, 34, 21, 16, 26, 14, 7, 20, 1, 23, 9, 19] with fitness 1.2514691393798898\n",
      "Neighbor: [4, 31, 6, 30, 15, 32, 10, 2, 5, 27, 8, 24, 7, 28, 13, 33, 25, 17, 0, 3, 29, 11, 12, 18, 34, 21, 16, 26, 14, 22, 20, 1, 23, 9, 19] with fitness 1.2871834250941756\n",
      "Neighbor: [4, 31, 6, 30, 22, 32, 10, 2, 5, 27, 8, 24, 7, 15, 13, 33, 25, 17, 0, 3, 29, 11, 12, 18, 34, 21, 16, 26, 14, 28, 20, 1, 23, 9, 19] with fitness 1.2871834250941754\n",
      "Neighbor: [4, 31, 6, 30, 15, 32, 10, 2, 5, 27, 25, 24, 7, 22, 13, 33, 8, 17, 0, 3, 29, 11, 12, 18, 34, 21, 16, 26, 14, 28, 20, 1, 23, 9, 19] with fitness 1.2178977108084612\n",
      "Neighbor: [4, 31, 6, 30, 15, 32, 10, 2, 13, 27, 8, 24, 7, 22, 5, 33, 25, 17, 0, 3, 29, 11, 12, 18, 34, 21, 16, 26, 14, 28, 20, 1, 23, 9, 19] with fitness 1.265754853665604\n",
      "Current solution: [4, 31, 6, 30, 15, 32, 10, 2, 5, 14, 8, 24, 7, 22, 13, 33, 25, 17, 0, 3, 29, 11, 12, 18, 34, 21, 16, 26, 27, 28, 20, 1, 23, 9, 19] with fitness 1.3186119965227467\n",
      "Neighbor: [4, 31, 6, 30, 15, 32, 10, 2, 5, 14, 8, 24, 7, 22, 13, 33, 25, 17, 0, 23, 29, 11, 12, 18, 34, 21, 16, 26, 27, 28, 20, 1, 3, 9, 19] with fitness 1.3277832512315269\n",
      "Neighbor: [4, 31, 6, 30, 15, 11, 10, 2, 5, 14, 8, 24, 7, 22, 13, 33, 25, 17, 0, 3, 29, 32, 12, 18, 34, 21, 16, 26, 27, 28, 20, 1, 23, 9, 19] with fitness 1.3121834250941755\n",
      "Neighbor: [20, 31, 6, 30, 15, 32, 10, 2, 5, 14, 8, 24, 7, 22, 13, 33, 25, 17, 0, 3, 29, 11, 12, 18, 34, 21, 16, 26, 27, 28, 4, 1, 23, 9, 19] with fitness 1.2518125181106925\n",
      "Neighbor: [4, 31, 6, 30, 15, 32, 10, 2, 5, 14, 8, 24, 9, 22, 13, 33, 25, 17, 0, 3, 29, 11, 12, 18, 34, 21, 16, 26, 27, 28, 20, 1, 23, 7, 19] with fitness 1.2652970153578673\n",
      "Neighbor: [4, 31, 6, 30, 15, 32, 10, 2, 5, 14, 8, 24, 7, 22, 13, 33, 25, 19, 0, 3, 29, 11, 12, 18, 34, 21, 16, 26, 27, 28, 20, 1, 23, 9, 17] with fitness 1.3654665314401622\n",
      "Neighbor: [4, 31, 6, 30, 15, 32, 10, 2, 5, 14, 8, 24, 7, 22, 13, 33, 25, 17, 0, 28, 29, 11, 12, 18, 34, 21, 16, 26, 27, 3, 20, 1, 23, 9, 19] with fitness 1.244326282237033\n",
      "Neighbor: [4, 31, 6, 30, 15, 32, 10, 2, 5, 14, 8, 24, 7, 9, 13, 33, 25, 17, 0, 3, 29, 11, 12, 18, 34, 21, 16, 26, 27, 28, 20, 1, 23, 22, 19] with fitness 1.2936395247754273\n",
      "Neighbor: [4, 31, 6, 30, 15, 32, 10, 2, 5, 14, 8, 24, 7, 22, 13, 33, 25, 17, 0, 3, 9, 11, 12, 18, 34, 21, 16, 26, 27, 28, 20, 1, 23, 29, 19] with fitness 1.324353810489713\n",
      "Neighbor: [4, 31, 6, 30, 15, 32, 10, 2, 5, 26, 8, 24, 7, 22, 13, 33, 25, 17, 0, 3, 29, 11, 12, 18, 34, 21, 16, 14, 27, 28, 20, 1, 23, 9, 19] with fitness 1.2828977108084612\n",
      "Neighbor: [4, 31, 6, 30, 15, 26, 10, 2, 5, 14, 8, 24, 7, 22, 13, 33, 25, 17, 0, 3, 29, 11, 12, 18, 34, 21, 16, 32, 27, 28, 20, 1, 23, 9, 19] with fitness 1.2857548536656038\n",
      "Current solution: [4, 31, 6, 30, 15, 32, 10, 2, 5, 14, 8, 24, 7, 22, 13, 33, 25, 19, 0, 3, 29, 11, 12, 18, 34, 21, 16, 26, 27, 28, 20, 1, 23, 9, 17] with fitness 1.3654665314401622\n",
      "Neighbor: [4, 31, 6, 30, 15, 32, 10, 2, 5, 14, 8, 24, 7, 22, 13, 33, 25, 19, 0, 3, 29, 23, 12, 18, 34, 21, 16, 26, 27, 28, 20, 1, 11, 9, 17] with fitness 1.278561286583599\n",
      "Neighbor: [4, 31, 6, 22, 15, 32, 10, 2, 5, 14, 8, 24, 7, 30, 13, 33, 25, 19, 0, 3, 29, 11, 12, 18, 34, 21, 16, 26, 27, 28, 20, 1, 23, 9, 17] with fitness 1.359037960011591\n",
      "Neighbor: [4, 31, 6, 30, 15, 32, 10, 9, 5, 14, 8, 24, 7, 22, 13, 33, 25, 19, 0, 3, 29, 11, 12, 18, 34, 21, 16, 26, 27, 28, 20, 1, 23, 2, 17] with fitness 1.238190379600116\n",
      "Neighbor: [4, 31, 6, 30, 15, 32, 10, 9, 5, 14, 8, 24, 7, 22, 13, 33, 25, 19, 0, 3, 29, 11, 12, 18, 34, 21, 16, 26, 27, 28, 20, 1, 23, 2, 17] with fitness 1.238190379600116\n",
      "Neighbor: [4, 31, 6, 30, 15, 32, 10, 2, 5, 14, 8, 24, 7, 22, 27, 33, 25, 19, 0, 3, 29, 11, 12, 18, 34, 21, 16, 26, 13, 28, 20, 1, 23, 9, 17] with fitness 1.3497522457258766\n",
      "Neighbor: [4, 31, 6, 30, 15, 32, 10, 2, 5, 14, 8, 22, 7, 24, 13, 33, 25, 19, 0, 3, 29, 11, 12, 18, 34, 21, 16, 26, 27, 28, 20, 1, 23, 9, 17] with fitness 1.3654665314401622\n",
      "Neighbor: [4, 31, 6, 30, 15, 17, 10, 2, 5, 14, 8, 24, 7, 22, 13, 33, 25, 19, 0, 3, 29, 11, 12, 18, 34, 21, 16, 26, 27, 28, 20, 1, 23, 9, 32] with fitness 1.3180991017096493\n",
      "Neighbor: [4, 31, 6, 30, 15, 32, 10, 2, 5, 14, 8, 24, 7, 22, 13, 33, 34, 19, 0, 3, 29, 11, 12, 18, 25, 21, 16, 26, 27, 28, 20, 1, 23, 9, 17] with fitness 1.3383236742973053\n",
      "Neighbor: [4, 31, 13, 30, 15, 32, 10, 2, 5, 14, 8, 24, 7, 22, 6, 33, 25, 19, 0, 3, 29, 11, 12, 18, 34, 21, 16, 26, 27, 28, 20, 1, 23, 9, 17] with fitness 1.3147522457258765\n",
      "Neighbor: [20, 31, 6, 30, 15, 32, 10, 2, 5, 14, 8, 24, 7, 22, 13, 33, 25, 19, 0, 3, 29, 11, 12, 18, 34, 21, 16, 26, 27, 28, 4, 1, 23, 9, 17] with fitness 1.2786670530281077\n",
      "Current solution: [4, 31, 6, 30, 15, 32, 10, 2, 5, 14, 8, 22, 7, 24, 13, 33, 25, 19, 0, 3, 29, 11, 12, 18, 34, 21, 16, 26, 27, 28, 20, 1, 23, 9, 17] with fitness 1.3654665314401622\n",
      "Neighbor: [4, 31, 6, 30, 15, 32, 10, 2, 5, 14, 29, 22, 7, 24, 13, 33, 25, 19, 0, 3, 8, 11, 12, 18, 34, 21, 16, 26, 27, 28, 20, 1, 23, 9, 17] with fitness 1.3604665314401623\n",
      "Neighbor: [4, 31, 6, 30, 15, 32, 10, 7, 5, 14, 8, 22, 2, 24, 13, 33, 25, 19, 0, 3, 29, 11, 12, 18, 34, 21, 16, 26, 27, 28, 20, 1, 23, 9, 17] with fitness 1.3247522457258765\n",
      "Neighbor: [4, 31, 6, 30, 15, 32, 10, 2, 5, 16, 8, 22, 7, 24, 13, 33, 25, 19, 0, 3, 29, 11, 12, 18, 34, 21, 14, 26, 27, 28, 20, 1, 23, 9, 17] with fitness 1.3297522457258766\n",
      "Neighbor: [4, 31, 6, 30, 15, 32, 10, 2, 5, 14, 8, 22, 7, 24, 13, 33, 25, 19, 0, 3, 29, 11, 12, 18, 34, 21, 17, 26, 27, 28, 20, 1, 23, 9, 16] with fitness 1.3247247174731962\n",
      "Neighbor: [4, 31, 6, 30, 15, 29, 10, 2, 5, 14, 8, 22, 7, 24, 13, 33, 25, 19, 0, 3, 32, 11, 12, 18, 34, 21, 16, 26, 27, 28, 20, 1, 23, 9, 17] with fitness 1.2997522457258768\n",
      "Neighbor: [4, 28, 6, 30, 15, 32, 10, 2, 5, 14, 8, 22, 7, 24, 13, 33, 25, 19, 0, 3, 29, 11, 12, 18, 34, 21, 16, 26, 27, 31, 20, 1, 23, 9, 17] with fitness 1.368323674297305\n",
      "Neighbor: [4, 31, 6, 30, 15, 32, 10, 2, 5, 14, 8, 22, 7, 24, 13, 33, 25, 19, 29, 3, 0, 11, 12, 18, 34, 21, 16, 26, 27, 28, 20, 1, 23, 9, 17] with fitness 1.3240379600115908\n",
      "Neighbor: [4, 20, 6, 30, 15, 32, 10, 2, 5, 14, 8, 22, 7, 24, 13, 33, 25, 19, 0, 3, 29, 11, 12, 18, 34, 21, 16, 26, 27, 28, 31, 1, 23, 9, 17] with fitness 1.236784989858012\n",
      "Neighbor: [4, 31, 6, 30, 15, 32, 10, 2, 5, 14, 8, 22, 7, 24, 13, 23, 25, 19, 0, 3, 29, 11, 12, 18, 34, 21, 16, 26, 27, 28, 20, 1, 33, 9, 17] with fitness 1.2821602434077077\n",
      "Neighbor: [4, 31, 8, 30, 15, 32, 10, 2, 5, 14, 6, 22, 7, 24, 13, 33, 25, 19, 0, 3, 29, 11, 12, 18, 34, 21, 16, 26, 27, 28, 20, 1, 23, 9, 17] with fitness 1.2954665314401623\n",
      "Current solution: [4, 28, 6, 30, 15, 32, 10, 2, 5, 14, 8, 22, 7, 24, 13, 33, 25, 19, 0, 3, 29, 11, 12, 18, 34, 21, 16, 26, 27, 31, 20, 1, 23, 9, 17] with fitness 1.368323674297305\n",
      "Neighbor: [4, 28, 6, 30, 15, 32, 10, 2, 5, 14, 8, 22, 7, 24, 13, 33, 25, 19, 0, 3, 29, 11, 12, 18, 31, 21, 16, 26, 27, 34, 20, 1, 23, 9, 17] with fitness 1.3797522457258766\n",
      "Neighbor: [4, 12, 6, 30, 15, 32, 10, 2, 5, 14, 8, 22, 7, 24, 13, 33, 25, 19, 0, 3, 29, 11, 28, 18, 34, 21, 16, 26, 27, 31, 20, 1, 23, 9, 17] with fitness 1.3397522457258766\n",
      "Neighbor: [19, 28, 6, 30, 15, 32, 10, 2, 5, 14, 8, 22, 7, 24, 13, 33, 25, 4, 0, 3, 29, 11, 12, 18, 34, 21, 16, 26, 27, 31, 20, 1, 23, 9, 17] with fitness 1.3626093885830193\n",
      "Neighbor: [4, 28, 6, 30, 22, 32, 10, 2, 5, 14, 8, 15, 7, 24, 13, 33, 25, 19, 0, 3, 29, 11, 12, 18, 34, 21, 16, 26, 27, 31, 20, 1, 23, 9, 17] with fitness 1.3490379600115907\n",
      "Neighbor: [4, 28, 6, 30, 15, 32, 10, 2, 5, 14, 8, 22, 7, 24, 13, 33, 25, 19, 0, 3, 26, 11, 12, 18, 34, 21, 16, 29, 27, 31, 20, 1, 23, 9, 17] with fitness 1.2904665314401624\n",
      "Neighbor: [4, 28, 6, 30, 15, 32, 10, 2, 5, 14, 8, 22, 7, 24, 13, 33, 25, 19, 3, 0, 29, 11, 12, 18, 34, 21, 16, 26, 27, 31, 20, 1, 23, 9, 17] with fitness 1.368323674297305\n",
      "Neighbor: [4, 28, 6, 30, 15, 32, 10, 2, 5, 9, 8, 22, 7, 24, 13, 33, 25, 19, 0, 3, 29, 11, 12, 18, 34, 21, 16, 26, 27, 31, 20, 1, 23, 14, 17] with fitness 1.3235801217038539\n",
      "Neighbor: [4, 28, 6, 30, 15, 32, 10, 2, 5, 14, 8, 22, 7, 24, 13, 33, 25, 19, 0, 3, 29, 11, 18, 12, 34, 21, 16, 26, 27, 31, 20, 1, 23, 9, 17] with fitness 1.368323674297305\n",
      "Neighbor: [4, 28, 6, 30, 15, 32, 29, 2, 5, 14, 8, 22, 7, 24, 13, 33, 25, 19, 0, 3, 10, 11, 12, 18, 34, 21, 16, 26, 27, 31, 20, 1, 23, 9, 17] with fitness 1.371180817154448\n",
      "Neighbor: [4, 28, 6, 30, 15, 32, 10, 2, 5, 14, 8, 22, 7, 0, 13, 33, 25, 19, 24, 3, 29, 11, 12, 18, 34, 21, 16, 26, 27, 31, 20, 1, 23, 9, 17] with fitness 1.314037960011591\n",
      "Current solution: [4, 28, 6, 30, 15, 32, 10, 2, 5, 14, 8, 22, 7, 24, 13, 33, 25, 19, 0, 3, 29, 11, 12, 18, 31, 21, 16, 26, 27, 34, 20, 1, 23, 9, 17] with fitness 1.3797522457258766\n",
      "Neighbor: [4, 28, 7, 30, 15, 32, 10, 2, 5, 14, 8, 22, 6, 24, 13, 33, 25, 19, 0, 3, 29, 11, 12, 18, 31, 21, 16, 26, 27, 34, 20, 1, 23, 9, 17] with fitness 1.3297522457258766\n",
      "Neighbor: [4, 28, 6, 30, 15, 32, 10, 2, 5, 14, 8, 22, 7, 24, 18, 33, 25, 19, 0, 3, 29, 11, 12, 13, 31, 21, 16, 26, 27, 34, 20, 1, 23, 9, 17] with fitness 1.3826093885830195\n",
      "Neighbor: [4, 28, 6, 30, 15, 32, 10, 2, 5, 14, 8, 22, 7, 24, 13, 33, 25, 19, 0, 3, 29, 11, 12, 18, 23, 21, 16, 26, 27, 34, 20, 1, 31, 9, 17] with fitness 1.26947261663286\n",
      "Neighbor: [4, 28, 6, 0, 15, 32, 10, 2, 5, 14, 8, 22, 7, 24, 13, 33, 25, 19, 30, 3, 29, 11, 12, 18, 31, 21, 16, 26, 27, 34, 20, 1, 23, 9, 17] with fitness 1.3433236742973051\n",
      "Neighbor: [4, 28, 6, 30, 15, 32, 10, 2, 5, 14, 8, 22, 34, 24, 13, 33, 25, 19, 0, 3, 29, 11, 12, 18, 31, 21, 16, 26, 27, 7, 20, 1, 23, 9, 17] with fitness 1.3733236742973052\n",
      "Neighbor: [4, 28, 33, 30, 15, 32, 10, 2, 5, 14, 8, 22, 7, 24, 13, 6, 25, 19, 0, 3, 29, 11, 12, 18, 31, 21, 16, 26, 27, 34, 20, 1, 23, 9, 17] with fitness 1.3518951028687338\n",
      "Neighbor: [4, 28, 15, 30, 6, 32, 10, 2, 5, 14, 8, 22, 7, 24, 13, 33, 25, 19, 0, 3, 29, 11, 12, 18, 31, 21, 16, 26, 27, 34, 20, 1, 23, 9, 17] with fitness 1.3797522457258766\n",
      "Neighbor: [4, 28, 6, 30, 22, 32, 10, 2, 5, 14, 8, 15, 7, 24, 13, 33, 25, 19, 0, 3, 29, 11, 12, 18, 31, 21, 16, 26, 27, 34, 20, 1, 23, 9, 17] with fitness 1.3604665314401623\n",
      "Neighbor: [8, 28, 6, 30, 15, 32, 10, 2, 5, 14, 4, 22, 7, 24, 13, 33, 25, 19, 0, 3, 29, 11, 12, 18, 31, 21, 16, 26, 27, 34, 20, 1, 23, 9, 17] with fitness 1.3504665314401623\n",
      "Neighbor: [4, 28, 6, 17, 15, 32, 10, 2, 5, 14, 8, 22, 7, 24, 13, 33, 25, 19, 0, 3, 29, 11, 12, 18, 31, 21, 16, 26, 27, 34, 20, 1, 23, 9, 30] with fitness 1.2754433497536946\n",
      "Current solution: [4, 28, 6, 30, 15, 32, 10, 2, 5, 14, 8, 22, 7, 24, 18, 33, 25, 19, 0, 3, 29, 11, 12, 13, 31, 21, 16, 26, 27, 34, 20, 1, 23, 9, 17] with fitness 1.3826093885830195\n",
      "Neighbor: [4, 28, 6, 30, 15, 32, 10, 2, 5, 18, 8, 22, 7, 24, 14, 33, 25, 19, 0, 3, 29, 11, 12, 13, 31, 21, 16, 26, 27, 34, 20, 1, 23, 9, 17] with fitness 1.3876093885830194\n",
      "Neighbor: [4, 28, 6, 30, 15, 32, 10, 27, 5, 14, 8, 22, 7, 24, 18, 33, 25, 19, 0, 3, 29, 11, 12, 13, 31, 21, 16, 26, 2, 34, 20, 1, 23, 9, 17] with fitness 1.3304665314401625\n",
      "Neighbor: [4, 28, 6, 30, 15, 32, 10, 2, 5, 14, 8, 1, 7, 24, 18, 33, 25, 19, 0, 3, 29, 11, 12, 13, 31, 21, 16, 26, 27, 34, 20, 22, 23, 9, 17] with fitness 1.419120544769632\n",
      "Neighbor: [4, 28, 6, 30, 15, 32, 10, 2, 5, 14, 8, 22, 7, 24, 18, 33, 25, 19, 0, 3, 29, 11, 12, 13, 31, 21, 26, 16, 27, 34, 20, 1, 23, 9, 17] with fitness 1.3826093885830195\n",
      "Neighbor: [4, 28, 19, 30, 15, 32, 10, 2, 5, 14, 8, 22, 7, 24, 18, 33, 25, 6, 0, 3, 29, 11, 12, 13, 31, 21, 16, 26, 27, 34, 20, 1, 23, 9, 17] with fitness 1.403323674297305\n",
      "Neighbor: [4, 28, 6, 30, 15, 18, 10, 2, 5, 14, 8, 22, 7, 24, 32, 33, 25, 19, 0, 3, 29, 11, 12, 13, 31, 21, 16, 26, 27, 34, 20, 1, 23, 9, 17] with fitness 1.306180817154448\n",
      "Neighbor: [4, 28, 34, 30, 15, 32, 10, 2, 5, 14, 8, 22, 7, 24, 18, 33, 25, 19, 0, 3, 29, 11, 12, 13, 31, 21, 16, 26, 27, 6, 20, 1, 23, 9, 17] with fitness 1.3611808171544482\n",
      "Neighbor: [4, 28, 6, 30, 22, 32, 10, 2, 5, 14, 8, 15, 7, 24, 18, 33, 25, 19, 0, 3, 29, 11, 12, 13, 31, 21, 16, 26, 27, 34, 20, 1, 23, 9, 17] with fitness 1.3576093885830196\n",
      "Neighbor: [4, 28, 6, 30, 15, 32, 10, 2, 5, 14, 8, 22, 7, 24, 18, 33, 25, 19, 0, 3, 29, 11, 12, 13, 31, 1, 16, 26, 27, 34, 20, 21, 23, 9, 17] with fitness 1.4056635757751375\n",
      "Neighbor: [4, 28, 6, 30, 15, 32, 10, 2, 5, 14, 8, 22, 7, 24, 18, 33, 25, 19, 0, 3, 29, 11, 31, 13, 12, 21, 16, 26, 27, 34, 20, 1, 23, 9, 17] with fitness 1.3826093885830195\n",
      "Current solution: [4, 28, 6, 30, 15, 32, 10, 2, 5, 14, 8, 1, 7, 24, 18, 33, 25, 19, 0, 3, 29, 11, 12, 13, 31, 21, 16, 26, 27, 34, 20, 22, 23, 9, 17] with fitness 1.419120544769632\n",
      "Neighbor: [4, 28, 6, 30, 15, 32, 10, 2, 26, 14, 8, 1, 7, 24, 18, 33, 25, 19, 0, 3, 29, 11, 12, 13, 31, 21, 16, 5, 27, 34, 20, 22, 23, 9, 17] with fitness 1.3605491161982033\n",
      "Neighbor: [4, 28, 6, 30, 15, 32, 10, 2, 5, 14, 8, 1, 7, 24, 18, 33, 25, 19, 0, 3, 29, 11, 12, 13, 31, 21, 16, 26, 20, 34, 27, 22, 23, 9, 17] with fitness 1.3910938858301942\n",
      "Neighbor: [4, 28, 6, 30, 15, 32, 0, 2, 5, 14, 8, 1, 7, 24, 18, 33, 25, 19, 10, 3, 29, 11, 12, 13, 31, 21, 16, 26, 27, 34, 20, 22, 23, 9, 17] with fitness 1.4098348304839177\n",
      "Neighbor: [4, 28, 6, 30, 15, 32, 10, 2, 5, 14, 8, 1, 19, 24, 18, 33, 25, 7, 0, 3, 29, 11, 12, 13, 31, 21, 16, 26, 27, 34, 20, 22, 23, 9, 17] with fitness 1.399120544769632\n",
      "Neighbor: [4, 28, 26, 30, 15, 32, 10, 2, 5, 14, 8, 1, 7, 24, 18, 33, 25, 19, 0, 3, 29, 11, 12, 13, 31, 21, 16, 6, 27, 34, 20, 22, 23, 9, 17] with fitness 1.3734062590553462\n",
      "Neighbor: [4, 28, 6, 13, 15, 32, 10, 2, 5, 14, 8, 1, 7, 24, 18, 33, 25, 19, 0, 3, 29, 11, 12, 30, 31, 21, 16, 26, 27, 34, 20, 22, 23, 9, 17] with fitness 1.3734062590553462\n",
      "Neighbor: [4, 28, 6, 30, 15, 32, 10, 2, 5, 14, 8, 1, 7, 24, 18, 33, 11, 19, 0, 3, 29, 25, 12, 13, 31, 21, 16, 26, 27, 34, 20, 22, 23, 9, 17] with fitness 1.3369776876267747\n",
      "Neighbor: [4, 28, 6, 30, 15, 32, 10, 2, 5, 14, 8, 1, 31, 24, 18, 33, 25, 19, 0, 3, 29, 11, 12, 13, 7, 21, 16, 26, 27, 34, 20, 22, 23, 9, 17] with fitness 1.3612634019124892\n",
      "Neighbor: [13, 28, 6, 30, 15, 32, 10, 2, 5, 14, 8, 1, 7, 24, 18, 33, 25, 19, 0, 3, 29, 11, 12, 4, 31, 21, 16, 26, 27, 34, 20, 22, 23, 9, 17] with fitness 1.3205491161982035\n",
      "Neighbor: [4, 28, 6, 30, 15, 32, 10, 2, 5, 14, 8, 1, 7, 24, 18, 33, 25, 19, 27, 3, 29, 11, 12, 13, 31, 21, 16, 26, 0, 34, 20, 22, 23, 9, 17] with fitness 1.3941205447696319\n",
      "1.419120544769632\n"
     ]
    }
   ],
   "source": [
    "solution = hill_climbing(lineup, maximization=True, max_iter=1000, verbose=True)\n",
    "print(solution.fitness())"
   ]
  },
  {
   "cell_type": "code",
   "execution_count": 34,
   "id": "9f4cfdd3",
   "metadata": {},
   "outputs": [
    {
     "data": {
      "text/html": [
       "<div>\n",
       "<style scoped>\n",
       "    .dataframe tbody tr th:only-of-type {\n",
       "        vertical-align: middle;\n",
       "    }\n",
       "\n",
       "    .dataframe tbody tr th {\n",
       "        vertical-align: top;\n",
       "    }\n",
       "\n",
       "    .dataframe thead th {\n",
       "        text-align: right;\n",
       "    }\n",
       "</style>\n",
       "<table border=\"1\" class=\"dataframe\">\n",
       "  <thead>\n",
       "    <tr style=\"text-align: right;\">\n",
       "      <th></th>\n",
       "      <th>Slot</th>\n",
       "      <th>Stage 1</th>\n",
       "      <th>Stage 2</th>\n",
       "      <th>Stage 3</th>\n",
       "      <th>Stage 4</th>\n",
       "      <th>Stage 5</th>\n",
       "    </tr>\n",
       "  </thead>\n",
       "  <tbody>\n",
       "    <tr>\n",
       "      <th>0</th>\n",
       "      <td>Slot 1</td>\n",
       "      <td>4: The Silver Owls|Classical|85</td>\n",
       "      <td>28: The Polyrhythm Syndicate|Jazz|66</td>\n",
       "      <td>6: Aurora Skies|Pop|75</td>\n",
       "      <td>30: Turbo Vortex|Rock|53</td>\n",
       "      <td>15: Golden Ember|Rock|61</td>\n",
       "    </tr>\n",
       "    <tr>\n",
       "      <th>1</th>\n",
       "      <td>Slot 2</td>\n",
       "      <td>32: The Bassline Architects|Hip-Hop|61</td>\n",
       "      <td>10: The Wandering Notes|Jazz|84</td>\n",
       "      <td>2: Velvet Pulse|Jazz|35</td>\n",
       "      <td>5: Echo Chamber|Electronic|98</td>\n",
       "      <td>14: Synthwave Saints|Rock|94</td>\n",
       "    </tr>\n",
       "    <tr>\n",
       "      <th>2</th>\n",
       "      <td>Slot 3</td>\n",
       "      <td>8: Crimson Harmony|Classical|20</td>\n",
       "      <td>1: Solar Flare|Electronic|78</td>\n",
       "      <td>7: Static Mirage|Rock|94</td>\n",
       "      <td>24: Shadow Cadence|Jazz|66</td>\n",
       "      <td>18: Velvet Underground|Rock|72</td>\n",
       "    </tr>\n",
       "    <tr>\n",
       "      <th>3</th>\n",
       "      <td>Slot 4</td>\n",
       "      <td>33: Cosmic Frequency|Rock|53</td>\n",
       "      <td>25: Rhythm Alchemy|Jazz|94</td>\n",
       "      <td>19: Astral Tide|Electronic|69</td>\n",
       "      <td>0: Midnight Echo|Rock|75</td>\n",
       "      <td>3: Neon Reverie|Electronic|100</td>\n",
       "    </tr>\n",
       "    <tr>\n",
       "      <th>4</th>\n",
       "      <td>Slot 5</td>\n",
       "      <td>29: Harmonic Dissonance|Classical|96</td>\n",
       "      <td>11: Phantom Groove|Hip-Hop|47</td>\n",
       "      <td>12: Blue Horizon|Pop|51</td>\n",
       "      <td>13: Lunar Spectrum|Rock|99</td>\n",
       "      <td>31: The Jazz Nomads|Jazz|64</td>\n",
       "    </tr>\n",
       "    <tr>\n",
       "      <th>5</th>\n",
       "      <td>Slot 6</td>\n",
       "      <td>21: Celestial Voyage|Electronic|95</td>\n",
       "      <td>16: Mystic Rhythms|Classical|78</td>\n",
       "      <td>26: Cloud Nine Collective|Pop|97</td>\n",
       "      <td>27: Hypnotic Echoes|Rock|77</td>\n",
       "      <td>34: Parallel Dimension|Electronic|58</td>\n",
       "    </tr>\n",
       "    <tr>\n",
       "      <th>6</th>\n",
       "      <td>Slot 7</td>\n",
       "      <td>20: The Sonic Drifters|Rock|88</td>\n",
       "      <td>22: Quantum Beat|Hip-Hop|96</td>\n",
       "      <td>23: Electric Serpents|Electronic|99</td>\n",
       "      <td>9: Deep Resonance|Jazz|90</td>\n",
       "      <td>17: Nightfall Sonata|Classical|84</td>\n",
       "    </tr>\n",
       "  </tbody>\n",
       "</table>\n",
       "</div>"
      ],
      "text/plain": [
       "     Slot                                 Stage 1  \\\n",
       "0  Slot 1         4: The Silver Owls|Classical|85   \n",
       "1  Slot 2  32: The Bassline Architects|Hip-Hop|61   \n",
       "2  Slot 3         8: Crimson Harmony|Classical|20   \n",
       "3  Slot 4            33: Cosmic Frequency|Rock|53   \n",
       "4  Slot 5    29: Harmonic Dissonance|Classical|96   \n",
       "5  Slot 6      21: Celestial Voyage|Electronic|95   \n",
       "6  Slot 7          20: The Sonic Drifters|Rock|88   \n",
       "\n",
       "                                Stage 2                              Stage 3  \\\n",
       "0  28: The Polyrhythm Syndicate|Jazz|66               6: Aurora Skies|Pop|75   \n",
       "1       10: The Wandering Notes|Jazz|84              2: Velvet Pulse|Jazz|35   \n",
       "2          1: Solar Flare|Electronic|78             7: Static Mirage|Rock|94   \n",
       "3            25: Rhythm Alchemy|Jazz|94        19: Astral Tide|Electronic|69   \n",
       "4         11: Phantom Groove|Hip-Hop|47              12: Blue Horizon|Pop|51   \n",
       "5       16: Mystic Rhythms|Classical|78     26: Cloud Nine Collective|Pop|97   \n",
       "6           22: Quantum Beat|Hip-Hop|96  23: Electric Serpents|Electronic|99   \n",
       "\n",
       "                         Stage 4                               Stage 5  \n",
       "0       30: Turbo Vortex|Rock|53              15: Golden Ember|Rock|61  \n",
       "1  5: Echo Chamber|Electronic|98          14: Synthwave Saints|Rock|94  \n",
       "2     24: Shadow Cadence|Jazz|66        18: Velvet Underground|Rock|72  \n",
       "3       0: Midnight Echo|Rock|75        3: Neon Reverie|Electronic|100  \n",
       "4     13: Lunar Spectrum|Rock|99           31: The Jazz Nomads|Jazz|64  \n",
       "5    27: Hypnotic Echoes|Rock|77  34: Parallel Dimension|Electronic|58  \n",
       "6      9: Deep Resonance|Jazz|90     17: Nightfall Sonata|Classical|84  "
      ]
     },
     "execution_count": 34,
     "metadata": {},
     "output_type": "execute_result"
    }
   ],
   "source": [
    "visualize_musical_lineup(solution.repr, data.artists)"
   ]
  },
  {
   "cell_type": "markdown",
   "id": "59fc826b",
   "metadata": {},
   "source": [
    "### Roulette Wheel"
   ]
  },
  {
   "cell_type": "code",
   "execution_count": null,
   "id": "ea448fbd",
   "metadata": {},
   "outputs": [],
   "source": []
  }
 ],
 "metadata": {
  "kernelspec": {
   "display_name": "Python 3 (ipykernel)",
   "language": "python",
   "name": "python3"
  },
  "language_info": {
   "codemirror_mode": {
    "name": "ipython",
    "version": 3
   },
   "file_extension": ".py",
   "mimetype": "text/x-python",
   "name": "python",
   "nbconvert_exporter": "python",
   "pygments_lexer": "ipython3",
   "version": "3.12.2"
  }
 },
 "nbformat": 4,
 "nbformat_minor": 5
}
